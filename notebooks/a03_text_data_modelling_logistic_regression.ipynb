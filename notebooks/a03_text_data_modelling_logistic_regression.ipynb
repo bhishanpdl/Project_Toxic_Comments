{
  "nbformat": 4,
  "nbformat_minor": 0,
  "metadata": {
    "colab": {
      "name": "a03_text_data_modelling_logistic_regression.ipynb",
      "provenance": [],
      "collapsed_sections": []
    },
    "kernelspec": {
      "name": "python3",
      "display_name": "Python 3"
    }
  },
  "cells": [
    {
      "cell_type": "markdown",
      "metadata": {
        "id": "cLqGAQYjw_0x",
        "colab_type": "text"
      },
      "source": [
        "# Introduction\n",
        "[Data Description](https://www.kaggle.com/c/jigsaw-toxic-comment-classification-challenge/data)\n",
        "\n",
        "\n",
        "You are provided with a large number of Wikipedia comments which have been labeled by human raters for toxic behavior. The types of toxicity are:\n",
        "```\n",
        "toxic\n",
        "severe_toxic\n",
        "obscene\n",
        "threat\n",
        "insult\n",
        "identity_hate\n",
        "```\n",
        "You must create a model which predicts a probability of each type of toxicity for each comment.\n"
      ]
    },
    {
      "cell_type": "markdown",
      "metadata": {
        "id": "hz_92TLlxCsY",
        "colab_type": "text"
      },
      "source": [
        "# Imports"
      ]
    },
    {
      "cell_type": "code",
      "metadata": {
        "id": "5Hy6h3oeN3uV",
        "colab_type": "code",
        "outputId": "445f09dd-760b-453b-907d-fc202d9814fd",
        "colab": {
          "base_uri": "https://localhost:8080/",
          "height": 34
        }
      },
      "source": [
        "import numpy as np\n",
        "import pandas as pd\n",
        "import seaborn as sns\n",
        "sns.set(color_codes=True)\n",
        "\n",
        "import matplotlib\n",
        "import matplotlib.pyplot as plt\n",
        "%matplotlib inline\n",
        "%config InlineBackend.figure_format = 'retina'\n",
        "sns.set(context='notebook', style='whitegrid', rc={'figure.figsize': (12,8)})\n",
        "plt.style.use('ggplot') # better than sns styles.\n",
        "matplotlib.rcParams['figure.figsize'] = 12,8\n",
        "\n",
        "import os\n",
        "import time\n",
        "\n",
        "# random state\n",
        "SEED=100\n",
        "np.random.seed(SEED)\n",
        "\n",
        "# Jupyter notebook settings for pandas\n",
        "#pd.set_option('display.float_format', '{:,.2g}'.format) # numbers sep by comma\n",
        "from pandas.api.types import CategoricalDtype\n",
        "np.set_printoptions(precision=3)\n",
        "pd.set_option('display.max_columns', 100)\n",
        "pd.set_option('display.max_rows', 100) # None for all the rows\n",
        "pd.set_option('display.max_colwidth', 500)\n",
        "\n",
        "import IPython\n",
        "from IPython.display import display, HTML, Image, Markdown\n",
        "\n",
        "print([(x.__name__,x.__version__) for x in [np, pd,sns,matplotlib]])"
      ],
      "execution_count": 10,
      "outputs": [
        {
          "output_type": "stream",
          "text": [
            "[('numpy', '1.17.4'), ('pandas', '0.25.3'), ('seaborn', '0.9.0'), ('matplotlib', '3.1.1')]\n"
          ],
          "name": "stdout"
        }
      ]
    },
    {
      "cell_type": "code",
      "metadata": {
        "id": "ZWwnmdDd-_Wz",
        "colab_type": "code",
        "colab": {}
      },
      "source": [
        "import re\n",
        "import string # string.punctuation\n",
        "import string\n",
        "from string import digits"
      ],
      "execution_count": 0,
      "outputs": []
    },
    {
      "cell_type": "code",
      "metadata": {
        "id": "rrX8JS1Dx5aS",
        "colab_type": "code",
        "outputId": "4f08eb44-c8b4-42d6-b700-8a3cc17bb7f9",
        "colab": {
          "base_uri": "https://localhost:8080/",
          "height": 123
        }
      },
      "source": [
        "import nltk\n",
        "from nltk import word_tokenize\n",
        "from nltk.stem import WordNetLemmatizer\n",
        "\n",
        "nltk.download('stopwords')\n",
        "nltk.download('wordnet')\n",
        "nltk.download('punkt')\n",
        "\n",
        "\n",
        "from nltk.corpus import stopwords\n",
        "stop_words = stopwords.words('english')"
      ],
      "execution_count": 12,
      "outputs": [
        {
          "output_type": "stream",
          "text": [
            "[nltk_data] Downloading package stopwords to /root/nltk_data...\n",
            "[nltk_data]   Package stopwords is already up-to-date!\n",
            "[nltk_data] Downloading package wordnet to /root/nltk_data...\n",
            "[nltk_data]   Package wordnet is already up-to-date!\n",
            "[nltk_data] Downloading package punkt to /root/nltk_data...\n",
            "[nltk_data]   Package punkt is already up-to-date!\n"
          ],
          "name": "stdout"
        }
      ]
    },
    {
      "cell_type": "code",
      "metadata": {
        "id": "UPNaf1UuvpFd",
        "colab_type": "code",
        "outputId": "979720bc-74fd-4e4b-a370-f7c33988ff08",
        "colab": {
          "base_uri": "https://localhost:8080/",
          "height": 34
        }
      },
      "source": [
        "ENV_BHISHAN = None\n",
        "\n",
        "try:\n",
        "    import bhishan\n",
        "    ENV_BHISHAN = True\n",
        "    print(\"Environment: Bhishan's Laptop\")\n",
        "except:\n",
        "    pass\n",
        "\n",
        "\n",
        "import sys\n",
        "ENV_COLAB = 'google.colab' in sys.modules\n",
        "\n",
        "if ENV_COLAB:\n",
        "    # load google drive\n",
        "    # from google.colab import drive\n",
        "    # drive.mount('/content/drive')\n",
        "    # dat_dir = 'drive/My Drive/Colab Notebooks/data/' \n",
        "    # sys.path.append(dat_dir)\n",
        "    \n",
        "    # pip install\n",
        "    #!pip install pyldavis\n",
        "    #!pip install hyperopt\n",
        "    #!pip install catboost\n",
        "\n",
        "    # upgrade tqdm and restart to use df.progess_apply()\n",
        "    # !pip install -U tqdm\n",
        "    \n",
        "    # print\n",
        "    print('Environment: Google Colaboratory.')"
      ],
      "execution_count": 1,
      "outputs": [
        {
          "output_type": "stream",
          "text": [
            "Environment: Google Colaboratory.\n"
          ],
          "name": "stdout"
        }
      ]
    },
    {
      "cell_type": "code",
      "metadata": {
        "id": "u_VldH_b0XDH",
        "colab_type": "code",
        "colab": {}
      },
      "source": [
        "import scipy"
      ],
      "execution_count": 0,
      "outputs": []
    },
    {
      "cell_type": "code",
      "metadata": {
        "id": "e7a4ZVWd0yPf",
        "colab_type": "code",
        "colab": {}
      },
      "source": [
        "# pipeline\n",
        "from sklearn.pipeline import Pipeline, make_pipeline, FeatureUnion\n",
        "from sklearn.base import BaseEstimator, ClassifierMixin"
      ],
      "execution_count": 0,
      "outputs": []
    },
    {
      "cell_type": "code",
      "metadata": {
        "id": "94saqh2y0uY-",
        "colab_type": "code",
        "colab": {}
      },
      "source": [
        "# text features\n",
        "from sklearn.feature_extraction.text import TfidfVectorizer"
      ],
      "execution_count": 0,
      "outputs": []
    },
    {
      "cell_type": "code",
      "metadata": {
        "id": "M7Pn9oPf0pt0",
        "colab_type": "code",
        "colab": {}
      },
      "source": [
        "# classifiers\n",
        "from sklearn.linear_model import LogisticRegression\n"
      ],
      "execution_count": 0,
      "outputs": []
    },
    {
      "cell_type": "code",
      "metadata": {
        "id": "iwPFzqNI0m1G",
        "colab_type": "code",
        "colab": {}
      },
      "source": [
        "# model selection\n",
        "from sklearn.model_selection import cross_val_score, GridSearchCV, RandomizedSearchCV\n",
        "from sklearn.metrics import roc_auc_score"
      ],
      "execution_count": 0,
      "outputs": []
    },
    {
      "cell_type": "markdown",
      "metadata": {
        "id": "p3raAHdOm3bi",
        "colab_type": "text"
      },
      "source": [
        "# Useful Scripts"
      ]
    },
    {
      "cell_type": "code",
      "metadata": {
        "id": "j7hZ4ifym2qt",
        "colab_type": "code",
        "colab": {}
      },
      "source": [
        "def show_method_attributes(obj, ncols=7,start=None, inside=None):\n",
        "    \"\"\" Show all the attributes of a given method.\n",
        "    Example:\n",
        "    ========\n",
        "    show_method_attributes(list)\n",
        "     \"\"\"\n",
        "\n",
        "    print(f'Object Type: {type(obj)}\\n')\n",
        "    lst = [elem for elem in dir(obj) if elem[0]!='_' ]\n",
        "    lst = [elem for elem in lst \n",
        "           if elem not in 'os np pd sys time psycopg2'.split() ]\n",
        "\n",
        "    if isinstance(start,str):\n",
        "        lst = [elem for elem in lst if elem.startswith(start)]\n",
        "        \n",
        "    if isinstance(start,tuple) or isinstance(start,list):\n",
        "        lst = [elem for elem in lst for start_elem in start\n",
        "               if elem.startswith(start_elem)]\n",
        "        \n",
        "    if isinstance(inside,str):\n",
        "        lst = [elem for elem in lst if inside in elem]\n",
        "        \n",
        "    if isinstance(inside,tuple) or isinstance(inside,list):\n",
        "        lst = [elem for elem in lst for inside_elem in inside\n",
        "               if inside_elem in elem]\n",
        "\n",
        "    return pd.DataFrame(np.array_split(lst,ncols)).T.fillna('')"
      ],
      "execution_count": 0,
      "outputs": []
    },
    {
      "cell_type": "markdown",
      "metadata": {
        "id": "v7k21erixFaY",
        "colab_type": "text"
      },
      "source": [
        "# Load the Data"
      ]
    },
    {
      "cell_type": "code",
      "metadata": {
        "id": "uCdh_yNNOTCi",
        "colab_type": "code",
        "outputId": "6470ac5d-f2a5-432e-d6a0-afd84e82c7cf",
        "colab": {
          "base_uri": "https://localhost:8080/",
          "height": 498
        }
      },
      "source": [
        "ifile1_train = '../data/raw/train.csv'\n",
        "ifile2_train = 'https://github.com/bhishanpdl/Project_Toxic_Comments/blob/master/data/raw/train.csv?raw=true'\n",
        "\n",
        "ifile1_test = '../data/raw/test.csv'\n",
        "ifile2_test = 'https://github.com/bhishanpdl/Project_Toxic_Comments/blob/master/data/raw/test.csv?raw=true'\n",
        "\n",
        "if ENV_BHISHAN:\n",
        "    df_raw_train = pd.read_csv(ifile1_train)\n",
        "    df_raw_test = pd.read_csv(ifile1_test)\n",
        "\n",
        "\n",
        "if ENV_COLAB:\n",
        "    df_raw_train = pd.read_csv(ifile2_train)\n",
        "    df_raw_test = pd.read_csv(ifile2_test)\n",
        "    pass\n",
        "\n",
        "\n",
        "df_train = df_raw_train.copy()\n",
        "df_test = df_raw_test.copy()\n",
        "\n",
        "print(df_train.shape)\n",
        "df_train.head()"
      ],
      "execution_count": 18,
      "outputs": [
        {
          "output_type": "stream",
          "text": [
            "(159571, 8)\n"
          ],
          "name": "stdout"
        },
        {
          "output_type": "execute_result",
          "data": {
            "text/html": [
              "<div>\n",
              "<style scoped>\n",
              "    .dataframe tbody tr th:only-of-type {\n",
              "        vertical-align: middle;\n",
              "    }\n",
              "\n",
              "    .dataframe tbody tr th {\n",
              "        vertical-align: top;\n",
              "    }\n",
              "\n",
              "    .dataframe thead th {\n",
              "        text-align: right;\n",
              "    }\n",
              "</style>\n",
              "<table border=\"1\" class=\"dataframe\">\n",
              "  <thead>\n",
              "    <tr style=\"text-align: right;\">\n",
              "      <th></th>\n",
              "      <th>id</th>\n",
              "      <th>comment_text</th>\n",
              "      <th>toxic</th>\n",
              "      <th>severe_toxic</th>\n",
              "      <th>obscene</th>\n",
              "      <th>threat</th>\n",
              "      <th>insult</th>\n",
              "      <th>identity_hate</th>\n",
              "    </tr>\n",
              "  </thead>\n",
              "  <tbody>\n",
              "    <tr>\n",
              "      <th>0</th>\n",
              "      <td>0000997932d777bf</td>\n",
              "      <td>Explanation\\nWhy the edits made under my username Hardcore Metallica Fan were reverted? They weren't vandalisms, just closure on some GAs after I voted at New York Dolls FAC. And please don't remove the template from the talk page since I'm retired now.89.205.38.27</td>\n",
              "      <td>0</td>\n",
              "      <td>0</td>\n",
              "      <td>0</td>\n",
              "      <td>0</td>\n",
              "      <td>0</td>\n",
              "      <td>0</td>\n",
              "    </tr>\n",
              "    <tr>\n",
              "      <th>1</th>\n",
              "      <td>000103f0d9cfb60f</td>\n",
              "      <td>D'aww! He matches this background colour I'm seemingly stuck with. Thanks.  (talk) 21:51, January 11, 2016 (UTC)</td>\n",
              "      <td>0</td>\n",
              "      <td>0</td>\n",
              "      <td>0</td>\n",
              "      <td>0</td>\n",
              "      <td>0</td>\n",
              "      <td>0</td>\n",
              "    </tr>\n",
              "    <tr>\n",
              "      <th>2</th>\n",
              "      <td>000113f07ec002fd</td>\n",
              "      <td>Hey man, I'm really not trying to edit war. It's just that this guy is constantly removing relevant information and talking to me through edits instead of my talk page. He seems to care more about the formatting than the actual info.</td>\n",
              "      <td>0</td>\n",
              "      <td>0</td>\n",
              "      <td>0</td>\n",
              "      <td>0</td>\n",
              "      <td>0</td>\n",
              "      <td>0</td>\n",
              "    </tr>\n",
              "    <tr>\n",
              "      <th>3</th>\n",
              "      <td>0001b41b1c6bb37e</td>\n",
              "      <td>\"\\nMore\\nI can't make any real suggestions on improvement - I wondered if the section statistics should be later on, or a subsection of \"\"types of accidents\"\"  -I think the references may need tidying so that they are all in the exact same format ie date format etc. I can do that later on, if no-one else does first - if you have any preferences for formatting style on references or want to do it yourself please let me know.\\n\\nThere appears to be a backlog on articles for review so I guess t...</td>\n",
              "      <td>0</td>\n",
              "      <td>0</td>\n",
              "      <td>0</td>\n",
              "      <td>0</td>\n",
              "      <td>0</td>\n",
              "      <td>0</td>\n",
              "    </tr>\n",
              "    <tr>\n",
              "      <th>4</th>\n",
              "      <td>0001d958c54c6e35</td>\n",
              "      <td>You, sir, are my hero. Any chance you remember what page that's on?</td>\n",
              "      <td>0</td>\n",
              "      <td>0</td>\n",
              "      <td>0</td>\n",
              "      <td>0</td>\n",
              "      <td>0</td>\n",
              "      <td>0</td>\n",
              "    </tr>\n",
              "  </tbody>\n",
              "</table>\n",
              "</div>"
            ],
            "text/plain": [
              "                 id  \\\n",
              "0  0000997932d777bf   \n",
              "1  000103f0d9cfb60f   \n",
              "2  000113f07ec002fd   \n",
              "3  0001b41b1c6bb37e   \n",
              "4  0001d958c54c6e35   \n",
              "\n",
              "                                                                                                                                                                                                                                                                                                                                                                                                                                                                                                          comment_text  \\\n",
              "0                                                                                                                                                                                                                                            Explanation\\nWhy the edits made under my username Hardcore Metallica Fan were reverted? They weren't vandalisms, just closure on some GAs after I voted at New York Dolls FAC. And please don't remove the template from the talk page since I'm retired now.89.205.38.27   \n",
              "1                                                                                                                                                                                                                                                                                                                                                                                                     D'aww! He matches this background colour I'm seemingly stuck with. Thanks.  (talk) 21:51, January 11, 2016 (UTC)   \n",
              "2                                                                                                                                                                                                                                                                            Hey man, I'm really not trying to edit war. It's just that this guy is constantly removing relevant information and talking to me through edits instead of my talk page. He seems to care more about the formatting than the actual info.   \n",
              "3  \"\\nMore\\nI can't make any real suggestions on improvement - I wondered if the section statistics should be later on, or a subsection of \"\"types of accidents\"\"  -I think the references may need tidying so that they are all in the exact same format ie date format etc. I can do that later on, if no-one else does first - if you have any preferences for formatting style on references or want to do it yourself please let me know.\\n\\nThere appears to be a backlog on articles for review so I guess t...   \n",
              "4                                                                                                                                                                                                                                                                                                                                                                                                                                                  You, sir, are my hero. Any chance you remember what page that's on?   \n",
              "\n",
              "   toxic  severe_toxic  obscene  threat  insult  identity_hate  \n",
              "0      0             0        0       0       0              0  \n",
              "1      0             0        0       0       0              0  \n",
              "2      0             0        0       0       0              0  \n",
              "3      0             0        0       0       0              0  \n",
              "4      0             0        0       0       0              0  "
            ]
          },
          "metadata": {
            "tags": []
          },
          "execution_count": 18
        }
      ]
    },
    {
      "cell_type": "code",
      "metadata": {
        "id": "1DqDPeNh2lxK",
        "colab_type": "code",
        "colab": {
          "base_uri": "https://localhost:8080/",
          "height": 265
        },
        "outputId": "b0098e3b-3a49-4265-b148-7f8cc0148455"
      },
      "source": [
        "print(df_test.shape)\n",
        "df_test.head()"
      ],
      "execution_count": 19,
      "outputs": [
        {
          "output_type": "stream",
          "text": [
            "(153164, 2)\n"
          ],
          "name": "stdout"
        },
        {
          "output_type": "execute_result",
          "data": {
            "text/html": [
              "<div>\n",
              "<style scoped>\n",
              "    .dataframe tbody tr th:only-of-type {\n",
              "        vertical-align: middle;\n",
              "    }\n",
              "\n",
              "    .dataframe tbody tr th {\n",
              "        vertical-align: top;\n",
              "    }\n",
              "\n",
              "    .dataframe thead th {\n",
              "        text-align: right;\n",
              "    }\n",
              "</style>\n",
              "<table border=\"1\" class=\"dataframe\">\n",
              "  <thead>\n",
              "    <tr style=\"text-align: right;\">\n",
              "      <th></th>\n",
              "      <th>id</th>\n",
              "      <th>comment_text</th>\n",
              "    </tr>\n",
              "  </thead>\n",
              "  <tbody>\n",
              "    <tr>\n",
              "      <th>0</th>\n",
              "      <td>00001cee341fdb12</td>\n",
              "      <td>Yo bitch Ja Rule is more succesful then you'll ever be whats up with you and hating you sad mofuckas...i should bitch slap ur pethedic white faces and get you to kiss my ass you guys sicken me. Ja rule is about pride in da music man. dont diss that shit on him. and nothin is wrong bein like tupac he was a brother too...fuckin white boys get things right next time.,</td>\n",
              "    </tr>\n",
              "    <tr>\n",
              "      <th>1</th>\n",
              "      <td>0000247867823ef7</td>\n",
              "      <td>== From RfC == \\n\\n The title is fine as it is, IMO.</td>\n",
              "    </tr>\n",
              "    <tr>\n",
              "      <th>2</th>\n",
              "      <td>00013b17ad220c46</td>\n",
              "      <td>\" \\n\\n == Sources == \\n\\n * Zawe Ashton on Lapland —  /  \"</td>\n",
              "    </tr>\n",
              "    <tr>\n",
              "      <th>3</th>\n",
              "      <td>00017563c3f7919a</td>\n",
              "      <td>:If you have a look back at the source, the information I updated was the correct form. I can only guess the source hadn't updated. I shall update the information once again but thank you for your message.</td>\n",
              "    </tr>\n",
              "    <tr>\n",
              "      <th>4</th>\n",
              "      <td>00017695ad8997eb</td>\n",
              "      <td>I don't anonymously edit articles at all.</td>\n",
              "    </tr>\n",
              "  </tbody>\n",
              "</table>\n",
              "</div>"
            ],
            "text/plain": [
              "                 id  \\\n",
              "0  00001cee341fdb12   \n",
              "1  0000247867823ef7   \n",
              "2  00013b17ad220c46   \n",
              "3  00017563c3f7919a   \n",
              "4  00017695ad8997eb   \n",
              "\n",
              "                                                                                                                                                                                                                                                                                                                                                                      comment_text  \n",
              "0  Yo bitch Ja Rule is more succesful then you'll ever be whats up with you and hating you sad mofuckas...i should bitch slap ur pethedic white faces and get you to kiss my ass you guys sicken me. Ja rule is about pride in da music man. dont diss that shit on him. and nothin is wrong bein like tupac he was a brother too...fuckin white boys get things right next time.,  \n",
              "1                                                                                                                                                                                                                                                                                                                             == From RfC == \\n\\n The title is fine as it is, IMO.  \n",
              "2                                                                                                                                                                                                                                                                                                                       \" \\n\\n == Sources == \\n\\n * Zawe Ashton on Lapland —  /  \"  \n",
              "3                                                                                                                                                                    :If you have a look back at the source, the information I updated was the correct form. I can only guess the source hadn't updated. I shall update the information once again but thank you for your message.  \n",
              "4                                                                                                                                                                                                                                                                                                                                        I don't anonymously edit articles at all.  "
            ]
          },
          "metadata": {
            "tags": []
          },
          "execution_count": 19
        }
      ]
    },
    {
      "cell_type": "code",
      "metadata": {
        "id": "T5QnZPgXT1AT",
        "colab_type": "code",
        "outputId": "3a6981e5-b9fb-47ad-ac00-56a14ee4d177",
        "colab": {
          "base_uri": "https://localhost:8080/",
          "height": 242
        }
      },
      "source": [
        "df_train['clean'] = df_train.loc[:,'toxic':'identity_hate'].sum(axis=1) == 0\n",
        "\n",
        "print(df_train['clean'].sum())\n",
        "\n",
        "df_train.head(2)"
      ],
      "execution_count": 22,
      "outputs": [
        {
          "output_type": "stream",
          "text": [
            "143346\n"
          ],
          "name": "stdout"
        },
        {
          "output_type": "execute_result",
          "data": {
            "text/html": [
              "<div>\n",
              "<style scoped>\n",
              "    .dataframe tbody tr th:only-of-type {\n",
              "        vertical-align: middle;\n",
              "    }\n",
              "\n",
              "    .dataframe tbody tr th {\n",
              "        vertical-align: top;\n",
              "    }\n",
              "\n",
              "    .dataframe thead th {\n",
              "        text-align: right;\n",
              "    }\n",
              "</style>\n",
              "<table border=\"1\" class=\"dataframe\">\n",
              "  <thead>\n",
              "    <tr style=\"text-align: right;\">\n",
              "      <th></th>\n",
              "      <th>id</th>\n",
              "      <th>comment_text</th>\n",
              "      <th>toxic</th>\n",
              "      <th>severe_toxic</th>\n",
              "      <th>obscene</th>\n",
              "      <th>threat</th>\n",
              "      <th>insult</th>\n",
              "      <th>identity_hate</th>\n",
              "      <th>clean</th>\n",
              "    </tr>\n",
              "  </thead>\n",
              "  <tbody>\n",
              "    <tr>\n",
              "      <th>0</th>\n",
              "      <td>0000997932d777bf</td>\n",
              "      <td>Explanation\\nWhy the edits made under my username Hardcore Metallica Fan were reverted? They weren't vandalisms, just closure on some GAs after I voted at New York Dolls FAC. And please don't remove the template from the talk page since I'm retired now.89.205.38.27</td>\n",
              "      <td>0</td>\n",
              "      <td>0</td>\n",
              "      <td>0</td>\n",
              "      <td>0</td>\n",
              "      <td>0</td>\n",
              "      <td>0</td>\n",
              "      <td>True</td>\n",
              "    </tr>\n",
              "    <tr>\n",
              "      <th>1</th>\n",
              "      <td>000103f0d9cfb60f</td>\n",
              "      <td>D'aww! He matches this background colour I'm seemingly stuck with. Thanks.  (talk) 21:51, January 11, 2016 (UTC)</td>\n",
              "      <td>0</td>\n",
              "      <td>0</td>\n",
              "      <td>0</td>\n",
              "      <td>0</td>\n",
              "      <td>0</td>\n",
              "      <td>0</td>\n",
              "      <td>True</td>\n",
              "    </tr>\n",
              "  </tbody>\n",
              "</table>\n",
              "</div>"
            ],
            "text/plain": [
              "                 id  \\\n",
              "0  0000997932d777bf   \n",
              "1  000103f0d9cfb60f   \n",
              "\n",
              "                                                                                                                                                                                                                                                                comment_text  \\\n",
              "0  Explanation\\nWhy the edits made under my username Hardcore Metallica Fan were reverted? They weren't vandalisms, just closure on some GAs after I voted at New York Dolls FAC. And please don't remove the template from the talk page since I'm retired now.89.205.38.27   \n",
              "1                                                                                                                                                           D'aww! He matches this background colour I'm seemingly stuck with. Thanks.  (talk) 21:51, January 11, 2016 (UTC)   \n",
              "\n",
              "   toxic  severe_toxic  obscene  threat  insult  identity_hate  clean  \n",
              "0      0             0        0       0       0              0   True  \n",
              "1      0             0        0       0       0              0   True  "
            ]
          },
          "metadata": {
            "tags": []
          },
          "execution_count": 22
        }
      ]
    },
    {
      "cell_type": "markdown",
      "metadata": {
        "id": "YRjEdIaY4SG-",
        "colab_type": "text"
      },
      "source": [
        "# Class distribution"
      ]
    },
    {
      "cell_type": "code",
      "metadata": {
        "id": "L3Qwi_nRVXJu",
        "colab_type": "code",
        "outputId": "9af7ca6e-372f-4e43-a2c5-22ce9e274843",
        "colab": {
          "base_uri": "https://localhost:8080/",
          "height": 141
        }
      },
      "source": [
        "ser_sum = df_train.iloc[:,2:].sum(axis=0)\n",
        "ser_sum"
      ],
      "execution_count": 20,
      "outputs": [
        {
          "output_type": "execute_result",
          "data": {
            "text/plain": [
              "toxic            15294\n",
              "severe_toxic      1595\n",
              "obscene           8449\n",
              "threat             478\n",
              "insult            7877\n",
              "identity_hate     1405\n",
              "dtype: int64"
            ]
          },
          "metadata": {
            "tags": []
          },
          "execution_count": 20
        }
      ]
    },
    {
      "cell_type": "code",
      "metadata": {
        "id": "fMAf8TonVdgW",
        "colab_type": "code",
        "outputId": "a475c9fd-a2ea-4795-8554-cd6a55c32c16",
        "colab": {
          "base_uri": "https://localhost:8080/",
          "height": 550
        }
      },
      "source": [
        "ax = ser_sum.sort_values().plot.bar(color=sns.color_palette('husl',len(ser_sum)))\n",
        "\n",
        "for p in ax.patches:\n",
        "    x,y = p.get_x(), p.get_height()\n",
        "    ax.text(x,y,f'{y:,.0f}',fontsize=14,color='blue')"
      ],
      "execution_count": 21,
      "outputs": [
        {
          "output_type": "display_data",
          "data": {
            "image/png": "[encoded data removed]",
            "text/plain": [
              "<Figure size 864x576 with 1 Axes>"
            ]
          },
          "metadata": {
            "tags": [],
            "image/png": {
              "width": 728,
              "height": 533
            }
          }
        }
      ]
    },
    {
      "cell_type": "markdown",
      "metadata": {
        "id": "sz8xbUOq3DR5",
        "colab_type": "text"
      },
      "source": [
        "# Train Target Split"
      ]
    },
    {
      "cell_type": "code",
      "metadata": {
        "id": "gWGQk8wB3Gu_",
        "colab_type": "code",
        "colab": {
          "base_uri": "https://localhost:8080/",
          "height": 34
        },
        "outputId": "1ea7c7bf-3414-47d4-8eb7-7dff9fa2fff6"
      },
      "source": [
        "Xtrain = df_train.loc[:5000, 'comment_text'].to_numpy()\n",
        "ytrain = df_train.loc[:5000, 'toxic'].to_numpy()\n",
        "\n",
        "ytrain[:5]"
      ],
      "execution_count": 24,
      "outputs": [
        {
          "output_type": "execute_result",
          "data": {
            "text/plain": [
              "array([0, 0, 0, 0, 0])"
            ]
          },
          "metadata": {
            "tags": []
          },
          "execution_count": 24
        }
      ]
    },
    {
      "cell_type": "markdown",
      "metadata": {
        "id": "PhmSKkExtnou",
        "colab_type": "text"
      },
      "source": [
        "# Text Modelling: Logistic Regression"
      ]
    },
    {
      "cell_type": "code",
      "metadata": {
        "id": "227AmzGG1fsB",
        "colab_type": "code",
        "colab": {}
      },
      "source": [
        "# default params\n",
        "scoring='roc_auc'\n",
        "cv=3\n",
        "n_jobs=-1\n",
        "max_features = 2500"
      ],
      "execution_count": 0,
      "outputs": []
    },
    {
      "cell_type": "markdown",
      "metadata": {
        "id": "wlQIEqek4ZH7",
        "colab_type": "text"
      },
      "source": [
        "## Baseline Logistic Regression"
      ]
    },
    {
      "cell_type": "code",
      "metadata": {
        "id": "GNR5KVTM1gKS",
        "colab_type": "code",
        "colab": {
          "base_uri": "https://localhost:8080/",
          "height": 34
        },
        "outputId": "67880c65-0dce-4a49-c2b5-54db8b99602a"
      },
      "source": [
        "tfidf = TfidfVectorizer(max_features=max_features)\n",
        "lr = LogisticRegression()\n",
        "p = Pipeline([\n",
        "    ('tfidf', tfidf),\n",
        "    ('lr', lr)\n",
        "])\n",
        "\n",
        "cvs = cross_val_score(estimator=p, X=Xtrain, y=ytrain, scoring=scoring, cv=cv, n_jobs=n_jobs)\n",
        "\n",
        "cvs.mean().round(4)"
      ],
      "execution_count": 27,
      "outputs": [
        {
          "output_type": "execute_result",
          "data": {
            "text/plain": [
              "0.9226"
            ]
          },
          "metadata": {
            "tags": []
          },
          "execution_count": 27
        }
      ]
    },
    {
      "cell_type": "markdown",
      "metadata": {
        "id": "lSkXMxD03rxg",
        "colab_type": "text"
      },
      "source": [
        "## Model 2: NBFeaturer"
      ]
    },
    {
      "cell_type": "code",
      "metadata": {
        "id": "8QTXNXND4YJq",
        "colab_type": "code",
        "colab": {}
      },
      "source": [
        "import scipy\n",
        "\n",
        "class NBFeaturer(BaseEstimator):\n",
        "    def __init__(self, alpha):\n",
        "        self.alpha = alpha\n",
        "    \n",
        "    def preprocess_x(self, x, r):\n",
        "        return x.multiply(r)\n",
        "    \n",
        "    def pr(self, x, y_i, y):\n",
        "        p = x[y==y_i].sum(0)\n",
        "        return (p+self.alpha) / ((y==y_i).sum()+self.alpha)\n",
        "\n",
        "    def fit(self, x, y=None):\n",
        "        self._r = scipy.sparse.csr_matrix(np.log(self.pr(x,1,y) / self.pr(x,0,y)))\n",
        "        return self\n",
        "    \n",
        "    def transform(self, x):\n",
        "        x_nb = self.preprocess_x(x, self._r)\n",
        "        return x_nb"
      ],
      "execution_count": 0,
      "outputs": []
    },
    {
      "cell_type": "code",
      "metadata": {
        "id": "nCHsqxyW4egV",
        "colab_type": "code",
        "colab": {
          "base_uri": "https://localhost:8080/",
          "height": 34
        },
        "outputId": "7806824c-173d-47f1-e23c-a2caf53ba40c"
      },
      "source": [
        "tfidf = TfidfVectorizer(max_features=max_features)\n",
        "lr = LogisticRegression()\n",
        "nb = NBFeaturer(1)\n",
        "p = Pipeline([\n",
        "    ('tfidf', tfidf),\n",
        "    ('nb', nb),\n",
        "    ('lr', lr)\n",
        "])\n",
        "\n",
        "cvs = cross_val_score(estimator=p, X=Xtrain, y=ytrain, scoring=scoring, cv=cv, n_jobs=n_jobs)\n",
        "cvs.mean().round(4)"
      ],
      "execution_count": 34,
      "outputs": [
        {
          "output_type": "execute_result",
          "data": {
            "text/plain": [
              "0.9246"
            ]
          },
          "metadata": {
            "tags": []
          },
          "execution_count": 34
        }
      ]
    },
    {
      "cell_type": "markdown",
      "metadata": {
        "id": "1ZZvbl8z4lB6",
        "colab_type": "text"
      },
      "source": [
        "# Model 3: NBFeaturer + Lemmatizer"
      ]
    },
    {
      "cell_type": "code",
      "metadata": {
        "id": "5fsDOBDL46pG",
        "colab_type": "code",
        "colab": {}
      },
      "source": [
        "class Lemmatizer(BaseEstimator):\n",
        "    def __init__(self):\n",
        "        self.l = WordNetLemmatizer()\n",
        "        \n",
        "    def fit(self, x, y=None):\n",
        "        return self\n",
        "    \n",
        "    def transform(self, x):\n",
        "        x = map(lambda r:  ' '.join([self.l.lemmatize(i.lower()) for i in r.split()]), x)\n",
        "        x = np.array(list(x))\n",
        "        return x"
      ],
      "execution_count": 0,
      "outputs": []
    },
    {
      "cell_type": "code",
      "metadata": {
        "id": "kNhab_no49pA",
        "colab_type": "code",
        "colab": {
          "base_uri": "https://localhost:8080/",
          "height": 34
        },
        "outputId": "3f5ae839-e7ef-4bc7-b2b9-f9dae5be089c"
      },
      "source": [
        "lm = Lemmatizer()\n",
        "tfidf = TfidfVectorizer(max_features=max_features)\n",
        "lr = LogisticRegression()\n",
        "nb = NBFeaturer(1)\n",
        "\n",
        "p = Pipeline([\n",
        "    ('lm', lm),\n",
        "    ('tfidf', tfidf),\n",
        "    ('nb', nb),\n",
        "    ('lr', lr)\n",
        "])\n",
        "\n",
        "cvs = cross_val_score(estimator=p, X=Xtrain, y=ytrain, scoring=scoring, cv=cv, n_jobs=n_jobs)\n",
        "cvs.mean().round(4)"
      ],
      "execution_count": 36,
      "outputs": [
        {
          "output_type": "execute_result",
          "data": {
            "text/plain": [
              "0.9258"
            ]
          },
          "metadata": {
            "tags": []
          },
          "execution_count": 36
        }
      ]
    },
    {
      "cell_type": "markdown",
      "metadata": {
        "id": "h3nigSLS5CvW",
        "colab_type": "text"
      },
      "source": [
        "## Model 4: NBFeaturer + Lemmatizer + two tfidfs"
      ]
    },
    {
      "cell_type": "code",
      "metadata": {
        "id": "JZZ9XB3y5K6v",
        "colab_type": "code",
        "colab": {
          "base_uri": "https://localhost:8080/",
          "height": 34
        },
        "outputId": "0a64bcd2-d2a0-4f8f-9511-ccc1a5cd7717"
      },
      "source": [
        "max_features = 2500\n",
        "lm = Lemmatizer()\n",
        "tfidf_w = TfidfVectorizer(max_features=max_features, analyzer='word')\n",
        "tfidf_c = TfidfVectorizer(max_features=max_features, analyzer='char')\n",
        "lr = LogisticRegression()\n",
        "nb = NBFeaturer(1)\n",
        "\n",
        "p = Pipeline([\n",
        "    ('lm', lm),\n",
        "    ('wc_tfidfs', \n",
        "         FeatureUnion([\n",
        "            ('tfidf_w', tfidf_w), \n",
        "            ('tfidf_c', tfidf_c), \n",
        "         ])\n",
        "    ),\n",
        "    ('nb', nb),\n",
        "    ('lr', lr)\n",
        "])\n",
        "\n",
        "cvs = cross_val_score(estimator=p, X=Xtrain, y=ytrain, scoring=scoring, cv=cv, n_jobs=n_jobs)\n",
        "cvs.mean().round(4)"
      ],
      "execution_count": 37,
      "outputs": [
        {
          "output_type": "execute_result",
          "data": {
            "text/plain": [
              "0.9369"
            ]
          },
          "metadata": {
            "tags": []
          },
          "execution_count": 37
        }
      ]
    },
    {
      "cell_type": "markdown",
      "metadata": {
        "id": "v9c0YqsR5Qef",
        "colab_type": "text"
      },
      "source": [
        "## Grid Search"
      ]
    },
    {
      "cell_type": "code",
      "metadata": {
        "id": "PXOTfMym5ZeH",
        "colab_type": "code",
        "colab": {
          "base_uri": "https://localhost:8080/",
          "height": 623
        },
        "outputId": "9a6b07b8-6d74-4f91-f8b4-1896ef417c01"
      },
      "source": [
        "param_grid = [{\n",
        "    'wc_tfidfs__tfidf_w__max_features': [2500], \n",
        "    'wc_tfidfs__tfidf_c__stop_words': [2500, 5000],\n",
        "    'lr__C': [3.],\n",
        "}]\n",
        "\n",
        "grid = GridSearchCV(p, cv=cv, n_jobs=n_jobs, param_grid=param_grid, scoring=scoring, \n",
        "                            return_train_score=False, verbose=0)\n",
        "grid.fit(Xtrain, ytrain)\n"
      ],
      "execution_count": 38,
      "outputs": [
        {
          "output_type": "stream",
          "text": [
            "/usr/local/lib/python3.6/dist-packages/sklearn/linear_model/logistic.py:432: FutureWarning: Default solver will be changed to 'lbfgs' in 0.22. Specify a solver to silence this warning.\n",
            "  FutureWarning)\n"
          ],
          "name": "stderr"
        },
        {
          "output_type": "execute_result",
          "data": {
            "text/plain": [
              "GridSearchCV(cv=3, error_score='raise-deprecating',\n",
              "             estimator=Pipeline(memory=None,\n",
              "                                steps=[('lm', Lemmatizer()),\n",
              "                                       ('wc_tfidfs',\n",
              "                                        FeatureUnion(n_jobs=None,\n",
              "                                                     transformer_list=[('tfidf_w',\n",
              "                                                                        TfidfVectorizer(analyzer='word',\n",
              "                                                                                        binary=False,\n",
              "                                                                                        decode_error='strict',\n",
              "                                                                                        dtype=<class 'numpy.float64'>,\n",
              "                                                                                        encoding='utf-8',\n",
              "                                                                                        input='content',\n",
              "                                                                                        lowercase=True,\n",
              "                                                                                        max_df=1.0,\n",
              "                                                                                        max_features=2500,\n",
              "                                                                                        mi...\n",
              "                                                           multi_class='warn',\n",
              "                                                           n_jobs=None,\n",
              "                                                           penalty='l2',\n",
              "                                                           random_state=None,\n",
              "                                                           solver='warn',\n",
              "                                                           tol=0.0001,\n",
              "                                                           verbose=0,\n",
              "                                                           warm_start=False))],\n",
              "                                verbose=False),\n",
              "             iid='warn', n_jobs=-1,\n",
              "             param_grid=[{'lr__C': [3.0],\n",
              "                          'wc_tfidfs__tfidf_c__stop_words': [2500, 5000],\n",
              "                          'wc_tfidfs__tfidf_w__max_features': [2500]}],\n",
              "             pre_dispatch='2*n_jobs', refit=True, return_train_score=False,\n",
              "             scoring='roc_auc', verbose=0)"
            ]
          },
          "metadata": {
            "tags": []
          },
          "execution_count": 38
        }
      ]
    },
    {
      "cell_type": "code",
      "metadata": {
        "id": "gjNE1IRt5j9h",
        "colab_type": "code",
        "colab": {
          "base_uri": "https://localhost:8080/",
          "height": 570
        },
        "outputId": "28343440-1269-43d2-d583-c6387149987c"
      },
      "source": [
        "param_grid = [{\n",
        "    'wc_tfidfs__tfidf_w__max_features': [2500, 5000, 10000], \n",
        "    'wc_tfidfs__tfidf_c__stop_words': [2500, 5000, 10000],\n",
        "    'lr__C': [1., 3., 4.],\n",
        "}]\n",
        "\n",
        "grid = RandomizedSearchCV(p, cv=cv, n_jobs=n_jobs, param_distributions=param_grid[0], n_iter=1, \n",
        "                          scoring=scoring, return_train_score=False, verbose=1)\n",
        "grid.fit(Xtrain, ytrain)\n",
        "grid.cv_results_"
      ],
      "execution_count": 39,
      "outputs": [
        {
          "output_type": "stream",
          "text": [
            "Fitting 3 folds for each of 1 candidates, totalling 3 fits\n"
          ],
          "name": "stdout"
        },
        {
          "output_type": "stream",
          "text": [
            "[Parallel(n_jobs=-1)]: Using backend LokyBackend with 2 concurrent workers.\n",
            "[Parallel(n_jobs=-1)]: Done   3 out of   3 | elapsed:    9.9s finished\n",
            "/usr/local/lib/python3.6/dist-packages/sklearn/linear_model/logistic.py:432: FutureWarning: Default solver will be changed to 'lbfgs' in 0.22. Specify a solver to silence this warning.\n",
            "  FutureWarning)\n"
          ],
          "name": "stderr"
        },
        {
          "output_type": "execute_result",
          "data": {
            "text/plain": [
              "{'mean_fit_time': array([3.835]),\n",
              " 'mean_score_time': array([1.034]),\n",
              " 'mean_test_score': array([0.933]),\n",
              " 'param_lr__C': masked_array(data=[3.0],\n",
              "              mask=[False],\n",
              "        fill_value='?',\n",
              "             dtype=object),\n",
              " 'param_wc_tfidfs__tfidf_c__stop_words': masked_array(data=[2500],\n",
              "              mask=[False],\n",
              "        fill_value='?',\n",
              "             dtype=object),\n",
              " 'param_wc_tfidfs__tfidf_w__max_features': masked_array(data=[2500],\n",
              "              mask=[False],\n",
              "        fill_value='?',\n",
              "             dtype=object),\n",
              " 'params': [{'lr__C': 3.0,\n",
              "   'wc_tfidfs__tfidf_c__stop_words': 2500,\n",
              "   'wc_tfidfs__tfidf_w__max_features': 2500}],\n",
              " 'rank_test_score': array([1], dtype=int32),\n",
              " 'split0_test_score': array([0.931]),\n",
              " 'split1_test_score': array([0.94]),\n",
              " 'split2_test_score': array([0.928]),\n",
              " 'std_fit_time': array([1.74]),\n",
              " 'std_score_time': array([0.245]),\n",
              " 'std_test_score': array([0.005])}"
            ]
          },
          "metadata": {
            "tags": []
          },
          "execution_count": 39
        }
      ]
    },
    {
      "cell_type": "code",
      "metadata": {
        "id": "ptMBdZ0H56fv",
        "colab_type": "code",
        "colab": {
          "base_uri": "https://localhost:8080/",
          "height": 233
        },
        "outputId": "6da1d0cb-b6bc-442f-c523-f0325ea13d7f"
      },
      "source": [
        "show_method_attributes(grid)"
      ],
      "execution_count": 41,
      "outputs": [
        {
          "output_type": "stream",
          "text": [
            "Object Type: <class 'sklearn.model_selection._search.RandomizedSearchCV'>\n",
            "\n"
          ],
          "name": "stdout"
        },
        {
          "output_type": "execute_result",
          "data": {
            "text/html": [
              "<div>\n",
              "<style scoped>\n",
              "    .dataframe tbody tr th:only-of-type {\n",
              "        vertical-align: middle;\n",
              "    }\n",
              "\n",
              "    .dataframe tbody tr th {\n",
              "        vertical-align: top;\n",
              "    }\n",
              "\n",
              "    .dataframe thead th {\n",
              "        text-align: right;\n",
              "    }\n",
              "</style>\n",
              "<table border=\"1\" class=\"dataframe\">\n",
              "  <thead>\n",
              "    <tr style=\"text-align: right;\">\n",
              "      <th></th>\n",
              "      <th>0</th>\n",
              "      <th>1</th>\n",
              "      <th>2</th>\n",
              "      <th>3</th>\n",
              "      <th>4</th>\n",
              "      <th>5</th>\n",
              "      <th>6</th>\n",
              "    </tr>\n",
              "  </thead>\n",
              "  <tbody>\n",
              "    <tr>\n",
              "      <th>0</th>\n",
              "      <td>best_estimator_</td>\n",
              "      <td>cv</td>\n",
              "      <td>fit</td>\n",
              "      <td>n_iter</td>\n",
              "      <td>predict</td>\n",
              "      <td>refit_time_</td>\n",
              "      <td>scoring</td>\n",
              "    </tr>\n",
              "    <tr>\n",
              "      <th>1</th>\n",
              "      <td>best_index_</td>\n",
              "      <td>cv_results_</td>\n",
              "      <td>get_params</td>\n",
              "      <td>n_jobs</td>\n",
              "      <td>predict_log_proba</td>\n",
              "      <td>return_train_score</td>\n",
              "      <td>set_params</td>\n",
              "    </tr>\n",
              "    <tr>\n",
              "      <th>2</th>\n",
              "      <td>best_params_</td>\n",
              "      <td>decision_function</td>\n",
              "      <td>iid</td>\n",
              "      <td>n_splits_</td>\n",
              "      <td>predict_proba</td>\n",
              "      <td>score</td>\n",
              "      <td>transform</td>\n",
              "    </tr>\n",
              "    <tr>\n",
              "      <th>3</th>\n",
              "      <td>best_score_</td>\n",
              "      <td>error_score</td>\n",
              "      <td>inverse_transform</td>\n",
              "      <td>param_distributions</td>\n",
              "      <td>random_state</td>\n",
              "      <td>scorer_</td>\n",
              "      <td>verbose</td>\n",
              "    </tr>\n",
              "    <tr>\n",
              "      <th>4</th>\n",
              "      <td>classes_</td>\n",
              "      <td>estimator</td>\n",
              "      <td>multimetric_</td>\n",
              "      <td>pre_dispatch</td>\n",
              "      <td>refit</td>\n",
              "      <td></td>\n",
              "      <td></td>\n",
              "    </tr>\n",
              "  </tbody>\n",
              "</table>\n",
              "</div>"
            ],
            "text/plain": [
              "                 0                  1                  2                    3  \\\n",
              "0  best_estimator_                 cv                fit               n_iter   \n",
              "1      best_index_        cv_results_         get_params               n_jobs   \n",
              "2     best_params_  decision_function                iid            n_splits_   \n",
              "3      best_score_        error_score  inverse_transform  param_distributions   \n",
              "4         classes_          estimator       multimetric_         pre_dispatch   \n",
              "\n",
              "                   4                   5           6  \n",
              "0            predict         refit_time_     scoring  \n",
              "1  predict_log_proba  return_train_score  set_params  \n",
              "2      predict_proba               score   transform  \n",
              "3       random_state             scorer_     verbose  \n",
              "4              refit                                  "
            ]
          },
          "metadata": {
            "tags": []
          },
          "execution_count": 41
        }
      ]
    },
    {
      "cell_type": "code",
      "metadata": {
        "id": "OAxdapjJ6P5T",
        "colab_type": "code",
        "colab": {
          "base_uri": "https://localhost:8080/",
          "height": 70
        },
        "outputId": "aa9df0fc-ee48-4873-c514-f3851fcaa70a"
      },
      "source": [
        "grid.best_params_"
      ],
      "execution_count": 43,
      "outputs": [
        {
          "output_type": "execute_result",
          "data": {
            "text/plain": [
              "{'lr__C': 3.0,\n",
              " 'wc_tfidfs__tfidf_c__stop_words': 2500,\n",
              " 'wc_tfidfs__tfidf_w__max_features': 2500}"
            ]
          },
          "metadata": {
            "tags": []
          },
          "execution_count": 43
        }
      ]
    },
    {
      "cell_type": "code",
      "metadata": {
        "id": "CYh3Dwn16TaK",
        "colab_type": "code",
        "colab": {}
      },
      "source": [
        ""
      ],
      "execution_count": 0,
      "outputs": []
    }
  ]
}