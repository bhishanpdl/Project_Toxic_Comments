{
  "nbformat": 4,
  "nbformat_minor": 0,
  "metadata": {
    "accelerator": "GPU",
    "colab": {
      "name": "y04_toxic_dl_bert_xgb.ipynb",
      "provenance": [],
      "collapsed_sections": []
    },
    "kernelspec": {
      "display_name": "Python 3",
      "language": "python",
      "name": "python3"
    },
    "language_info": {
      "codemirror_mode": {
        "name": "ipython",
        "version": 3
      },
      "file_extension": ".py",
      "mimetype": "text/x-python",
      "name": "python",
      "nbconvert_exporter": "python",
      "pygments_lexer": "ipython3",
      "version": "3.7.3"
    }
  },
  "cells": [
    {
      "cell_type": "markdown",
      "metadata": {
        "id": "QbnHGRieZdk6"
      },
      "source": [
        "# Description\n",
        "In this project, we use the data from kaggle competition [Toxic Comment Classification Challenge by Jigsaw](https://www.kaggle.com/c/jigsaw-toxic-comment-classification-challenge/data?select=train.csv.zip) and only use the training data. Then we have break this raw training data into train and test data and evaluate the model performances in test data.\n",
        "\n",
        "The dataset is taken from wikipedia edit text and is classified as one of the following:\n",
        "\n",
        "1. toxic\n",
        "2. severe_toxic\n",
        "3. obscene\n",
        "4. threat\n",
        "5. insult\n",
        "6. identity_hate\n",
        "\n",
        "This is a multi-label (not-multiclass) classification. One text row has six labels and exactly one label is 1 and other labels are 0.\n",
        "\n",
        "\n",
        "References:\n"
      ]
    },
    {
      "cell_type": "markdown",
      "metadata": {
        "id": "m5tUoHe9FRhs"
      },
      "source": [
        "# Load the Libraries"
      ]
    },
    {
      "cell_type": "code",
      "metadata": {
        "id": "zJpIjp6xaB13"
      },
      "source": [
        "import os\n",
        "import sys\n",
        "import time\n",
        "\n",
        "time_start_notebook = time.time()"
      ],
      "execution_count": 1,
      "outputs": []
    },
    {
      "cell_type": "code",
      "metadata": {
        "colab": {
          "base_uri": "https://localhost:8080/"
        },
        "id": "dldhMjkw7_5b",
        "outputId": "891b0dcd-d123-4b4f-d94b-5d3bce2738ae"
      },
      "source": [
        "%tensorflow_version 1.x\n",
        "\n",
        "# bert server needs tf 1.x"
      ],
      "execution_count": 2,
      "outputs": [
        {
          "output_type": "stream",
          "text": [
            "TensorFlow 1.x selected.\n"
          ],
          "name": "stdout"
        }
      ]
    },
    {
      "cell_type": "code",
      "metadata": {
        "id": "Dr7BCHS-nIRW",
        "scrolled": true
      },
      "source": [
        "%%capture\n",
        "import os\n",
        "import sys\n",
        "ENV_COLAB = 'google.colab' in sys.modules\n",
        "\n",
        "if ENV_COLAB:\n",
        "    ## install modules\n",
        "    !pip install watermark\n",
        "    !pip install scikit-plot"
      ],
      "execution_count": 3,
      "outputs": []
    },
    {
      "cell_type": "code",
      "metadata": {
        "id": "KrC-5Tuk8JaZ"
      },
      "source": [
        "%%capture\n",
        "\n",
        "# Run this only once\n",
        "\n",
        "# use gpu and tf 1.x to use bert server\n",
        "\n",
        "!pip install bert-serving-client\n",
        "!pip install -U bert-serving-server[http]\n",
        "\n",
        "!wget https://storage.googleapis.com/bert_models/2018_10_18/uncased_L-12_H-768_A-12.zip\n",
        "!unzip uncased_L-12_H-768_A-12.zip"
      ],
      "execution_count": 4,
      "outputs": []
    },
    {
      "cell_type": "code",
      "metadata": {
        "colab": {
          "base_uri": "https://localhost:8080/"
        },
        "id": "SUg_pKFN91aD",
        "outputId": "9a77a1a6-11d6-4eea-e1c6-1e73e969e92f"
      },
      "source": [
        "!ls"
      ],
      "execution_count": 5,
      "outputs": [
        {
          "output_type": "stream",
          "text": [
            "sample_data  uncased_L-12_H-768_A-12  uncased_L-12_H-768_A-12.zip\n"
          ],
          "name": "stdout"
        }
      ]
    },
    {
      "cell_type": "code",
      "metadata": {
        "id": "hjaVhjaoaSIX",
        "colab": {
          "base_uri": "https://localhost:8080/"
        },
        "outputId": "eaee31e8-0578-478c-bc2d-c9ca15da102b"
      },
      "source": [
        "# data science\n",
        "import numpy as np\n",
        "import pandas as pd\n",
        "\n",
        "# visualization\n",
        "import seaborn as sns\n",
        "sns.set(color_codes=True)\n",
        "import matplotlib\n",
        "import matplotlib.pyplot as plt\n",
        "%matplotlib inline\n",
        "\n",
        "# mixed\n",
        "import os\n",
        "import time\n",
        "import random\n",
        "import subprocess\n",
        "import joblib\n",
        "from tqdm import tqdm, trange\n",
        "from pprint import pprint\n",
        "\n",
        "# random state\n",
        "SEED=100\n",
        "np.random.seed(SEED)\n",
        "\n",
        "# machine learning\n",
        "import sklearn\n",
        "import xgboost as xgb\n",
        "\n",
        "\n",
        "# model eval\n",
        "import scikitplot as skplt\n",
        "\n",
        "# versions\n",
        "import watermark\n",
        "%load_ext watermark\n",
        "%watermark -a \"Bhishan Poudel\" -d -v -m\n",
        "print()\n",
        "%watermark -iv"
      ],
      "execution_count": 6,
      "outputs": [
        {
          "output_type": "stream",
          "text": [
            "Bhishan Poudel 2020-12-04 \n",
            "\n",
            "CPython 3.6.9\n",
            "IPython 5.5.0\n",
            "\n",
            "compiler   : GCC 8.4.0\n",
            "system     : Linux\n",
            "release    : 4.19.112+\n",
            "machine    : x86_64\n",
            "processor  : x86_64\n",
            "CPU cores  : 2\n",
            "interpreter: 64bit\n",
            "\n",
            "numpy      1.18.5\n",
            "joblib     0.17.0\n",
            "sklearn    0.22.2.post1\n",
            "seaborn    0.11.0\n",
            "scikitplot 0.3.7\n",
            "watermark  2.0.2\n",
            "matplotlib 3.2.2\n",
            "pandas     1.1.4\n",
            "xgboost    0.90\n",
            "\n"
          ],
          "name": "stdout"
        }
      ]
    },
    {
      "cell_type": "markdown",
      "metadata": {
        "id": "v6otkefZbfcJ"
      },
      "source": [
        "# Useful Functions"
      ]
    },
    {
      "cell_type": "code",
      "metadata": {
        "id": "x9QAg-Jpbfif"
      },
      "source": [
        "def show_methods(obj, ncols=4,contains=None):\n",
        "    lst = [i for i in dir(obj) if i[0]!='_' ]\n",
        "    if contains is not None:\n",
        "        lst = [i for i in lst if contains in i]\n",
        "    df = pd.DataFrame(np.array_split(lst,ncols)).T.fillna('')\n",
        "    return df"
      ],
      "execution_count": 7,
      "outputs": []
    },
    {
      "cell_type": "markdown",
      "metadata": {
        "id": "xkHL76RubfnA"
      },
      "source": [
        "# GPU Testing"
      ]
    },
    {
      "cell_type": "code",
      "metadata": {
        "id": "uorMX_zrnISM",
        "scrolled": true,
        "colab": {
          "base_uri": "https://localhost:8080/"
        },
        "outputId": "46fd1ca7-520b-47ae-b838-e710369252fb"
      },
      "source": [
        "!nvidia-smi"
      ],
      "execution_count": 8,
      "outputs": [
        {
          "output_type": "stream",
          "text": [
            "Fri Dec  4 18:33:58 2020       \n",
            "+-----------------------------------------------------------------------------+\n",
            "| NVIDIA-SMI 455.45.01    Driver Version: 418.67       CUDA Version: 10.1     |\n",
            "|-------------------------------+----------------------+----------------------+\n",
            "| GPU  Name        Persistence-M| Bus-Id        Disp.A | Volatile Uncorr. ECC |\n",
            "| Fan  Temp  Perf  Pwr:Usage/Cap|         Memory-Usage | GPU-Util  Compute M. |\n",
            "|                               |                      |               MIG M. |\n",
            "|===============================+======================+======================|\n",
            "|   0  Tesla T4            Off  | 00000000:00:04.0 Off |                    0 |\n",
            "| N/A   47C    P8    10W /  70W |      0MiB / 15079MiB |      0%      Default |\n",
            "|                               |                      |                 ERR! |\n",
            "+-------------------------------+----------------------+----------------------+\n",
            "                                                                               \n",
            "+-----------------------------------------------------------------------------+\n",
            "| Processes:                                                                  |\n",
            "|  GPU   GI   CI        PID   Type   Process name                  GPU Memory |\n",
            "|        ID   ID                                                   Usage      |\n",
            "|=============================================================================|\n",
            "|  No running processes found                                                 |\n",
            "+-----------------------------------------------------------------------------+\n"
          ],
          "name": "stdout"
        }
      ]
    },
    {
      "cell_type": "code",
      "metadata": {
        "id": "0MsuOPWTmX0j",
        "colab": {
          "base_uri": "https://localhost:8080/"
        },
        "outputId": "09266de0-7ec1-409f-e670-5e8cada2cd5f"
      },
      "source": [
        "TREE_METHOD = 'auto'\n",
        "try:\n",
        "    import tensorflow as tf\n",
        "    has_gpu = tf.test.gpu_device_name()\n",
        "    TREE_METHOD = 'gpu_hist' if has_gpu else 'auto'\n",
        "except:\n",
        "    TREE_METHOD = 'auto'\n",
        "\n",
        "print(TREE_METHOD)"
      ],
      "execution_count": 9,
      "outputs": [
        {
          "output_type": "stream",
          "text": [
            "gpu_hist\n"
          ],
          "name": "stdout"
        }
      ]
    },
    {
      "cell_type": "markdown",
      "metadata": {
        "id": "dLcetMjZFjSH"
      },
      "source": [
        "## Load Training Data"
      ]
    },
    {
      "cell_type": "code",
      "metadata": {
        "id": "_YaKKtDR-WeQ"
      },
      "source": [
        "%%capture\n",
        "!wget https://github.com/bhishanpdl/Datasets/blob/master/Projects/Jigsaw_Toxic_Comment_Classification/train.csv.zip?raw=true\n",
        "!unzip train.csv.zip?raw=true\n",
        "\n",
        "!wget https://github.com/bhishanpdl/Datasets/blob/master/Projects/Jigsaw_Toxic_Comment_Classification/test.csv.zip?raw=true\n",
        "!unzip test.csv.zip?raw=true"
      ],
      "execution_count": 10,
      "outputs": []
    },
    {
      "cell_type": "code",
      "metadata": {
        "id": "EFMSmSgF-kFM",
        "colab": {
          "base_uri": "https://localhost:8080/"
        },
        "outputId": "549a1c8f-c8ea-41e6-891b-c173ebdb3443"
      },
      "source": [
        "os.listdir()"
      ],
      "execution_count": 11,
      "outputs": [
        {
          "output_type": "execute_result",
          "data": {
            "text/plain": [
              "['.config',\n",
              " 'uncased_L-12_H-768_A-12',\n",
              " 'train.csv',\n",
              " 'test.csv.zip?raw=true',\n",
              " 'uncased_L-12_H-768_A-12.zip',\n",
              " 'test.csv',\n",
              " 'train.csv.zip?raw=true',\n",
              " 'sample_data']"
            ]
          },
          "metadata": {
            "tags": []
          },
          "execution_count": 11
        }
      ]
    },
    {
      "cell_type": "code",
      "metadata": {
        "id": "0ecREc7GnISW",
        "scrolled": true,
        "colab": {
          "base_uri": "https://localhost:8080/",
          "height": 462
        },
        "outputId": "3e1c1ffe-362c-4dd0-f069-50288ac7df1a"
      },
      "source": [
        "df_train = pd.read_csv('train.csv')\n",
        "df_train.head()"
      ],
      "execution_count": 12,
      "outputs": [
        {
          "output_type": "execute_result",
          "data": {
            "text/html": [
              "<div>\n",
              "<style scoped>\n",
              "    .dataframe tbody tr th:only-of-type {\n",
              "        vertical-align: middle;\n",
              "    }\n",
              "\n",
              "    .dataframe tbody tr th {\n",
              "        vertical-align: top;\n",
              "    }\n",
              "\n",
              "    .dataframe thead th {\n",
              "        text-align: right;\n",
              "    }\n",
              "</style>\n",
              "<table border=\"1\" class=\"dataframe\">\n",
              "  <thead>\n",
              "    <tr style=\"text-align: right;\">\n",
              "      <th></th>\n",
              "      <th>id</th>\n",
              "      <th>comment_text</th>\n",
              "      <th>toxic</th>\n",
              "      <th>severe_toxic</th>\n",
              "      <th>obscene</th>\n",
              "      <th>threat</th>\n",
              "      <th>insult</th>\n",
              "      <th>identity_hate</th>\n",
              "    </tr>\n",
              "  </thead>\n",
              "  <tbody>\n",
              "    <tr>\n",
              "      <th>0</th>\n",
              "      <td>8d603d50affa1126</td>\n",
              "      <td>\"\\nYes, aside, thank you for trying to answer ...</td>\n",
              "      <td>0</td>\n",
              "      <td>0</td>\n",
              "      <td>0</td>\n",
              "      <td>0</td>\n",
              "      <td>0</td>\n",
              "      <td>0</td>\n",
              "    </tr>\n",
              "    <tr>\n",
              "      <th>1</th>\n",
              "      <td>8fb3576937b9e0d0</td>\n",
              "      <td>March 2010 (UTC)\\n\\nThanks! and understood abo...</td>\n",
              "      <td>0</td>\n",
              "      <td>0</td>\n",
              "      <td>0</td>\n",
              "      <td>0</td>\n",
              "      <td>0</td>\n",
              "      <td>0</td>\n",
              "    </tr>\n",
              "    <tr>\n",
              "      <th>2</th>\n",
              "      <td>379440e04fb68e27</td>\n",
              "      <td>\"\\n\\n The Outfield \\n\\nHahaha - compassion is ...</td>\n",
              "      <td>0</td>\n",
              "      <td>0</td>\n",
              "      <td>0</td>\n",
              "      <td>0</td>\n",
              "      <td>0</td>\n",
              "      <td>0</td>\n",
              "    </tr>\n",
              "    <tr>\n",
              "      <th>3</th>\n",
              "      <td>6be4446aac8ae028</td>\n",
              "      <td>Opposition is a source of strength. I believe ...</td>\n",
              "      <td>0</td>\n",
              "      <td>0</td>\n",
              "      <td>0</td>\n",
              "      <td>0</td>\n",
              "      <td>0</td>\n",
              "      <td>0</td>\n",
              "    </tr>\n",
              "    <tr>\n",
              "      <th>4</th>\n",
              "      <td>1a2ff7ed958506a3</td>\n",
              "      <td>Please discontinue making those unsupported ch...</td>\n",
              "      <td>0</td>\n",
              "      <td>0</td>\n",
              "      <td>0</td>\n",
              "      <td>0</td>\n",
              "      <td>0</td>\n",
              "      <td>0</td>\n",
              "    </tr>\n",
              "  </tbody>\n",
              "</table>\n",
              "</div>"
            ],
            "text/plain": [
              "                 id  ... identity_hate\n",
              "0  8d603d50affa1126  ...             0\n",
              "1  8fb3576937b9e0d0  ...             0\n",
              "2  379440e04fb68e27  ...             0\n",
              "3  6be4446aac8ae028  ...             0\n",
              "4  1a2ff7ed958506a3  ...             0\n",
              "\n",
              "[5 rows x 8 columns]"
            ]
          },
          "metadata": {
            "tags": []
          },
          "execution_count": 12
        }
      ]
    },
    {
      "cell_type": "code",
      "metadata": {
        "id": "v1x4w76-pWWm",
        "colab": {
          "base_uri": "https://localhost:8080/",
          "height": 428
        },
        "outputId": "b8642680-d3fc-460a-ca4b-f6cd9856c3c5"
      },
      "source": [
        "df_test = pd.read_csv('test.csv')\n",
        "df_test.head()"
      ],
      "execution_count": 13,
      "outputs": [
        {
          "output_type": "execute_result",
          "data": {
            "text/html": [
              "<div>\n",
              "<style scoped>\n",
              "    .dataframe tbody tr th:only-of-type {\n",
              "        vertical-align: middle;\n",
              "    }\n",
              "\n",
              "    .dataframe tbody tr th {\n",
              "        vertical-align: top;\n",
              "    }\n",
              "\n",
              "    .dataframe thead th {\n",
              "        text-align: right;\n",
              "    }\n",
              "</style>\n",
              "<table border=\"1\" class=\"dataframe\">\n",
              "  <thead>\n",
              "    <tr style=\"text-align: right;\">\n",
              "      <th></th>\n",
              "      <th>id</th>\n",
              "      <th>comment_text</th>\n",
              "      <th>toxic</th>\n",
              "      <th>severe_toxic</th>\n",
              "      <th>obscene</th>\n",
              "      <th>threat</th>\n",
              "      <th>insult</th>\n",
              "      <th>identity_hate</th>\n",
              "    </tr>\n",
              "  </thead>\n",
              "  <tbody>\n",
              "    <tr>\n",
              "      <th>0</th>\n",
              "      <td>70bbc3e96dd459b1</td>\n",
              "      <td>Hammed it is, cheers!</td>\n",
              "      <td>0</td>\n",
              "      <td>0</td>\n",
              "      <td>0</td>\n",
              "      <td>0</td>\n",
              "      <td>0</td>\n",
              "      <td>0</td>\n",
              "    </tr>\n",
              "    <tr>\n",
              "      <th>1</th>\n",
              "      <td>0b2e86f819b4b9a4</td>\n",
              "      <td>Not a problem, sorry for the inconvenience and...</td>\n",
              "      <td>0</td>\n",
              "      <td>0</td>\n",
              "      <td>0</td>\n",
              "      <td>0</td>\n",
              "      <td>0</td>\n",
              "      <td>0</td>\n",
              "    </tr>\n",
              "    <tr>\n",
              "      <th>2</th>\n",
              "      <td>fb7a63a8e287b2d1</td>\n",
              "      <td>Sources for Gambia at the 2000 Summer Olympics...</td>\n",
              "      <td>0</td>\n",
              "      <td>0</td>\n",
              "      <td>0</td>\n",
              "      <td>0</td>\n",
              "      <td>0</td>\n",
              "      <td>0</td>\n",
              "    </tr>\n",
              "    <tr>\n",
              "      <th>3</th>\n",
              "      <td>72beff75685cb8dc</td>\n",
              "      <td>Added some criticism \\n\\nI added some much nee...</td>\n",
              "      <td>0</td>\n",
              "      <td>0</td>\n",
              "      <td>0</td>\n",
              "      <td>0</td>\n",
              "      <td>0</td>\n",
              "      <td>0</td>\n",
              "    </tr>\n",
              "    <tr>\n",
              "      <th>4</th>\n",
              "      <td>f7c526a05d03f697</td>\n",
              "      <td>Who cares? It's just a song, it's a great song...</td>\n",
              "      <td>0</td>\n",
              "      <td>0</td>\n",
              "      <td>0</td>\n",
              "      <td>0</td>\n",
              "      <td>0</td>\n",
              "      <td>0</td>\n",
              "    </tr>\n",
              "  </tbody>\n",
              "</table>\n",
              "</div>"
            ],
            "text/plain": [
              "                 id  ... identity_hate\n",
              "0  70bbc3e96dd459b1  ...             0\n",
              "1  0b2e86f819b4b9a4  ...             0\n",
              "2  fb7a63a8e287b2d1  ...             0\n",
              "3  72beff75685cb8dc  ...             0\n",
              "4  f7c526a05d03f697  ...             0\n",
              "\n",
              "[5 rows x 8 columns]"
            ]
          },
          "metadata": {
            "tags": []
          },
          "execution_count": 13
        }
      ]
    },
    {
      "cell_type": "code",
      "metadata": {
        "id": "6AhWrzX7nITB"
      },
      "source": [
        "col_text = 'comment_text'\n",
        "col_txt = col_text"
      ],
      "execution_count": 30,
      "outputs": []
    },
    {
      "cell_type": "code",
      "metadata": {
        "id": "MGF9lTdlcTkw",
        "colab": {
          "base_uri": "https://localhost:8080/"
        },
        "outputId": "8da86a00-f966-451e-8727-feb71057060e"
      },
      "source": [
        "# unique text\n",
        "df_train[col_text].nunique(), df_train.shape[0]"
      ],
      "execution_count": 15,
      "outputs": [
        {
          "output_type": "execute_result",
          "data": {
            "text/plain": [
              "(127656, 127656)"
            ]
          },
          "metadata": {
            "tags": []
          },
          "execution_count": 15
        }
      ]
    },
    {
      "cell_type": "code",
      "metadata": {
        "id": "XgtwZwR-cib-",
        "colab": {
          "base_uri": "https://localhost:8080/"
        },
        "outputId": "f1b5413c-1d9d-4e18-9960-42c9eae7d58f"
      },
      "source": [
        "# null values\n",
        "df_train.isnull().sum()"
      ],
      "execution_count": 16,
      "outputs": [
        {
          "output_type": "execute_result",
          "data": {
            "text/plain": [
              "id               0\n",
              "comment_text     0\n",
              "toxic            0\n",
              "severe_toxic     0\n",
              "obscene          0\n",
              "threat           0\n",
              "insult           0\n",
              "identity_hate    0\n",
              "dtype: int64"
            ]
          },
          "metadata": {
            "tags": []
          },
          "execution_count": 16
        }
      ]
    },
    {
      "cell_type": "code",
      "metadata": {
        "id": "UVI59S9VaAfB"
      },
      "source": [
        "cols_label = ['toxic', 'severe_toxic', 'obscene',\n",
        "              'threat', 'insult', 'identity_hate']"
      ],
      "execution_count": 17,
      "outputs": []
    },
    {
      "cell_type": "code",
      "metadata": {
        "id": "xzgA5qQgYIBZ",
        "colab": {
          "base_uri": "https://localhost:8080/"
        },
        "outputId": "5007fc6b-9da4-4ca7-dcb5-34d0e1c9a6f1"
      },
      "source": [
        "print('Count of 1 per label: \\n', df_train[cols_label].sum(), '\\n') \n",
        "print('Count of 0 per label: \\n', df_train[cols_label].eq(0).sum())"
      ],
      "execution_count": 18,
      "outputs": [
        {
          "output_type": "stream",
          "text": [
            "Count of 1 per label: \n",
            " toxic            12202\n",
            "severe_toxic      1282\n",
            "obscene           6782\n",
            "threat             379\n",
            "insult            6292\n",
            "identity_hate     1136\n",
            "dtype: int64 \n",
            "\n",
            "Count of 0 per label: \n",
            " toxic            115454\n",
            "severe_toxic     126374\n",
            "obscene          120874\n",
            "threat           127277\n",
            "insult           121364\n",
            "identity_hate    126520\n",
            "dtype: int64\n"
          ],
          "name": "stdout"
        }
      ]
    },
    {
      "cell_type": "code",
      "metadata": {
        "id": "HS7lsVmmi8S0",
        "colab": {
          "base_uri": "https://localhost:8080/",
          "height": 347
        },
        "outputId": "f78332e6-d5be-4bee-9fa6-21b85ec40ce4"
      },
      "source": [
        "df_train[cols_label].sum().plot.bar(title='Count of 1s',color='tomato');"
      ],
      "execution_count": 19,
      "outputs": [
        {
          "output_type": "display_data",
          "data": {
            "image/png": "[encoded data removed]",
            "text/plain": [
              "<Figure size 432x288 with 1 Axes>"
            ]
          },
          "metadata": {
            "tags": [],
            "needs_background": "light"
          }
        }
      ]
    },
    {
      "cell_type": "code",
      "metadata": {
        "id": "mXEosiFKjR0G",
        "colab": {
          "base_uri": "https://localhost:8080/",
          "height": 347
        },
        "outputId": "df8b4aaa-e83a-4d1a-b14f-39e9ef5dd0c6"
      },
      "source": [
        "df_train[cols_label].eq(0).sum().plot.bar(title='Count of 0s');"
      ],
      "execution_count": 20,
      "outputs": [
        {
          "output_type": "display_data",
          "data": {
            "image/png": "[encoded data removed]",
            "text/plain": [
              "<Figure size 432x288 with 1 Axes>"
            ]
          },
          "metadata": {
            "tags": [],
            "needs_background": "light"
          }
        }
      ]
    },
    {
      "cell_type": "markdown",
      "metadata": {
        "id": "3Dn9H1DFkDla"
      },
      "source": [
        "# Data Processing: Training Data"
      ]
    },
    {
      "cell_type": "markdown",
      "metadata": {
        "id": "JqCG-E7Kkr-S"
      },
      "source": [
        "## Shuffle and create ohe column"
      ]
    },
    {
      "cell_type": "code",
      "metadata": {
        "id": "uFpSd4JzaAae"
      },
      "source": [
        "# shuffle data\n",
        "df_train = df_train.sample(frac=1,random_state=SEED).reset_index(drop=True)"
      ],
      "execution_count": 21,
      "outputs": []
    },
    {
      "cell_type": "markdown",
      "metadata": {
        "id": "u-3zZRwCkwbO"
      },
      "source": [
        "## Tokenize using Bert Client"
      ]
    },
    {
      "cell_type": "code",
      "metadata": {
        "id": "dEVONmmK9v3e"
      },
      "source": [
        "from bert_serving.client import BertClient"
      ],
      "execution_count": 22,
      "outputs": []
    },
    {
      "cell_type": "code",
      "metadata": {
        "id": "sB9HstOC9jf4"
      },
      "source": [
        "!nohup bert-serving-start -model_dir=./uncased_L-12_H-768_A-12 -max_seq_len 50 > out.file 2>&1 &"
      ],
      "execution_count": 24,
      "outputs": []
    },
    {
      "cell_type": "code",
      "metadata": {
        "id": "fRJqDpA_sWEd"
      },
      "source": [
        "# Start the BERT client\n",
        "bc = BertClient()"
      ],
      "execution_count": 25,
      "outputs": []
    },
    {
      "cell_type": "code",
      "metadata": {
        "id": "l6CCLSjfur-9"
      },
      "source": [
        "# bc.encode(['this is example text'])"
      ],
      "execution_count": 68,
      "outputs": []
    },
    {
      "cell_type": "code",
      "metadata": {
        "colab": {
          "base_uri": "https://localhost:8080/",
          "height": 235
        },
        "id": "SXe1FUHfMIXG",
        "outputId": "266fb434-84f3-4054-e4ef-09d6cc670a24"
      },
      "source": [
        "show_methods(bc)"
      ],
      "execution_count": 69,
      "outputs": [
        {
          "output_type": "execute_result",
          "data": {
            "text/html": [
              "<div>\n",
              "<style scoped>\n",
              "    .dataframe tbody tr th:only-of-type {\n",
              "        vertical-align: middle;\n",
              "    }\n",
              "\n",
              "    .dataframe tbody tr th {\n",
              "        vertical-align: top;\n",
              "    }\n",
              "\n",
              "    .dataframe thead th {\n",
              "        text-align: right;\n",
              "    }\n",
              "</style>\n",
              "<table border=\"1\" class=\"dataframe\">\n",
              "  <thead>\n",
              "    <tr style=\"text-align: right;\">\n",
              "      <th></th>\n",
              "      <th>0</th>\n",
              "      <th>1</th>\n",
              "      <th>2</th>\n",
              "      <th>3</th>\n",
              "    </tr>\n",
              "  </thead>\n",
              "  <tbody>\n",
              "    <tr>\n",
              "      <th>0</th>\n",
              "      <td>close</td>\n",
              "      <td>formatter</td>\n",
              "      <td>pending_response</td>\n",
              "      <td>server_config</td>\n",
              "    </tr>\n",
              "    <tr>\n",
              "      <th>1</th>\n",
              "      <td>context</td>\n",
              "      <td>identity</td>\n",
              "      <td>port</td>\n",
              "      <td>server_status</td>\n",
              "    </tr>\n",
              "    <tr>\n",
              "      <th>2</th>\n",
              "      <td>encode</td>\n",
              "      <td>ip</td>\n",
              "      <td>port_out</td>\n",
              "      <td>status</td>\n",
              "    </tr>\n",
              "    <tr>\n",
              "      <th>3</th>\n",
              "      <td>encode_async</td>\n",
              "      <td>length_limit</td>\n",
              "      <td>receiver</td>\n",
              "      <td>timeout</td>\n",
              "    </tr>\n",
              "    <tr>\n",
              "      <th>4</th>\n",
              "      <td>fetch</td>\n",
              "      <td>output_fmt</td>\n",
              "      <td>request_id</td>\n",
              "      <td>token_info_available</td>\n",
              "    </tr>\n",
              "    <tr>\n",
              "      <th>5</th>\n",
              "      <td>fetch_all</td>\n",
              "      <td>pending_request</td>\n",
              "      <td>sender</td>\n",
              "      <td></td>\n",
              "    </tr>\n",
              "  </tbody>\n",
              "</table>\n",
              "</div>"
            ],
            "text/plain": [
              "              0                1                 2                     3\n",
              "0         close        formatter  pending_response         server_config\n",
              "1       context         identity              port         server_status\n",
              "2        encode               ip          port_out                status\n",
              "3  encode_async     length_limit          receiver               timeout\n",
              "4         fetch       output_fmt        request_id  token_info_available\n",
              "5     fetch_all  pending_request            sender                      "
            ]
          },
          "metadata": {
            "tags": []
          },
          "execution_count": 69
        }
      ]
    },
    {
      "cell_type": "code",
      "metadata": {
        "id": "-r7BnYdlosIX",
        "colab": {
          "base_uri": "https://localhost:8080/"
        },
        "outputId": "077a5f12-8ec0-4532-b3d0-910b457b10a6"
      },
      "source": [
        "print(bc.status)\n",
        "print()\n",
        "print(bc.server_status)"
      ],
      "execution_count": 27,
      "outputs": [
        {
          "output_type": "stream",
          "text": [
            "{'identity': b'8ca80a19-50b8-41e8-be2a-ad7f6f1445f7', 'num_request': 2, 'num_pending_request': 0, 'pending_request': set(), 'output_fmt': 'ndarray', 'port': 5555, 'port_out': 5556, 'server_ip': 'localhost', 'client_version': '1.10.0', 'timeout': -1}\n",
            "\n",
            "{'client': '8ca80a19-50b8-41e8-be2a-ad7f6f1445f7', 'num_process': 2, 'ventilator -> worker': ['ipc://tmp1bOvpn/socket', 'ipc://tmplEGd7O/socket', 'ipc://tmpuuyWOg/socket', 'ipc://tmpX9rGwI/socket', 'ipc://tmplSWrea/socket', 'ipc://tmpCJqeWB/socket', 'ipc://tmplCn3D3/socket', 'ipc://tmpJHhTlv/socket'], 'worker -> sink': 'ipc://tmpJshcaq/socket', 'ventilator <-> sink': 'ipc://tmpZS0OHV/socket', 'server_current_time': '2020-12-04 18:34:33.814721', 'device_map': [], 'num_concurrent_socket': 8, 'statistic': {'num_data_request': 1, 'num_total_seq': 1, 'num_sys_request': 2, 'num_total_request': 3, 'num_total_client': 1, 'num_active_client': 1, 'avg_request_per_client': 3.0, 'min_request_per_client': 3, 'max_request_per_client': 3, 'num_min_request_per_client': 1, 'num_max_request_per_client': 1, 'avg_size_per_request': 1.0, 'min_size_per_request': 1, 'max_size_per_request': 1, 'num_min_size_per_request': 1, 'num_max_size_per_request': 1, 'avg_last_two_interval': 14.996989809999988, 'min_last_two_interval': 14.996989809999988, 'max_last_two_interval': 14.996989809999988, 'num_min_last_two_interval': 1, 'num_max_last_two_interval': 1, 'avg_request_per_second': 0.06668004797424082, 'min_request_per_second': 0.06668004797424082, 'max_request_per_second': 0.06668004797424082, 'num_min_request_per_second': 1, 'num_max_request_per_second': 1}, 'ckpt_name': 'bert_model.ckpt', 'config_name': 'bert_config.json', 'cors': '*', 'cpu': False, 'do_lower_case': True, 'fixed_embed_length': False, 'fp16': False, 'gpu_memory_fraction': 0.5, 'graph_tmp_dir': None, 'http_max_connect': 10, 'http_port': None, 'mask_cls_sep': False, 'max_batch_size': 256, 'max_seq_len': 50, 'model_dir': './uncased_L-12_H-768_A-12', 'no_position_embeddings': False, 'no_special_token': False, 'num_worker': 1, 'pooling_layer': [-2], 'pooling_strategy': 2, 'port': 5555, 'port_out': 5556, 'prefetch_size': 10, 'priority_batch_size': 16, 'show_tokens_to_client': False, 'tuned_model_dir': None, 'verbose': False, 'xla': False, 'tensorflow_version': ['1', '15', '2'], 'python_version': '3.6.9 (default, Oct  8 2020, 12:12:24) \\n[GCC 8.4.0]', 'server_version': '1.10.0', 'pyzmq_version': '20.0.0', 'zmq_version': '4.3.3', 'server_start_time': '2020-12-04 18:34:11.527373'}\n"
          ],
          "name": "stdout"
        }
      ]
    },
    {
      "cell_type": "code",
      "metadata": {
        "id": "sdYhfhIIosLE"
      },
      "source": [
        "train_text = df_train[col_txt].tolist()\n",
        "test_text = df_test[col_txt].tolist()"
      ],
      "execution_count": 31,
      "outputs": []
    },
    {
      "cell_type": "code",
      "metadata": {
        "id": "arwGTd7TosRD",
        "colab": {
          "base_uri": "https://localhost:8080/"
        },
        "outputId": "77cedf6c-2c5a-4930-ef45-9be5b9ffc366"
      },
      "source": [
        "%%time\n",
        "train_tokenize = bc.encode(train_text)"
      ],
      "execution_count": 32,
      "outputs": [
        {
          "output_type": "stream",
          "text": [
            "/usr/local/lib/python3.6/dist-packages/bert_serving/client/__init__.py:299: UserWarning: some of your sentences have more tokens than \"max_seq_len=50\" set on the server, as consequence you may get less-accurate or truncated embeddings.\n",
            "here is what you can do:\n",
            "- disable the length-check by create a new \"BertClient(check_length=False)\" when you do not want to display this warning\n",
            "- or, start a new server with a larger \"max_seq_len\"\n",
            "  '- or, start a new server with a larger \"max_seq_len\"' % self.length_limit)\n"
          ],
          "name": "stderr"
        },
        {
          "output_type": "stream",
          "text": [
            "CPU times: user 498 ms, sys: 497 ms, total: 994 ms\n",
            "Wall time: 6min 37s\n"
          ],
          "name": "stdout"
        }
      ]
    },
    {
      "cell_type": "code",
      "metadata": {
        "id": "pU2OrfT4osZF",
        "colab": {
          "base_uri": "https://localhost:8080/"
        },
        "outputId": "36d508c6-4f1e-4ab8-cbe9-42d1329a4ebb"
      },
      "source": [
        "%%time\n",
        "test_tokenize = bc.encode(test_text)"
      ],
      "execution_count": 33,
      "outputs": [
        {
          "output_type": "stream",
          "text": [
            "/usr/local/lib/python3.6/dist-packages/bert_serving/client/__init__.py:299: UserWarning: some of your sentences have more tokens than \"max_seq_len=50\" set on the server, as consequence you may get less-accurate or truncated embeddings.\n",
            "here is what you can do:\n",
            "- disable the length-check by create a new \"BertClient(check_length=False)\" when you do not want to display this warning\n",
            "- or, start a new server with a larger \"max_seq_len\"\n",
            "  '- or, start a new server with a larger \"max_seq_len\"' % self.length_limit)\n"
          ],
          "name": "stderr"
        },
        {
          "output_type": "stream",
          "text": [
            "CPU times: user 125 ms, sys: 82.4 ms, total: 207 ms\n",
            "Wall time: 1min 41s\n"
          ],
          "name": "stdout"
        }
      ]
    },
    {
      "cell_type": "markdown",
      "metadata": {
        "id": "RbOhFfU3osfO"
      },
      "source": [
        "# Modelling: Xgboost"
      ]
    },
    {
      "cell_type": "code",
      "metadata": {
        "colab": {
          "base_uri": "https://localhost:8080/"
        },
        "id": "P7tpzAFQCxGq",
        "outputId": "5f052ba4-b24a-4859-8e50-ed22314377bb"
      },
      "source": [
        "df_train.shape, np.array(train_tokenize).shape"
      ],
      "execution_count": 39,
      "outputs": [
        {
          "output_type": "execute_result",
          "data": {
            "text/plain": [
              "((127656, 8), (127656, 768))"
            ]
          },
          "metadata": {
            "tags": []
          },
          "execution_count": 39
        }
      ]
    },
    {
      "cell_type": "code",
      "metadata": {
        "id": "V-8scSg_osdK",
        "colab": {
          "base_uri": "https://localhost:8080/"
        },
        "outputId": "e43cf8d8-d678-49b9-bd2c-cf4d598005ac"
      },
      "source": [
        "%%time\n",
        "class_names = ['toxic', 'severe_toxic', 'obscene',\n",
        "               'threat', 'insult', 'identity_hate']\n",
        "\n",
        "df_probs = pd.DataFrame(columns=class_names)\n",
        "params_xgb = dict(max_depth=5, random_state=SEED,tree_method=TREE_METHOD)\n",
        "\n",
        "for class_name in class_names:\n",
        "    train_target = df_train[class_name]\n",
        "    clf = xgb.XGBClassifier(**params_xgb)\n",
        "    clf.fit(train_tokenize, train_target)\n",
        "\n",
        "    yprob = clf.predict_proba(test_tokenize)[:,1]\n",
        "    df_probs[class_name] = yprob"
      ],
      "execution_count": 50,
      "outputs": [
        {
          "output_type": "stream",
          "text": [
            "CPU times: user 26.7 s, sys: 21.6 s, total: 48.3 s\n",
            "Wall time: 48.3 s\n"
          ],
          "name": "stdout"
        }
      ]
    },
    {
      "cell_type": "code",
      "metadata": {
        "colab": {
          "base_uri": "https://localhost:8080/",
          "height": 204
        },
        "id": "f5HK-WP1HlL7",
        "outputId": "c0b5c5fc-2589-46fb-d191-c30e28569d94"
      },
      "source": [
        "df_probs.head()"
      ],
      "execution_count": 51,
      "outputs": [
        {
          "output_type": "execute_result",
          "data": {
            "text/html": [
              "<div>\n",
              "<style scoped>\n",
              "    .dataframe tbody tr th:only-of-type {\n",
              "        vertical-align: middle;\n",
              "    }\n",
              "\n",
              "    .dataframe tbody tr th {\n",
              "        vertical-align: top;\n",
              "    }\n",
              "\n",
              "    .dataframe thead th {\n",
              "        text-align: right;\n",
              "    }\n",
              "</style>\n",
              "<table border=\"1\" class=\"dataframe\">\n",
              "  <thead>\n",
              "    <tr style=\"text-align: right;\">\n",
              "      <th></th>\n",
              "      <th>toxic</th>\n",
              "      <th>severe_toxic</th>\n",
              "      <th>obscene</th>\n",
              "      <th>threat</th>\n",
              "      <th>insult</th>\n",
              "      <th>identity_hate</th>\n",
              "    </tr>\n",
              "  </thead>\n",
              "  <tbody>\n",
              "    <tr>\n",
              "      <th>0</th>\n",
              "      <td>0.079790</td>\n",
              "      <td>0.003754</td>\n",
              "      <td>0.030732</td>\n",
              "      <td>0.000305</td>\n",
              "      <td>0.022670</td>\n",
              "      <td>0.001376</td>\n",
              "    </tr>\n",
              "    <tr>\n",
              "      <th>1</th>\n",
              "      <td>0.003160</td>\n",
              "      <td>0.000180</td>\n",
              "      <td>0.003161</td>\n",
              "      <td>0.000247</td>\n",
              "      <td>0.001889</td>\n",
              "      <td>0.000138</td>\n",
              "    </tr>\n",
              "    <tr>\n",
              "      <th>2</th>\n",
              "      <td>0.002050</td>\n",
              "      <td>0.000072</td>\n",
              "      <td>0.001411</td>\n",
              "      <td>0.000097</td>\n",
              "      <td>0.001221</td>\n",
              "      <td>0.000133</td>\n",
              "    </tr>\n",
              "    <tr>\n",
              "      <th>3</th>\n",
              "      <td>0.022417</td>\n",
              "      <td>0.000994</td>\n",
              "      <td>0.007981</td>\n",
              "      <td>0.000203</td>\n",
              "      <td>0.006146</td>\n",
              "      <td>0.000409</td>\n",
              "    </tr>\n",
              "    <tr>\n",
              "      <th>4</th>\n",
              "      <td>0.081312</td>\n",
              "      <td>0.001272</td>\n",
              "      <td>0.041599</td>\n",
              "      <td>0.000475</td>\n",
              "      <td>0.015619</td>\n",
              "      <td>0.003845</td>\n",
              "    </tr>\n",
              "  </tbody>\n",
              "</table>\n",
              "</div>"
            ],
            "text/plain": [
              "      toxic  severe_toxic   obscene    threat    insult  identity_hate\n",
              "0  0.079790      0.003754  0.030732  0.000305  0.022670       0.001376\n",
              "1  0.003160      0.000180  0.003161  0.000247  0.001889       0.000138\n",
              "2  0.002050      0.000072  0.001411  0.000097  0.001221       0.000133\n",
              "3  0.022417      0.000994  0.007981  0.000203  0.006146       0.000409\n",
              "4  0.081312      0.001272  0.041599  0.000475  0.015619       0.003845"
            ]
          },
          "metadata": {
            "tags": []
          },
          "execution_count": 51
        }
      ]
    },
    {
      "cell_type": "code",
      "metadata": {
        "colab": {
          "base_uri": "https://localhost:8080/",
          "height": 204
        },
        "id": "ljiIMKdNJAHM",
        "outputId": "912c7075-0381-4bd4-9796-ccce93184f76"
      },
      "source": [
        "threshold = 0.5\n",
        "df_preds = df_probs.gt(threshold).astype(np.int8)\n",
        "df_preds.head()"
      ],
      "execution_count": 53,
      "outputs": [
        {
          "output_type": "execute_result",
          "data": {
            "text/html": [
              "<div>\n",
              "<style scoped>\n",
              "    .dataframe tbody tr th:only-of-type {\n",
              "        vertical-align: middle;\n",
              "    }\n",
              "\n",
              "    .dataframe tbody tr th {\n",
              "        vertical-align: top;\n",
              "    }\n",
              "\n",
              "    .dataframe thead th {\n",
              "        text-align: right;\n",
              "    }\n",
              "</style>\n",
              "<table border=\"1\" class=\"dataframe\">\n",
              "  <thead>\n",
              "    <tr style=\"text-align: right;\">\n",
              "      <th></th>\n",
              "      <th>toxic</th>\n",
              "      <th>severe_toxic</th>\n",
              "      <th>obscene</th>\n",
              "      <th>threat</th>\n",
              "      <th>insult</th>\n",
              "      <th>identity_hate</th>\n",
              "    </tr>\n",
              "  </thead>\n",
              "  <tbody>\n",
              "    <tr>\n",
              "      <th>0</th>\n",
              "      <td>0</td>\n",
              "      <td>0</td>\n",
              "      <td>0</td>\n",
              "      <td>0</td>\n",
              "      <td>0</td>\n",
              "      <td>0</td>\n",
              "    </tr>\n",
              "    <tr>\n",
              "      <th>1</th>\n",
              "      <td>0</td>\n",
              "      <td>0</td>\n",
              "      <td>0</td>\n",
              "      <td>0</td>\n",
              "      <td>0</td>\n",
              "      <td>0</td>\n",
              "    </tr>\n",
              "    <tr>\n",
              "      <th>2</th>\n",
              "      <td>0</td>\n",
              "      <td>0</td>\n",
              "      <td>0</td>\n",
              "      <td>0</td>\n",
              "      <td>0</td>\n",
              "      <td>0</td>\n",
              "    </tr>\n",
              "    <tr>\n",
              "      <th>3</th>\n",
              "      <td>0</td>\n",
              "      <td>0</td>\n",
              "      <td>0</td>\n",
              "      <td>0</td>\n",
              "      <td>0</td>\n",
              "      <td>0</td>\n",
              "    </tr>\n",
              "    <tr>\n",
              "      <th>4</th>\n",
              "      <td>0</td>\n",
              "      <td>0</td>\n",
              "      <td>0</td>\n",
              "      <td>0</td>\n",
              "      <td>0</td>\n",
              "      <td>0</td>\n",
              "    </tr>\n",
              "  </tbody>\n",
              "</table>\n",
              "</div>"
            ],
            "text/plain": [
              "   toxic  severe_toxic  obscene  threat  insult  identity_hate\n",
              "0      0             0        0       0       0              0\n",
              "1      0             0        0       0       0              0\n",
              "2      0             0        0       0       0              0\n",
              "3      0             0        0       0       0              0\n",
              "4      0             0        0       0       0              0"
            ]
          },
          "metadata": {
            "tags": []
          },
          "execution_count": 53
        }
      ]
    },
    {
      "cell_type": "markdown",
      "metadata": {
        "id": "kJJB6X4paLm3"
      },
      "source": [
        "# Model Evaluation"
      ]
    },
    {
      "cell_type": "code",
      "metadata": {
        "id": "GQKTISMnJgg2"
      },
      "source": [
        "from sklearn import metrics as skmetrics"
      ],
      "execution_count": 54,
      "outputs": []
    },
    {
      "cell_type": "code",
      "metadata": {
        "colab": {
          "base_uri": "https://localhost:8080/"
        },
        "id": "AXymR1NWJQkG",
        "outputId": "a0e17462-abe7-48a9-a7fd-f82d61b0d3b8"
      },
      "source": [
        "f1= skmetrics.f1_score(df_test[class_names], df_preds,average='micro')\n",
        "acc = skmetrics.accuracy_score(df_test[class_names], df_preds)\n",
        "\n",
        "print(f'F1-score (micro)  : {f1:.4f}')\n",
        "print(f'Accuracy (overall): {acc:.4f}')"
      ],
      "execution_count": 59,
      "outputs": [
        {
          "output_type": "stream",
          "text": [
            "F1-score (micro)  : 0.6201\n",
            "Accuracy (overall): 0.9080\n"
          ],
          "name": "stdout"
        }
      ]
    },
    {
      "cell_type": "markdown",
      "metadata": {
        "id": "CrdgCIVNJQnL"
      },
      "source": [
        "## Confusion Matrix"
      ]
    },
    {
      "cell_type": "code",
      "metadata": {
        "colab": {
          "base_uri": "https://localhost:8080/"
        },
        "id": "OMFnu3twJQpy",
        "outputId": "e00186a3-be87-43c2-8ac7-62a27551876a"
      },
      "source": [
        "from sklearn.metrics import multilabel_confusion_matrix\n",
        "\n",
        "mcm = multilabel_confusion_matrix(df_test[class_names], df_preds)\n",
        "mcm"
      ],
      "execution_count": 61,
      "outputs": [
        {
          "output_type": "execute_result",
          "data": {
            "text/plain": [
              "array([[[28415,   408],\n",
              "        [ 1315,  1777]],\n",
              "\n",
              "       [[31529,    73],\n",
              "        [  236,    77]],\n",
              "\n",
              "       [[30022,   226],\n",
              "        [  753,   914]],\n",
              "\n",
              "       [[31805,    11],\n",
              "        [   85,    14]],\n",
              "\n",
              "       [[30091,   239],\n",
              "        [  805,   780]],\n",
              "\n",
              "       [[31624,    22],\n",
              "        [  234,    35]]])"
            ]
          },
          "metadata": {
            "tags": []
          },
          "execution_count": 61
        }
      ]
    },
    {
      "cell_type": "markdown",
      "metadata": {
        "id": "c4pO7-fRJQtO"
      },
      "source": [
        "## Classification Report"
      ]
    },
    {
      "cell_type": "code",
      "metadata": {
        "colab": {
          "base_uri": "https://localhost:8080/"
        },
        "id": "116knistJQwx",
        "outputId": "fe35d5a4-06f2-4769-eab3-c5bb45850bf0"
      },
      "source": [
        "clf_report = skmetrics.classification_report(\n",
        "    df_test[class_names], df_preds,\n",
        "    target_names=class_names)\n",
        "\n",
        "print(clf_report)"
      ],
      "execution_count": 63,
      "outputs": [
        {
          "output_type": "stream",
          "text": [
            "               precision    recall  f1-score   support\n",
            "\n",
            "        toxic       0.81      0.57      0.67      3092\n",
            " severe_toxic       0.51      0.25      0.33       313\n",
            "      obscene       0.80      0.55      0.65      1667\n",
            "       threat       0.56      0.14      0.23        99\n",
            "       insult       0.77      0.49      0.60      1585\n",
            "identity_hate       0.61      0.13      0.21       269\n",
            "\n",
            "    micro avg       0.79      0.51      0.62      7025\n",
            "    macro avg       0.68      0.36      0.45      7025\n",
            " weighted avg       0.78      0.51      0.61      7025\n",
            "  samples avg       0.05      0.05      0.05      7025\n",
            "\n"
          ],
          "name": "stdout"
        },
        {
          "output_type": "stream",
          "text": [
            "/usr/local/lib/python3.6/dist-packages/sklearn/metrics/_classification.py:1272: UndefinedMetricWarning: Precision and F-score are ill-defined and being set to 0.0 in samples with no predicted labels. Use `zero_division` parameter to control this behavior.\n",
            "  _warn_prf(average, modifier, msg_start, len(result))\n",
            "/usr/local/lib/python3.6/dist-packages/sklearn/metrics/_classification.py:1272: UndefinedMetricWarning: Recall and F-score are ill-defined and being set to 0.0 in samples with no true labels. Use `zero_division` parameter to control this behavior.\n",
            "  _warn_prf(average, modifier, msg_start, len(result))\n"
          ],
          "name": "stderr"
        }
      ]
    },
    {
      "cell_type": "markdown",
      "metadata": {
        "id": "8HBMQ7mjJQ0a"
      },
      "source": [
        "## Co-occurence Matrix"
      ]
    },
    {
      "cell_type": "code",
      "metadata": {
        "colab": {
          "base_uri": "https://localhost:8080/",
          "height": 166
        },
        "id": "3s-1tNJqJQ37",
        "outputId": "6c4c22a3-8ece-4d6f-f12a-ca0f0d38e235"
      },
      "source": [
        "coo = df_test[class_names].T.dot(df_preds)\n",
        "df_coo = pd.DataFrame(coo, columns=class_names,index=class_names)\n",
        "df_coo.style.background_gradient()"
      ],
      "execution_count": 66,
      "outputs": [
        {
          "output_type": "execute_result",
          "data": {
            "text/html": [
              "<style  type=\"text/css\" >\n",
              "#T_a2c36b06_3664_11eb_97f7_0242ac1c0002row0_col0,#T_a2c36b06_3664_11eb_97f7_0242ac1c0002row0_col1,#T_a2c36b06_3664_11eb_97f7_0242ac1c0002row0_col2,#T_a2c36b06_3664_11eb_97f7_0242ac1c0002row0_col3,#T_a2c36b06_3664_11eb_97f7_0242ac1c0002row0_col4,#T_a2c36b06_3664_11eb_97f7_0242ac1c0002row0_col5{\n",
              "            background-color:  #023858;\n",
              "            color:  #f1f1f1;\n",
              "        }#T_a2c36b06_3664_11eb_97f7_0242ac1c0002row1_col0{\n",
              "            background-color:  #ece7f2;\n",
              "            color:  #000000;\n",
              "        }#T_a2c36b06_3664_11eb_97f7_0242ac1c0002row1_col1{\n",
              "            background-color:  #80aed2;\n",
              "            color:  #000000;\n",
              "        }#T_a2c36b06_3664_11eb_97f7_0242ac1c0002row1_col2{\n",
              "            background-color:  #d9d8ea;\n",
              "            color:  #000000;\n",
              "        }#T_a2c36b06_3664_11eb_97f7_0242ac1c0002row1_col3{\n",
              "            background-color:  #afc1dd;\n",
              "            color:  #000000;\n",
              "        }#T_a2c36b06_3664_11eb_97f7_0242ac1c0002row1_col4{\n",
              "            background-color:  #d8d7e9;\n",
              "            color:  #000000;\n",
              "        }#T_a2c36b06_3664_11eb_97f7_0242ac1c0002row1_col5{\n",
              "            background-color:  #b3c3de;\n",
              "            color:  #000000;\n",
              "        }#T_a2c36b06_3664_11eb_97f7_0242ac1c0002row2_col0{\n",
              "            background-color:  #2987bc;\n",
              "            color:  #000000;\n",
              "        }#T_a2c36b06_3664_11eb_97f7_0242ac1c0002row2_col1{\n",
              "            background-color:  #034267;\n",
              "            color:  #f1f1f1;\n",
              "        }#T_a2c36b06_3664_11eb_97f7_0242ac1c0002row2_col2{\n",
              "            background-color:  #046096;\n",
              "            color:  #f1f1f1;\n",
              "        }#T_a2c36b06_3664_11eb_97f7_0242ac1c0002row2_col3{\n",
              "            background-color:  #4295c3;\n",
              "            color:  #000000;\n",
              "        }#T_a2c36b06_3664_11eb_97f7_0242ac1c0002row2_col4{\n",
              "            background-color:  #05659f;\n",
              "            color:  #f1f1f1;\n",
              "        }#T_a2c36b06_3664_11eb_97f7_0242ac1c0002row2_col5{\n",
              "            background-color:  #0569a4;\n",
              "            color:  #f1f1f1;\n",
              "        }#T_a2c36b06_3664_11eb_97f7_0242ac1c0002row3_col0,#T_a2c36b06_3664_11eb_97f7_0242ac1c0002row3_col1,#T_a2c36b06_3664_11eb_97f7_0242ac1c0002row3_col2,#T_a2c36b06_3664_11eb_97f7_0242ac1c0002row3_col4,#T_a2c36b06_3664_11eb_97f7_0242ac1c0002row3_col5,#T_a2c36b06_3664_11eb_97f7_0242ac1c0002row5_col3{\n",
              "            background-color:  #fff7fb;\n",
              "            color:  #000000;\n",
              "        }#T_a2c36b06_3664_11eb_97f7_0242ac1c0002row3_col3{\n",
              "            background-color:  #5c9fc9;\n",
              "            color:  #000000;\n",
              "        }#T_a2c36b06_3664_11eb_97f7_0242ac1c0002row4_col0{\n",
              "            background-color:  #358fc0;\n",
              "            color:  #000000;\n",
              "        }#T_a2c36b06_3664_11eb_97f7_0242ac1c0002row4_col1{\n",
              "            background-color:  #045585;\n",
              "            color:  #f1f1f1;\n",
              "        }#T_a2c36b06_3664_11eb_97f7_0242ac1c0002row4_col2{\n",
              "            background-color:  #0771b1;\n",
              "            color:  #f1f1f1;\n",
              "        }#T_a2c36b06_3664_11eb_97f7_0242ac1c0002row4_col3{\n",
              "            background-color:  #73a9cf;\n",
              "            color:  #000000;\n",
              "        }#T_a2c36b06_3664_11eb_97f7_0242ac1c0002row4_col4{\n",
              "            background-color:  #0569a5;\n",
              "            color:  #f1f1f1;\n",
              "        }#T_a2c36b06_3664_11eb_97f7_0242ac1c0002row4_col5{\n",
              "            background-color:  #046299;\n",
              "            color:  #f1f1f1;\n",
              "        }#T_a2c36b06_3664_11eb_97f7_0242ac1c0002row5_col0{\n",
              "            background-color:  #f4eef6;\n",
              "            color:  #000000;\n",
              "        }#T_a2c36b06_3664_11eb_97f7_0242ac1c0002row5_col1,#T_a2c36b06_3664_11eb_97f7_0242ac1c0002row5_col4{\n",
              "            background-color:  #f1ebf4;\n",
              "            color:  #000000;\n",
              "        }#T_a2c36b06_3664_11eb_97f7_0242ac1c0002row5_col2{\n",
              "            background-color:  #f1ebf5;\n",
              "            color:  #000000;\n",
              "        }#T_a2c36b06_3664_11eb_97f7_0242ac1c0002row5_col5{\n",
              "            background-color:  #2f8bbe;\n",
              "            color:  #000000;\n",
              "        }</style><table id=\"T_a2c36b06_3664_11eb_97f7_0242ac1c0002\" ><thead>    <tr>        <th class=\"blank level0\" ></th>        <th class=\"col_heading level0 col0\" >toxic</th>        <th class=\"col_heading level0 col1\" >severe_toxic</th>        <th class=\"col_heading level0 col2\" >obscene</th>        <th class=\"col_heading level0 col3\" >threat</th>        <th class=\"col_heading level0 col4\" >insult</th>        <th class=\"col_heading level0 col5\" >identity_hate</th>    </tr></thead><tbody>\n",
              "                <tr>\n",
              "                        <th id=\"T_a2c36b06_3664_11eb_97f7_0242ac1c0002level0_row0\" class=\"row_heading level0 row0\" >toxic</th>\n",
              "                        <td id=\"T_a2c36b06_3664_11eb_97f7_0242ac1c0002row0_col0\" class=\"data row0 col0\" >1777</td>\n",
              "                        <td id=\"T_a2c36b06_3664_11eb_97f7_0242ac1c0002row0_col1\" class=\"data row0 col1\" >150</td>\n",
              "                        <td id=\"T_a2c36b06_3664_11eb_97f7_0242ac1c0002row0_col2\" class=\"data row0 col2\" >1075</td>\n",
              "                        <td id=\"T_a2c36b06_3664_11eb_97f7_0242ac1c0002row0_col3\" class=\"data row0 col3\" >23</td>\n",
              "                        <td id=\"T_a2c36b06_3664_11eb_97f7_0242ac1c0002row0_col4\" class=\"data row0 col4\" >975</td>\n",
              "                        <td id=\"T_a2c36b06_3664_11eb_97f7_0242ac1c0002row0_col5\" class=\"data row0 col5\" >54</td>\n",
              "            </tr>\n",
              "            <tr>\n",
              "                        <th id=\"T_a2c36b06_3664_11eb_97f7_0242ac1c0002level0_row1\" class=\"row_heading level0 row1\" >severe_toxic</th>\n",
              "                        <td id=\"T_a2c36b06_3664_11eb_97f7_0242ac1c0002row1_col0\" class=\"data row1 col0\" >291</td>\n",
              "                        <td id=\"T_a2c36b06_3664_11eb_97f7_0242ac1c0002row1_col1\" class=\"data row1 col1\" >77</td>\n",
              "                        <td id=\"T_a2c36b06_3664_11eb_97f7_0242ac1c0002row1_col2\" class=\"data row1 col2\" >268</td>\n",
              "                        <td id=\"T_a2c36b06_3664_11eb_97f7_0242ac1c0002row1_col3\" class=\"data row1 col3\" >10</td>\n",
              "                        <td id=\"T_a2c36b06_3664_11eb_97f7_0242ac1c0002row1_col4\" class=\"data row1 col4\" >253</td>\n",
              "                        <td id=\"T_a2c36b06_3664_11eb_97f7_0242ac1c0002row1_col5\" class=\"data row1 col5\" >19</td>\n",
              "            </tr>\n",
              "            <tr>\n",
              "                        <th id=\"T_a2c36b06_3664_11eb_97f7_0242ac1c0002level0_row2\" class=\"row_heading level0 row2\" >obscene</th>\n",
              "                        <td id=\"T_a2c36b06_3664_11eb_97f7_0242ac1c0002row2_col0\" class=\"data row2 col0\" >1195</td>\n",
              "                        <td id=\"T_a2c36b06_3664_11eb_97f7_0242ac1c0002row2_col1\" class=\"data row2 col1\" >145</td>\n",
              "                        <td id=\"T_a2c36b06_3664_11eb_97f7_0242ac1c0002row2_col2\" class=\"data row2 col2\" >914</td>\n",
              "                        <td id=\"T_a2c36b06_3664_11eb_97f7_0242ac1c0002row2_col3\" class=\"data row2 col3\" >15</td>\n",
              "                        <td id=\"T_a2c36b06_3664_11eb_97f7_0242ac1c0002row2_col4\" class=\"data row2 col4\" >800</td>\n",
              "                        <td id=\"T_a2c36b06_3664_11eb_97f7_0242ac1c0002row2_col5\" class=\"data row2 col5\" >43</td>\n",
              "            </tr>\n",
              "            <tr>\n",
              "                        <th id=\"T_a2c36b06_3664_11eb_97f7_0242ac1c0002level0_row3\" class=\"row_heading level0 row3\" >threat</th>\n",
              "                        <td id=\"T_a2c36b06_3664_11eb_97f7_0242ac1c0002row3_col0\" class=\"data row3 col0\" >77</td>\n",
              "                        <td id=\"T_a2c36b06_3664_11eb_97f7_0242ac1c0002row3_col1\" class=\"data row3 col1\" >12</td>\n",
              "                        <td id=\"T_a2c36b06_3664_11eb_97f7_0242ac1c0002row3_col2\" class=\"data row3 col2\" >50</td>\n",
              "                        <td id=\"T_a2c36b06_3664_11eb_97f7_0242ac1c0002row3_col3\" class=\"data row3 col3\" >14</td>\n",
              "                        <td id=\"T_a2c36b06_3664_11eb_97f7_0242ac1c0002row3_col4\" class=\"data row3 col4\" >51</td>\n",
              "                        <td id=\"T_a2c36b06_3664_11eb_97f7_0242ac1c0002row3_col5\" class=\"data row3 col5\" >1</td>\n",
              "            </tr>\n",
              "            <tr>\n",
              "                        <th id=\"T_a2c36b06_3664_11eb_97f7_0242ac1c0002level0_row4\" class=\"row_heading level0 row4\" >insult</th>\n",
              "                        <td id=\"T_a2c36b06_3664_11eb_97f7_0242ac1c0002row4_col0\" class=\"data row4 col0\" >1142</td>\n",
              "                        <td id=\"T_a2c36b06_3664_11eb_97f7_0242ac1c0002row4_col1\" class=\"data row4 col1\" >135</td>\n",
              "                        <td id=\"T_a2c36b06_3664_11eb_97f7_0242ac1c0002row4_col2\" class=\"data row4 col2\" >813</td>\n",
              "                        <td id=\"T_a2c36b06_3664_11eb_97f7_0242ac1c0002row4_col3\" class=\"data row4 col3\" >13</td>\n",
              "                        <td id=\"T_a2c36b06_3664_11eb_97f7_0242ac1c0002row4_col4\" class=\"data row4 col4\" >780</td>\n",
              "                        <td id=\"T_a2c36b06_3664_11eb_97f7_0242ac1c0002row4_col5\" class=\"data row4 col5\" >45</td>\n",
              "            </tr>\n",
              "            <tr>\n",
              "                        <th id=\"T_a2c36b06_3664_11eb_97f7_0242ac1c0002level0_row5\" class=\"row_heading level0 row5\" >identity_hate</th>\n",
              "                        <td id=\"T_a2c36b06_3664_11eb_97f7_0242ac1c0002row5_col0\" class=\"data row5 col0\" >199</td>\n",
              "                        <td id=\"T_a2c36b06_3664_11eb_97f7_0242ac1c0002row5_col1\" class=\"data row5 col1\" >25</td>\n",
              "                        <td id=\"T_a2c36b06_3664_11eb_97f7_0242ac1c0002row5_col2\" class=\"data row5 col2\" >143</td>\n",
              "                        <td id=\"T_a2c36b06_3664_11eb_97f7_0242ac1c0002row5_col3\" class=\"data row5 col3\" >3</td>\n",
              "                        <td id=\"T_a2c36b06_3664_11eb_97f7_0242ac1c0002row5_col4\" class=\"data row5 col4\" >141</td>\n",
              "                        <td id=\"T_a2c36b06_3664_11eb_97f7_0242ac1c0002row5_col5\" class=\"data row5 col5\" >35</td>\n",
              "            </tr>\n",
              "    </tbody></table>"
            ],
            "text/plain": [
              "<pandas.io.formats.style.Styler at 0x7f1680f028d0>"
            ]
          },
          "metadata": {
            "tags": []
          },
          "execution_count": 66
        }
      ]
    },
    {
      "cell_type": "code",
      "metadata": {
        "colab": {
          "base_uri": "https://localhost:8080/",
          "height": 266
        },
        "id": "5lBSo6KBK2Uq",
        "outputId": "19264f9c-0249-411b-eb18-5cfa465a069c"
      },
      "source": [
        "df_coo2 = df_coo.copy()\n",
        "df_coo2['Total'] = df_coo2.sum(axis=1)\n",
        "df_coo2.loc[len(df_coo2),:] = df_coo2.sum(axis=0)\n",
        "df_coo2.index = df_coo.index.tolist() + ['Total']\n",
        "df_coo2 = df_coo2.astype(int)\n",
        "\n",
        "# horizontal is true, vertical is predicted\n",
        "df_coo2"
      ],
      "execution_count": 67,
      "outputs": [
        {
          "output_type": "execute_result",
          "data": {
            "text/html": [
              "<div>\n",
              "<style scoped>\n",
              "    .dataframe tbody tr th:only-of-type {\n",
              "        vertical-align: middle;\n",
              "    }\n",
              "\n",
              "    .dataframe tbody tr th {\n",
              "        vertical-align: top;\n",
              "    }\n",
              "\n",
              "    .dataframe thead th {\n",
              "        text-align: right;\n",
              "    }\n",
              "</style>\n",
              "<table border=\"1\" class=\"dataframe\">\n",
              "  <thead>\n",
              "    <tr style=\"text-align: right;\">\n",
              "      <th></th>\n",
              "      <th>toxic</th>\n",
              "      <th>severe_toxic</th>\n",
              "      <th>obscene</th>\n",
              "      <th>threat</th>\n",
              "      <th>insult</th>\n",
              "      <th>identity_hate</th>\n",
              "      <th>Total</th>\n",
              "    </tr>\n",
              "  </thead>\n",
              "  <tbody>\n",
              "    <tr>\n",
              "      <th>toxic</th>\n",
              "      <td>1777</td>\n",
              "      <td>150</td>\n",
              "      <td>1075</td>\n",
              "      <td>23</td>\n",
              "      <td>975</td>\n",
              "      <td>54</td>\n",
              "      <td>4054</td>\n",
              "    </tr>\n",
              "    <tr>\n",
              "      <th>severe_toxic</th>\n",
              "      <td>291</td>\n",
              "      <td>77</td>\n",
              "      <td>268</td>\n",
              "      <td>10</td>\n",
              "      <td>253</td>\n",
              "      <td>19</td>\n",
              "      <td>918</td>\n",
              "    </tr>\n",
              "    <tr>\n",
              "      <th>obscene</th>\n",
              "      <td>1195</td>\n",
              "      <td>145</td>\n",
              "      <td>914</td>\n",
              "      <td>15</td>\n",
              "      <td>800</td>\n",
              "      <td>43</td>\n",
              "      <td>3112</td>\n",
              "    </tr>\n",
              "    <tr>\n",
              "      <th>threat</th>\n",
              "      <td>77</td>\n",
              "      <td>12</td>\n",
              "      <td>50</td>\n",
              "      <td>14</td>\n",
              "      <td>51</td>\n",
              "      <td>1</td>\n",
              "      <td>205</td>\n",
              "    </tr>\n",
              "    <tr>\n",
              "      <th>insult</th>\n",
              "      <td>1142</td>\n",
              "      <td>135</td>\n",
              "      <td>813</td>\n",
              "      <td>13</td>\n",
              "      <td>780</td>\n",
              "      <td>45</td>\n",
              "      <td>2928</td>\n",
              "    </tr>\n",
              "    <tr>\n",
              "      <th>identity_hate</th>\n",
              "      <td>199</td>\n",
              "      <td>25</td>\n",
              "      <td>143</td>\n",
              "      <td>3</td>\n",
              "      <td>141</td>\n",
              "      <td>35</td>\n",
              "      <td>546</td>\n",
              "    </tr>\n",
              "    <tr>\n",
              "      <th>Total</th>\n",
              "      <td>4681</td>\n",
              "      <td>544</td>\n",
              "      <td>3263</td>\n",
              "      <td>78</td>\n",
              "      <td>3000</td>\n",
              "      <td>197</td>\n",
              "      <td>11763</td>\n",
              "    </tr>\n",
              "  </tbody>\n",
              "</table>\n",
              "</div>"
            ],
            "text/plain": [
              "               toxic  severe_toxic  obscene  ...  insult  identity_hate  Total\n",
              "toxic           1777           150     1075  ...     975             54   4054\n",
              "severe_toxic     291            77      268  ...     253             19    918\n",
              "obscene         1195           145      914  ...     800             43   3112\n",
              "threat            77            12       50  ...      51              1    205\n",
              "insult          1142           135      813  ...     780             45   2928\n",
              "identity_hate    199            25      143  ...     141             35    546\n",
              "Total           4681           544     3263  ...    3000            197  11763\n",
              "\n",
              "[7 rows x 7 columns]"
            ]
          },
          "metadata": {
            "tags": []
          },
          "execution_count": 67
        }
      ]
    },
    {
      "cell_type": "markdown",
      "metadata": {
        "id": "oBg6UCYAYtIe"
      },
      "source": [
        "# Time Taken"
      ]
    },
    {
      "cell_type": "code",
      "metadata": {
        "id": "VGBSQZ7JYXhx"
      },
      "source": [
        "time_taken = time.time() - time_start_notebook\n",
        "h,m = divmod(time_taken,60*60)\n",
        "print('Time taken to run whole notebook: {:.0f} hr '\\\n",
        "      '{:.0f} min {:.0f} secs'.format(h, *divmod(m,60)))\n",
        "\n",
        "# Time taken to run whole notebook: 1 hr 10 min 31 secs"
      ],
      "execution_count": null,
      "outputs": []
    }
  ]
}