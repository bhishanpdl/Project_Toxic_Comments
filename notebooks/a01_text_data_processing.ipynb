{
  "nbformat": 4,
  "nbformat_minor": 0,
  "metadata": {
    "colab": {
      "name": "a01_text_data_processing.ipynb",
      "provenance": [],
      "collapsed_sections": []
    },
    "kernelspec": {
      "name": "python3",
      "display_name": "Python 3"
    }
  },
  "cells": [
    {
      "cell_type": "markdown",
      "metadata": {
        "id": "cLqGAQYjw_0x",
        "colab_type": "text"
      },
      "source": [
        "# Introduction\n",
        "[Data Description](https://www.kaggle.com/c/jigsaw-toxic-comment-classification-challenge/data)\n",
        "\n",
        "\n",
        "You are provided with a large number of Wikipedia comments which have been labeled by human raters for toxic behavior. The types of toxicity are:\n",
        "```\n",
        "toxic\n",
        "severe_toxic\n",
        "obscene\n",
        "threat\n",
        "insult\n",
        "identity_hate\n",
        "```\n",
        "You must create a model which predicts a probability of each type of toxicity for each comment.\n"
      ]
    },
    {
      "cell_type": "markdown",
      "metadata": {
        "id": "hz_92TLlxCsY",
        "colab_type": "text"
      },
      "source": [
        "# Imports"
      ]
    },
    {
      "cell_type": "code",
      "metadata": {
        "id": "5Hy6h3oeN3uV",
        "colab_type": "code",
        "outputId": "a5096443-0a7e-41e0-c8fa-0f668f4d9734",
        "colab": {
          "base_uri": "https://localhost:8080/",
          "height": 34
        }
      },
      "source": [
        "import numpy as np\n",
        "import pandas as pd\n",
        "import seaborn as sns\n",
        "sns.set(color_codes=True)\n",
        "\n",
        "import matplotlib\n",
        "import matplotlib.pyplot as plt\n",
        "%matplotlib inline\n",
        "%config InlineBackend.figure_format = 'retina'\n",
        "sns.set(context='notebook', style='whitegrid', rc={'figure.figsize': (12,8)})\n",
        "plt.style.use('ggplot') # better than sns styles.\n",
        "matplotlib.rcParams['figure.figsize'] = 12,8\n",
        "\n",
        "import os\n",
        "import time\n",
        "\n",
        "# random state\n",
        "SEED=100\n",
        "np.random.seed(SEED)\n",
        "\n",
        "# Jupyter notebook settings for pandas\n",
        "#pd.set_option('display.float_format', '{:,.2g}'.format) # numbers sep by comma\n",
        "from pandas.api.types import CategoricalDtype\n",
        "np.set_printoptions(precision=3)\n",
        "pd.set_option('display.max_columns', 100)\n",
        "pd.set_option('display.max_rows', 100) # None for all the rows\n",
        "pd.set_option('display.max_colwidth', 500)\n",
        "\n",
        "import IPython\n",
        "from IPython.display import display, HTML, Image, Markdown\n",
        "\n",
        "print([(x.__name__,x.__version__) for x in [np, pd,sns,matplotlib]])"
      ],
      "execution_count": 0,
      "outputs": [
        {
          "output_type": "stream",
          "text": [
            "[('numpy', '1.17.4'), ('pandas', '0.25.3'), ('seaborn', '0.9.0'), ('matplotlib', '3.1.1')]\n"
          ],
          "name": "stdout"
        }
      ]
    },
    {
      "cell_type": "code",
      "metadata": {
        "id": "ZWwnmdDd-_Wz",
        "colab_type": "code",
        "colab": {}
      },
      "source": [
        "import re\n",
        "import string # string.punctuation\n",
        "import string\n",
        "from string import digits"
      ],
      "execution_count": 0,
      "outputs": []
    },
    {
      "cell_type": "code",
      "metadata": {
        "id": "rrX8JS1Dx5aS",
        "colab_type": "code",
        "outputId": "19c1ce34-a942-425b-d2bf-b41be88ba529",
        "colab": {
          "base_uri": "https://localhost:8080/",
          "height": 87
        }
      },
      "source": [
        "import nltk\n",
        "from nltk import word_tokenize\n",
        "from nltk.stem import WordNetLemmatizer\n",
        "\n",
        "nltk.download('stopwords')\n",
        "nltk.download('wordnet')\n",
        "\n",
        "\n",
        "from nltk.corpus import stopwords\n",
        "stop_words = stopwords.words('english')"
      ],
      "execution_count": 0,
      "outputs": [
        {
          "output_type": "stream",
          "text": [
            "[nltk_data] Downloading package stopwords to /root/nltk_data...\n",
            "[nltk_data]   Package stopwords is already up-to-date!\n",
            "[nltk_data] Downloading package wordnet to /root/nltk_data...\n",
            "[nltk_data]   Package wordnet is already up-to-date!\n"
          ],
          "name": "stdout"
        }
      ]
    },
    {
      "cell_type": "code",
      "metadata": {
        "id": "UPNaf1UuvpFd",
        "colab_type": "code",
        "outputId": "6fe30b69-0d6a-46ef-f512-2e264b82019d",
        "colab": {
          "base_uri": "https://localhost:8080/",
          "height": 52
        }
      },
      "source": [
        "ENV_BHISHAN = None\n",
        "\n",
        "try:\n",
        "    import bhishan\n",
        "    ENV_BHISHAN = True\n",
        "    print(\"Environment: Bhishan's Laptop\")\n",
        "except:\n",
        "    pass\n",
        "\n",
        "\n",
        "import sys\n",
        "ENV_COLAB = 'google.colab' in sys.modules\n",
        "\n",
        "if ENV_COLAB:\n",
        "    # load google drive\n",
        "    # from google.colab import drive\n",
        "    # drive.mount('/content/drive')\n",
        "    # dat_dir = 'drive/My Drive/Colab Notebooks/data/' \n",
        "    # sys.path.append(dat_dir)\n",
        "    \n",
        "    # pip install\n",
        "    #!pip install pyldavis\n",
        "    #!pip install hyperopt\n",
        "    #!pip install catboost\n",
        "    !pip install -U tqdm\n",
        "    \n",
        "    # print\n",
        "    print('Environment: Google Colaboratory.')\n"
      ],
      "execution_count": 0,
      "outputs": [
        {
          "output_type": "stream",
          "text": [
            "Requirement already up-to-date: tqdm in /usr/local/lib/python3.6/dist-packages (4.39.0)\n",
            "Environment: Google Colaboratory.\n"
          ],
          "name": "stdout"
        }
      ]
    },
    {
      "cell_type": "code",
      "metadata": {
        "id": "aubAclgkyCfy",
        "colab_type": "code",
        "colab": {}
      },
      "source": [
        "from tqdm import tqdm\n",
        "tqdm.pandas()"
      ],
      "execution_count": 0,
      "outputs": []
    },
    {
      "cell_type": "markdown",
      "metadata": {
        "id": "v7k21erixFaY",
        "colab_type": "text"
      },
      "source": [
        "# Load the Data"
      ]
    },
    {
      "cell_type": "code",
      "metadata": {
        "id": "uCdh_yNNOTCi",
        "colab_type": "code",
        "outputId": "c40262fe-aad1-491e-99f4-199ee02199b5",
        "colab": {
          "base_uri": "https://localhost:8080/",
          "height": 226
        }
      },
      "source": [
        "ifile1 = '../data/raw/train.csv'\n",
        "ifile2 = 'https://github.com/bhishanpdl/Project_Toxic_Comments/blob/master/data/raw/train.csv?raw=true'\n",
        "\n",
        "if ENV_BHISHAN:\n",
        "    df = pd.read_csv(ifile1)\n",
        "\n",
        "\n",
        "if ENV_COLAB:\n",
        "    df = pd.read_csv(ifile2)\n",
        "    pass\n",
        "\n",
        "\n",
        "\n",
        "print(df.isnull().sum().sum())\n",
        "print(df.shape)\n",
        "display(df.head(2))"
      ],
      "execution_count": 0,
      "outputs": [
        {
          "output_type": "stream",
          "text": [
            "0\n",
            "(159571, 8)\n"
          ],
          "name": "stdout"
        },
        {
          "output_type": "display_data",
          "data": {
            "text/html": [
              "<div>\n",
              "<style scoped>\n",
              "    .dataframe tbody tr th:only-of-type {\n",
              "        vertical-align: middle;\n",
              "    }\n",
              "\n",
              "    .dataframe tbody tr th {\n",
              "        vertical-align: top;\n",
              "    }\n",
              "\n",
              "    .dataframe thead th {\n",
              "        text-align: right;\n",
              "    }\n",
              "</style>\n",
              "<table border=\"1\" class=\"dataframe\">\n",
              "  <thead>\n",
              "    <tr style=\"text-align: right;\">\n",
              "      <th></th>\n",
              "      <th>id</th>\n",
              "      <th>comment_text</th>\n",
              "      <th>toxic</th>\n",
              "      <th>severe_toxic</th>\n",
              "      <th>obscene</th>\n",
              "      <th>threat</th>\n",
              "      <th>insult</th>\n",
              "      <th>identity_hate</th>\n",
              "    </tr>\n",
              "  </thead>\n",
              "  <tbody>\n",
              "    <tr>\n",
              "      <th>0</th>\n",
              "      <td>0000997932d777bf</td>\n",
              "      <td>Explanation\\nWhy the edits made under my username Hardcore Metallica Fan were reverted? They weren't vandalisms, just closure on some GAs after I voted at New York Dolls FAC. And please don't remove the template from the talk page since I'm retired now.89.205.38.27</td>\n",
              "      <td>0</td>\n",
              "      <td>0</td>\n",
              "      <td>0</td>\n",
              "      <td>0</td>\n",
              "      <td>0</td>\n",
              "      <td>0</td>\n",
              "    </tr>\n",
              "    <tr>\n",
              "      <th>1</th>\n",
              "      <td>000103f0d9cfb60f</td>\n",
              "      <td>D'aww! He matches this background colour I'm seemingly stuck with. Thanks.  (talk) 21:51, January 11, 2016 (UTC)</td>\n",
              "      <td>0</td>\n",
              "      <td>0</td>\n",
              "      <td>0</td>\n",
              "      <td>0</td>\n",
              "      <td>0</td>\n",
              "      <td>0</td>\n",
              "    </tr>\n",
              "  </tbody>\n",
              "</table>\n",
              "</div>"
            ],
            "text/plain": [
              "                 id  \\\n",
              "0  0000997932d777bf   \n",
              "1  000103f0d9cfb60f   \n",
              "\n",
              "                                                                                                                                                                                                                                                                comment_text  \\\n",
              "0  Explanation\\nWhy the edits made under my username Hardcore Metallica Fan were reverted? They weren't vandalisms, just closure on some GAs after I voted at New York Dolls FAC. And please don't remove the template from the talk page since I'm retired now.89.205.38.27   \n",
              "1                                                                                                                                                           D'aww! He matches this background colour I'm seemingly stuck with. Thanks.  (talk) 21:51, January 11, 2016 (UTC)   \n",
              "\n",
              "   toxic  severe_toxic  obscene  threat  insult  identity_hate  \n",
              "0      0             0        0       0       0              0  \n",
              "1      0             0        0       0       0              0  "
            ]
          },
          "metadata": {
            "tags": []
          }
        }
      ]
    },
    {
      "cell_type": "markdown",
      "metadata": {
        "id": "YRjEdIaY4SG-",
        "colab_type": "text"
      },
      "source": [
        "# Creating text features\n",
        "[Reference](https://www.kaggle.com/kernels/scriptcontent/2176889)\n",
        "- Length of the comment - my initial assumption is that angry people write short messages\n",
        "- Number of capitals - observation was many toxic comments being ALL CAPS\n",
        "- Proportion of capitals - see previous\n",
        "- Number of exclamation marks - i observed several toxic comments with multiple exclamation marks\n",
        "- Number of question marks - assumption that angry people might not use question marks\n",
        "- Number of punctuation symbols - assumption that angry people might not use punctuation\n",
        "- Number of symbols - assumtion that words like fck or $# or sh*t mean more symbols in foul language (Thx for tip!)\n",
        "- Number of words - angry people might write short messages?\n",
        "Number of unique words - observation that angry comments are sometimes repeated many times\n",
        "- Proportion of unique words - see previous\n",
        "- Number of (happy) smilies - Angry people wouldn't use happy smilies, right?"
      ]
    },
    {
      "cell_type": "code",
      "metadata": {
        "id": "TvhfdqjI49N_",
        "colab_type": "code",
        "colab": {}
      },
      "source": [
        "df['total_length'] = df['comment_text'].apply(len)\n",
        "\n",
        "df['capitals'] = df['comment_text'].apply(\n",
        "    lambda comment: sum(1 for c in comment if c.isupper()))\n",
        "\n",
        "\n",
        "df['caps_vs_length'] = df.apply(\n",
        "    lambda row: float(row['capitals'])/float(row['total_length']),\n",
        "                                axis=1)\n",
        "\n",
        "df['num_exclamation_marks'] = df['comment_text'].apply(lambda comment: comment.count('!'))\n",
        "\n",
        "df['num_question_marks'] = df['comment_text'].apply(lambda comment: comment.count('?'))\n",
        "\n",
        "df['num_punctuation'] = df['comment_text'].apply(\n",
        "    lambda comment: sum(comment.count(w) for w in '.,;:'))\n",
        "\n",
        "df['num_symbols'] = df['comment_text'].apply(\n",
        "    lambda comment: sum(comment.count(w) for w in '*&$%'))\n",
        "\n",
        "df['num_words'] = df['comment_text'].apply(lambda comment: len(comment.split()))\n",
        "\n",
        "df['num_unique_words'] = df['comment_text'].apply(\n",
        "    lambda comment: len(set(w for w in comment.split())))\n",
        "\n",
        "df['words_vs_unique'] = df['num_unique_words'] / df['num_words']\n",
        "\n",
        "df['num_smilies'] = df['comment_text'].apply(\n",
        "    lambda comment: sum(comment.count(w) for w in (':-)', ':)', ';-)', ';)')))"
      ],
      "execution_count": 0,
      "outputs": []
    },
    {
      "cell_type": "code",
      "metadata": {
        "id": "jFbkCBX45Gk2",
        "colab_type": "code",
        "outputId": "5f6590f5-e173-45b3-853b-64f992f18e84",
        "colab": {
          "base_uri": "https://localhost:8080/",
          "height": 667
        }
      },
      "source": [
        "df.head(2).T"
      ],
      "execution_count": 0,
      "outputs": [
        {
          "output_type": "execute_result",
          "data": {
            "text/html": [
              "<div>\n",
              "<style scoped>\n",
              "    .dataframe tbody tr th:only-of-type {\n",
              "        vertical-align: middle;\n",
              "    }\n",
              "\n",
              "    .dataframe tbody tr th {\n",
              "        vertical-align: top;\n",
              "    }\n",
              "\n",
              "    .dataframe thead th {\n",
              "        text-align: right;\n",
              "    }\n",
              "</style>\n",
              "<table border=\"1\" class=\"dataframe\">\n",
              "  <thead>\n",
              "    <tr style=\"text-align: right;\">\n",
              "      <th></th>\n",
              "      <th>0</th>\n",
              "      <th>1</th>\n",
              "    </tr>\n",
              "  </thead>\n",
              "  <tbody>\n",
              "    <tr>\n",
              "      <th>id</th>\n",
              "      <td>0000997932d777bf</td>\n",
              "      <td>000103f0d9cfb60f</td>\n",
              "    </tr>\n",
              "    <tr>\n",
              "      <th>comment_text</th>\n",
              "      <td>Explanation\\nWhy the edits made under my username Hardcore Metallica Fan were reverted? They weren't vandalisms, just closure on some GAs after I voted at New York Dolls FAC. And please don't remove the template from the talk page since I'm retired now.89.205.38.27</td>\n",
              "      <td>D'aww! He matches this background colour I'm seemingly stuck with. Thanks.  (talk) 21:51, January 11, 2016 (UTC)</td>\n",
              "    </tr>\n",
              "    <tr>\n",
              "      <th>toxic</th>\n",
              "      <td>0</td>\n",
              "      <td>0</td>\n",
              "    </tr>\n",
              "    <tr>\n",
              "      <th>severe_toxic</th>\n",
              "      <td>0</td>\n",
              "      <td>0</td>\n",
              "    </tr>\n",
              "    <tr>\n",
              "      <th>obscene</th>\n",
              "      <td>0</td>\n",
              "      <td>0</td>\n",
              "    </tr>\n",
              "    <tr>\n",
              "      <th>threat</th>\n",
              "      <td>0</td>\n",
              "      <td>0</td>\n",
              "    </tr>\n",
              "    <tr>\n",
              "      <th>insult</th>\n",
              "      <td>0</td>\n",
              "      <td>0</td>\n",
              "    </tr>\n",
              "    <tr>\n",
              "      <th>identity_hate</th>\n",
              "      <td>0</td>\n",
              "      <td>0</td>\n",
              "    </tr>\n",
              "    <tr>\n",
              "      <th>total_length</th>\n",
              "      <td>264</td>\n",
              "      <td>112</td>\n",
              "    </tr>\n",
              "    <tr>\n",
              "      <th>capitals</th>\n",
              "      <td>17</td>\n",
              "      <td>8</td>\n",
              "    </tr>\n",
              "    <tr>\n",
              "      <th>caps_vs_length</th>\n",
              "      <td>0.0643939</td>\n",
              "      <td>0.0714286</td>\n",
              "    </tr>\n",
              "    <tr>\n",
              "      <th>num_exclamation_marks</th>\n",
              "      <td>0</td>\n",
              "      <td>1</td>\n",
              "    </tr>\n",
              "    <tr>\n",
              "      <th>num_question_marks</th>\n",
              "      <td>1</td>\n",
              "      <td>0</td>\n",
              "    </tr>\n",
              "    <tr>\n",
              "      <th>num_punctuation</th>\n",
              "      <td>6</td>\n",
              "      <td>5</td>\n",
              "    </tr>\n",
              "    <tr>\n",
              "      <th>num_symbols</th>\n",
              "      <td>0</td>\n",
              "      <td>0</td>\n",
              "    </tr>\n",
              "    <tr>\n",
              "      <th>num_words</th>\n",
              "      <td>43</td>\n",
              "      <td>17</td>\n",
              "    </tr>\n",
              "    <tr>\n",
              "      <th>num_unique_words</th>\n",
              "      <td>41</td>\n",
              "      <td>17</td>\n",
              "    </tr>\n",
              "    <tr>\n",
              "      <th>words_vs_unique</th>\n",
              "      <td>0.953488</td>\n",
              "      <td>1</td>\n",
              "    </tr>\n",
              "    <tr>\n",
              "      <th>num_smilies</th>\n",
              "      <td>0</td>\n",
              "      <td>0</td>\n",
              "    </tr>\n",
              "  </tbody>\n",
              "</table>\n",
              "</div>"
            ],
            "text/plain": [
              "                                                                                                                                                                                                                                                                                               0  \\\n",
              "id                                                                                                                                                                                                                                                                              0000997932d777bf   \n",
              "comment_text           Explanation\\nWhy the edits made under my username Hardcore Metallica Fan were reverted? They weren't vandalisms, just closure on some GAs after I voted at New York Dolls FAC. And please don't remove the template from the talk page since I'm retired now.89.205.38.27   \n",
              "toxic                                                                                                                                                                                                                                                                                          0   \n",
              "severe_toxic                                                                                                                                                                                                                                                                                   0   \n",
              "obscene                                                                                                                                                                                                                                                                                        0   \n",
              "threat                                                                                                                                                                                                                                                                                         0   \n",
              "insult                                                                                                                                                                                                                                                                                         0   \n",
              "identity_hate                                                                                                                                                                                                                                                                                  0   \n",
              "total_length                                                                                                                                                                                                                                                                                 264   \n",
              "capitals                                                                                                                                                                                                                                                                                      17   \n",
              "caps_vs_length                                                                                                                                                                                                                                                                         0.0643939   \n",
              "num_exclamation_marks                                                                                                                                                                                                                                                                          0   \n",
              "num_question_marks                                                                                                                                                                                                                                                                             1   \n",
              "num_punctuation                                                                                                                                                                                                                                                                                6   \n",
              "num_symbols                                                                                                                                                                                                                                                                                    0   \n",
              "num_words                                                                                                                                                                                                                                                                                     43   \n",
              "num_unique_words                                                                                                                                                                                                                                                                              41   \n",
              "words_vs_unique                                                                                                                                                                                                                                                                         0.953488   \n",
              "num_smilies                                                                                                                                                                                                                                                                                    0   \n",
              "\n",
              "                                                                                                                                      1  \n",
              "id                                                                                                                     000103f0d9cfb60f  \n",
              "comment_text           D'aww! He matches this background colour I'm seemingly stuck with. Thanks.  (talk) 21:51, January 11, 2016 (UTC)  \n",
              "toxic                                                                                                                                 0  \n",
              "severe_toxic                                                                                                                          0  \n",
              "obscene                                                                                                                               0  \n",
              "threat                                                                                                                                0  \n",
              "insult                                                                                                                                0  \n",
              "identity_hate                                                                                                                         0  \n",
              "total_length                                                                                                                        112  \n",
              "capitals                                                                                                                              8  \n",
              "caps_vs_length                                                                                                                0.0714286  \n",
              "num_exclamation_marks                                                                                                                 1  \n",
              "num_question_marks                                                                                                                    0  \n",
              "num_punctuation                                                                                                                       5  \n",
              "num_symbols                                                                                                                           0  \n",
              "num_words                                                                                                                            17  \n",
              "num_unique_words                                                                                                                     17  \n",
              "words_vs_unique                                                                                                                       1  \n",
              "num_smilies                                                                                                                           0  "
            ]
          },
          "metadata": {
            "tags": []
          },
          "execution_count": 8
        }
      ]
    },
    {
      "cell_type": "code",
      "metadata": {
        "id": "zhNT5fKy5ZIp",
        "colab_type": "code",
        "colab": {}
      },
      "source": [
        "# check correlation to find usefulness of these added columns"
      ],
      "execution_count": 0,
      "outputs": []
    },
    {
      "cell_type": "code",
      "metadata": {
        "id": "scbwc-bI65Y5",
        "colab_type": "code",
        "colab": {}
      },
      "source": [
        "features = ('total_length', 'capitals', 'caps_vs_length',\n",
        "            'num_exclamation_marks','num_question_marks', 'num_punctuation',\n",
        "            'num_words', 'num_unique_words',\n",
        "            'words_vs_unique', 'num_smilies', 'num_symbols')\n",
        "\n",
        "columns = ('toxic', 'severe_toxic', 'obscene', 'threat', 'insult', 'identity_hate')\n",
        "\n",
        "rows = [{c:df[f].corr(df[c]) for c in columns} for f in features]\n",
        "\n",
        "df_corr = pd.DataFrame(rows, index=features)"
      ],
      "execution_count": 0,
      "outputs": []
    },
    {
      "cell_type": "code",
      "metadata": {
        "id": "dFCbMen-67Pg",
        "colab_type": "code",
        "outputId": "e01ad1fd-d85f-4bb1-c110-536f717d70b8",
        "colab": {
          "base_uri": "https://localhost:8080/",
          "height": 491
        }
      },
      "source": [
        "ax = sns.heatmap(df_corr, vmin=-0.2, vmax=0.2, center=0.0,annot=True)"
      ],
      "execution_count": 0,
      "outputs": [
        {
          "output_type": "display_data",
          "data": {
            "image/png": "[encoded data removed]",
            "text/plain": [
              "<Figure size 864x576 with 2 Axes>"
            ]
          },
          "metadata": {
            "tags": [],
            "image/png": {
              "width": 795,
              "height": 474
            }
          }
        }
      ]
    },
    {
      "cell_type": "code",
      "metadata": {
        "id": "6uDIEgfW7GlH",
        "colab_type": "code",
        "colab": {}
      },
      "source": [
        "# if the row varies along x-axis the new feature is useful and\n",
        "# if it's same for all its not useful.\n",
        "#\n",
        "# useful features found:\n",
        "#\n",
        "# Proportion of capitals\n",
        "# Number of unique words\n",
        "# Number of exclamation marks\n",
        "# Number of punctuations"
      ],
      "execution_count": 0,
      "outputs": []
    },
    {
      "cell_type": "code",
      "metadata": {
        "id": "oroVUFEE72kC",
        "colab_type": "code",
        "outputId": "62ee1da9-ce93-4b4d-bd4d-88759b1303b9",
        "colab": {
          "base_uri": "https://localhost:8080/",
          "height": 230
        }
      },
      "source": [
        "df_corr.std(axis=1).sort_values(ascending=False)"
      ],
      "execution_count": 0,
      "outputs": [
        {
          "output_type": "execute_result",
          "data": {
            "text/plain": [
              "caps_vs_length           0.061509\n",
              "capitals                 0.037464\n",
              "words_vs_unique          0.032472\n",
              "num_unique_words         0.030480\n",
              "total_length             0.025462\n",
              "num_words                0.024337\n",
              "num_punctuation          0.021978\n",
              "num_exclamation_marks    0.017933\n",
              "num_question_marks       0.012020\n",
              "num_symbols              0.003104\n",
              "num_smilies              0.001966\n",
              "dtype: float64"
            ]
          },
          "metadata": {
            "tags": []
          },
          "execution_count": 13
        }
      ]
    },
    {
      "cell_type": "markdown",
      "metadata": {
        "id": "CxTHeH0H8EYC",
        "colab_type": "text"
      },
      "source": [
        "# Basic Text Processing\n",
        "\n",
        "`You are annoying!!! goJumpOff4Cliff pleaseeeeeeee`\n",
        "\n",
        "- Step 1 - Remove punctuation → You are annoying goJumpOff4Cliff pleaseeeeeeee\n",
        "- Step 2 - Remove digits→ You are annoying goJumpOffCliff please\n",
        "- Step 3 - Split combined words → You are annoying go Jump Off Cliff please\n",
        "- Step 4 - Convert to lowercase → your are annoying go jump off cliff please\n",
        "- Step 5 - Split each sentence using delimiter → your, are, annoying, go, jump, off, cliff, please\n",
        "- Step 6 - Remove stop words → annoying, jump, cliff\n",
        "- Step 7 - Convert Word to Base Form → annoy, jump, cliff"
      ]
    },
    {
      "cell_type": "markdown",
      "metadata": {
        "id": "QB8aTvDU9XM2",
        "colab_type": "text"
      },
      "source": [
        "## Step 1 - Remove Punctuation"
      ]
    },
    {
      "cell_type": "code",
      "metadata": {
        "id": "X6rETbEQ-hPp",
        "colab_type": "code",
        "outputId": "786af862-616e-48c1-9b13-027ab4ee793c",
        "colab": {
          "base_uri": "https://localhost:8080/",
          "height": 34
        }
      },
      "source": [
        "import string\n",
        "\n",
        "df['comment_text'] = df['comment_text'].str.translate(str.maketrans(' ', ' ', string.punctuation))\n",
        "\n",
        "df.iloc[1,1]"
      ],
      "execution_count": 0,
      "outputs": [
        {
          "output_type": "execute_result",
          "data": {
            "text/plain": [
              "'Daww He matches this background colour Im seemingly stuck with Thanks  talk 2151 January 11 2016 UTC'"
            ]
          },
          "metadata": {
            "tags": []
          },
          "execution_count": 14
        }
      ]
    },
    {
      "cell_type": "markdown",
      "metadata": {
        "id": "2aUHhZ3f-4XD",
        "colab_type": "text"
      },
      "source": [
        "# Step 2 - Remove Digits"
      ]
    },
    {
      "cell_type": "code",
      "metadata": {
        "id": "IQU0sSov_q3C",
        "colab_type": "code",
        "outputId": "522ac279-bf47-4d99-870a-55a0fabd37da",
        "colab": {
          "base_uri": "https://localhost:8080/",
          "height": 34
        }
      },
      "source": [
        "df['comment_text'] = df['comment_text'].str.translate(str.maketrans(' ', ' ', '\\n'))\n",
        "df['comment_text'] = df['comment_text'].str.translate(str.maketrans(' ', ' ', string.digits))\n",
        "\n",
        "df.iloc[1,1]"
      ],
      "execution_count": 0,
      "outputs": [
        {
          "output_type": "execute_result",
          "data": {
            "text/plain": [
              "'Daww He matches this background colour Im seemingly stuck with Thanks  talk  January   UTC'"
            ]
          },
          "metadata": {
            "tags": []
          },
          "execution_count": 15
        }
      ]
    },
    {
      "cell_type": "markdown",
      "metadata": {
        "id": "PWwmyZNEAhuK",
        "colab_type": "text"
      },
      "source": [
        "## Step 3 - Split combined words\n",
        "\n",
        "For instance, converting whyAreYou to why Are You"
      ]
    },
    {
      "cell_type": "code",
      "metadata": {
        "id": "0q5o3FlOBAeK",
        "colab_type": "code",
        "outputId": "7bcf5150-929e-41fc-decc-26433831d1ad",
        "colab": {
          "base_uri": "https://localhost:8080/",
          "height": 34
        }
      },
      "source": [
        "import re\n",
        "\n",
        "df['comment_text'] = df['comment_text'].apply(lambda x: re.sub(r'([a-z])([A-Z])',r'\\1 \\2',x))\n",
        "\n",
        "df.iloc[1,1]"
      ],
      "execution_count": 0,
      "outputs": [
        {
          "output_type": "execute_result",
          "data": {
            "text/plain": [
              "'Daww He matches this background colour Im seemingly stuck with Thanks  talk  January   UTC'"
            ]
          },
          "metadata": {
            "tags": []
          },
          "execution_count": 16
        }
      ]
    },
    {
      "cell_type": "markdown",
      "metadata": {
        "id": "bEIj5r06BRjS",
        "colab_type": "text"
      },
      "source": [
        "## Step 4 - Convert to lowercase"
      ]
    },
    {
      "cell_type": "code",
      "metadata": {
        "id": "EnmT5OigBb-5",
        "colab_type": "code",
        "outputId": "11a5c4ff-2ae8-48e8-8b05-cacdad32bf5a",
        "colab": {
          "base_uri": "https://localhost:8080/",
          "height": 34
        }
      },
      "source": [
        "df['comment_text'] = df['comment_text'].str.lower()\n",
        "df.iloc[1,1]"
      ],
      "execution_count": 0,
      "outputs": [
        {
          "output_type": "execute_result",
          "data": {
            "text/plain": [
              "'daww he matches this background colour im seemingly stuck with thanks  talk  january   utc'"
            ]
          },
          "metadata": {
            "tags": []
          },
          "execution_count": 17
        }
      ]
    },
    {
      "cell_type": "markdown",
      "metadata": {
        "id": "acTNWD3QBgZB",
        "colab_type": "text"
      },
      "source": [
        "## Step 5 - Split each sentence into words"
      ]
    },
    {
      "cell_type": "code",
      "metadata": {
        "id": "2QEyb0vFCJbF",
        "colab_type": "code",
        "outputId": "90bbe2e8-31d4-4b65-90d0-218aaed0c7ef",
        "colab": {
          "base_uri": "https://localhost:8080/",
          "height": 265
        }
      },
      "source": [
        "df['comment_text'] = df['comment_text'].str.split()\n",
        "df.iloc[1,1]"
      ],
      "execution_count": 0,
      "outputs": [
        {
          "output_type": "execute_result",
          "data": {
            "text/plain": [
              "['daww',\n",
              " 'he',\n",
              " 'matches',\n",
              " 'this',\n",
              " 'background',\n",
              " 'colour',\n",
              " 'im',\n",
              " 'seemingly',\n",
              " 'stuck',\n",
              " 'with',\n",
              " 'thanks',\n",
              " 'talk',\n",
              " 'january',\n",
              " 'utc']"
            ]
          },
          "metadata": {
            "tags": []
          },
          "execution_count": 18
        }
      ]
    },
    {
      "cell_type": "markdown",
      "metadata": {
        "id": "CGqcM_4gCNGj",
        "colab_type": "text"
      },
      "source": [
        "## Step 6 - Remove Stop Words"
      ]
    },
    {
      "cell_type": "code",
      "metadata": {
        "id": "LmtSn9p-CUrk",
        "colab_type": "code",
        "outputId": "815c84a5-67b3-4a06-de7b-1db3dc0cc7e6",
        "colab": {
          "base_uri": "https://localhost:8080/",
          "height": 494
        }
      },
      "source": [
        "stop = set(stopwords.words('english'))\n",
        "df['comment_text'] = df['comment_text'].apply(lambda x: [item for item in x if item not in stop])\n",
        "df.head(2)"
      ],
      "execution_count": 0,
      "outputs": [
        {
          "output_type": "execute_result",
          "data": {
            "text/html": [
              "<div>\n",
              "<style scoped>\n",
              "    .dataframe tbody tr th:only-of-type {\n",
              "        vertical-align: middle;\n",
              "    }\n",
              "\n",
              "    .dataframe tbody tr th {\n",
              "        vertical-align: top;\n",
              "    }\n",
              "\n",
              "    .dataframe thead th {\n",
              "        text-align: right;\n",
              "    }\n",
              "</style>\n",
              "<table border=\"1\" class=\"dataframe\">\n",
              "  <thead>\n",
              "    <tr style=\"text-align: right;\">\n",
              "      <th></th>\n",
              "      <th>id</th>\n",
              "      <th>comment_text</th>\n",
              "      <th>toxic</th>\n",
              "      <th>severe_toxic</th>\n",
              "      <th>obscene</th>\n",
              "      <th>threat</th>\n",
              "      <th>insult</th>\n",
              "      <th>identity_hate</th>\n",
              "      <th>total_length</th>\n",
              "      <th>capitals</th>\n",
              "      <th>caps_vs_length</th>\n",
              "      <th>num_exclamation_marks</th>\n",
              "      <th>num_question_marks</th>\n",
              "      <th>num_punctuation</th>\n",
              "      <th>num_symbols</th>\n",
              "      <th>num_words</th>\n",
              "      <th>num_unique_words</th>\n",
              "      <th>words_vs_unique</th>\n",
              "      <th>num_smilies</th>\n",
              "    </tr>\n",
              "  </thead>\n",
              "  <tbody>\n",
              "    <tr>\n",
              "      <th>0</th>\n",
              "      <td>0000997932d777bf</td>\n",
              "      <td>[explanation, edits, made, username, hardcore, metallica, fan, reverted, werent, vandalisms, closure, gas, voted, new, york, dolls, fac, please, dont, remove, template, talk, page, since, im, retired]</td>\n",
              "      <td>0</td>\n",
              "      <td>0</td>\n",
              "      <td>0</td>\n",
              "      <td>0</td>\n",
              "      <td>0</td>\n",
              "      <td>0</td>\n",
              "      <td>264</td>\n",
              "      <td>17</td>\n",
              "      <td>0.064394</td>\n",
              "      <td>0</td>\n",
              "      <td>1</td>\n",
              "      <td>6</td>\n",
              "      <td>0</td>\n",
              "      <td>43</td>\n",
              "      <td>41</td>\n",
              "      <td>0.953488</td>\n",
              "      <td>0</td>\n",
              "    </tr>\n",
              "    <tr>\n",
              "      <th>1</th>\n",
              "      <td>000103f0d9cfb60f</td>\n",
              "      <td>[daww, matches, background, colour, im, seemingly, stuck, thanks, talk, january, utc]</td>\n",
              "      <td>0</td>\n",
              "      <td>0</td>\n",
              "      <td>0</td>\n",
              "      <td>0</td>\n",
              "      <td>0</td>\n",
              "      <td>0</td>\n",
              "      <td>112</td>\n",
              "      <td>8</td>\n",
              "      <td>0.071429</td>\n",
              "      <td>1</td>\n",
              "      <td>0</td>\n",
              "      <td>5</td>\n",
              "      <td>0</td>\n",
              "      <td>17</td>\n",
              "      <td>17</td>\n",
              "      <td>1.000000</td>\n",
              "      <td>0</td>\n",
              "    </tr>\n",
              "  </tbody>\n",
              "</table>\n",
              "</div>"
            ],
            "text/plain": [
              "                 id  \\\n",
              "0  0000997932d777bf   \n",
              "1  000103f0d9cfb60f   \n",
              "\n",
              "                                                                                                                                                                                               comment_text  \\\n",
              "0  [explanation, edits, made, username, hardcore, metallica, fan, reverted, werent, vandalisms, closure, gas, voted, new, york, dolls, fac, please, dont, remove, template, talk, page, since, im, retired]   \n",
              "1                                                                                                                     [daww, matches, background, colour, im, seemingly, stuck, thanks, talk, january, utc]   \n",
              "\n",
              "   toxic  severe_toxic  obscene  threat  insult  identity_hate  total_length  \\\n",
              "0      0             0        0       0       0              0           264   \n",
              "1      0             0        0       0       0              0           112   \n",
              "\n",
              "   capitals  caps_vs_length  num_exclamation_marks  num_question_marks  \\\n",
              "0        17        0.064394                      0                   1   \n",
              "1         8        0.071429                      1                   0   \n",
              "\n",
              "   num_punctuation  num_symbols  num_words  num_unique_words  words_vs_unique  \\\n",
              "0                6            0         43                41         0.953488   \n",
              "1                5            0         17                17         1.000000   \n",
              "\n",
              "   num_smilies  \n",
              "0            0  \n",
              "1            0  "
            ]
          },
          "metadata": {
            "tags": []
          },
          "execution_count": 19
        }
      ]
    },
    {
      "cell_type": "markdown",
      "metadata": {
        "id": "R0pL6yjoCfL0",
        "colab_type": "text"
      },
      "source": [
        "## Step 7 - Convert Word to Base Form or Lematize"
      ]
    },
    {
      "cell_type": "code",
      "metadata": {
        "id": "095HMOdVCqxh",
        "colab_type": "code",
        "outputId": "23173290-d757-4ebf-a33a-f88a3830afab",
        "colab": {
          "base_uri": "https://localhost:8080/",
          "height": 495
        }
      },
      "source": [
        "import nltk\n",
        "tqdm.pandas()\n",
        "\n",
        "lemmatizer = nltk.stem.WordNetLemmatizer()\n",
        "\n",
        "def lemmatize_lst(lst):\n",
        "    return [lemmatizer.lemmatize(word) for word in lst]\n",
        "\n",
        "\n",
        "\n",
        "df['comment_text'] = df['comment_text'].progress_apply(lemmatize_lst)\n",
        "\n",
        "df.head(2)"
      ],
      "execution_count": 0,
      "outputs": [
        {
          "output_type": "stream",
          "text": [
            "100%|██████████| 159571/159571 [00:27<00:00, 5892.38it/s]\n"
          ],
          "name": "stderr"
        },
        {
          "output_type": "execute_result",
          "data": {
            "text/html": [
              "<div>\n",
              "<style scoped>\n",
              "    .dataframe tbody tr th:only-of-type {\n",
              "        vertical-align: middle;\n",
              "    }\n",
              "\n",
              "    .dataframe tbody tr th {\n",
              "        vertical-align: top;\n",
              "    }\n",
              "\n",
              "    .dataframe thead th {\n",
              "        text-align: right;\n",
              "    }\n",
              "</style>\n",
              "<table border=\"1\" class=\"dataframe\">\n",
              "  <thead>\n",
              "    <tr style=\"text-align: right;\">\n",
              "      <th></th>\n",
              "      <th>id</th>\n",
              "      <th>comment_text</th>\n",
              "      <th>toxic</th>\n",
              "      <th>severe_toxic</th>\n",
              "      <th>obscene</th>\n",
              "      <th>threat</th>\n",
              "      <th>insult</th>\n",
              "      <th>identity_hate</th>\n",
              "      <th>total_length</th>\n",
              "      <th>capitals</th>\n",
              "      <th>caps_vs_length</th>\n",
              "      <th>num_exclamation_marks</th>\n",
              "      <th>num_question_marks</th>\n",
              "      <th>num_punctuation</th>\n",
              "      <th>num_symbols</th>\n",
              "      <th>num_words</th>\n",
              "      <th>num_unique_words</th>\n",
              "      <th>words_vs_unique</th>\n",
              "      <th>num_smilies</th>\n",
              "    </tr>\n",
              "  </thead>\n",
              "  <tbody>\n",
              "    <tr>\n",
              "      <th>0</th>\n",
              "      <td>0000997932d777bf</td>\n",
              "      <td>[explanation, edits, made, username, hardcore, metallica, fan, reverted, werent, vandalism, closure, gas, voted, new, york, doll, fac, please, dont, remove, template, talk, page, since, im, retired]</td>\n",
              "      <td>0</td>\n",
              "      <td>0</td>\n",
              "      <td>0</td>\n",
              "      <td>0</td>\n",
              "      <td>0</td>\n",
              "      <td>0</td>\n",
              "      <td>264</td>\n",
              "      <td>17</td>\n",
              "      <td>0.064394</td>\n",
              "      <td>0</td>\n",
              "      <td>1</td>\n",
              "      <td>6</td>\n",
              "      <td>0</td>\n",
              "      <td>43</td>\n",
              "      <td>41</td>\n",
              "      <td>0.953488</td>\n",
              "      <td>0</td>\n",
              "    </tr>\n",
              "    <tr>\n",
              "      <th>1</th>\n",
              "      <td>000103f0d9cfb60f</td>\n",
              "      <td>[daww, match, background, colour, im, seemingly, stuck, thanks, talk, january, utc]</td>\n",
              "      <td>0</td>\n",
              "      <td>0</td>\n",
              "      <td>0</td>\n",
              "      <td>0</td>\n",
              "      <td>0</td>\n",
              "      <td>0</td>\n",
              "      <td>112</td>\n",
              "      <td>8</td>\n",
              "      <td>0.071429</td>\n",
              "      <td>1</td>\n",
              "      <td>0</td>\n",
              "      <td>5</td>\n",
              "      <td>0</td>\n",
              "      <td>17</td>\n",
              "      <td>17</td>\n",
              "      <td>1.000000</td>\n",
              "      <td>0</td>\n",
              "    </tr>\n",
              "  </tbody>\n",
              "</table>\n",
              "</div>"
            ],
            "text/plain": [
              "                 id  \\\n",
              "0  0000997932d777bf   \n",
              "1  000103f0d9cfb60f   \n",
              "\n",
              "                                                                                                                                                                                             comment_text  \\\n",
              "0  [explanation, edits, made, username, hardcore, metallica, fan, reverted, werent, vandalism, closure, gas, voted, new, york, doll, fac, please, dont, remove, template, talk, page, since, im, retired]   \n",
              "1                                                                                                                     [daww, match, background, colour, im, seemingly, stuck, thanks, talk, january, utc]   \n",
              "\n",
              "   toxic  severe_toxic  obscene  threat  insult  identity_hate  total_length  \\\n",
              "0      0             0        0       0       0              0           264   \n",
              "1      0             0        0       0       0              0           112   \n",
              "\n",
              "   capitals  caps_vs_length  num_exclamation_marks  num_question_marks  \\\n",
              "0        17        0.064394                      0                   1   \n",
              "1         8        0.071429                      1                   0   \n",
              "\n",
              "   num_punctuation  num_symbols  num_words  num_unique_words  words_vs_unique  \\\n",
              "0                6            0         43                41         0.953488   \n",
              "1                5            0         17                17         1.000000   \n",
              "\n",
              "   num_smilies  \n",
              "0            0  \n",
              "1            0  "
            ]
          },
          "metadata": {
            "tags": []
          },
          "execution_count": 20
        }
      ]
    },
    {
      "cell_type": "markdown",
      "metadata": {
        "id": "vWARWjmHozUY",
        "colab_type": "text"
      },
      "source": [
        "# Visualization"
      ]
    },
    {
      "cell_type": "code",
      "metadata": {
        "id": "UNcGN4RvUOFn",
        "colab_type": "code",
        "outputId": "09a66658-45b3-4833-96a6-b42b5d899fc0",
        "colab": {
          "base_uri": "https://localhost:8080/",
          "height": 123
        }
      },
      "source": [
        "df.columns"
      ],
      "execution_count": 0,
      "outputs": [
        {
          "output_type": "execute_result",
          "data": {
            "text/plain": [
              "Index(['id', 'comment_text', 'toxic', 'severe_toxic', 'obscene', 'threat',\n",
              "       'insult', 'identity_hate', 'total_length', 'capitals', 'caps_vs_length',\n",
              "       'num_exclamation_marks', 'num_question_marks', 'num_punctuation',\n",
              "       'num_symbols', 'num_words', 'num_unique_words', 'words_vs_unique',\n",
              "       'num_smilies'],\n",
              "      dtype='object')"
            ]
          },
          "metadata": {
            "tags": []
          },
          "execution_count": 23
        }
      ]
    },
    {
      "cell_type": "code",
      "metadata": {
        "id": "lUnxlv8Ytt8o",
        "colab_type": "code",
        "outputId": "e2706858-5774-43a2-ddd5-8990f64e42db",
        "colab": {
          "base_uri": "https://localhost:8080/",
          "height": 141
        }
      },
      "source": [
        "cols = [ 'toxic', 'severe_toxic', 'obscene', 'threat', 'insult', 'identity_hate']\n",
        "data1 = [df.query(f\"\"\"  {x} == 1\"\"\").shape[0] for x in cols ]\n",
        "\n",
        "ser1 = pd.Series(data1, index=cols)\n",
        "ser1\n"
      ],
      "execution_count": 0,
      "outputs": [
        {
          "output_type": "execute_result",
          "data": {
            "text/plain": [
              "toxic            15294\n",
              "severe_toxic      1595\n",
              "obscene           8449\n",
              "threat             478\n",
              "insult            7877\n",
              "identity_hate     1405\n",
              "dtype: int64"
            ]
          },
          "metadata": {
            "tags": []
          },
          "execution_count": 30
        }
      ]
    },
    {
      "cell_type": "code",
      "metadata": {
        "id": "Io4FnwE1tz4x",
        "colab_type": "code",
        "outputId": "f8739bfe-558c-4ca3-a247-14e403ea44c0",
        "colab": {
          "base_uri": "https://localhost:8080/",
          "height": 502
        }
      },
      "source": [
        "sns.barplot(x=ser1.values, y=cols, order=ser1.sort_values().index)"
      ],
      "execution_count": 0,
      "outputs": [
        {
          "output_type": "execute_result",
          "data": {
            "text/plain": [
              "<matplotlib.axes._subplots.AxesSubplot at 0x7f13a0905320>"
            ]
          },
          "metadata": {
            "tags": []
          },
          "execution_count": 35
        },
        {
          "output_type": "display_data",
          "data": {
            "image/png": "[encoded data removed]",
            "text/plain": [
              "<Figure size 864x576 with 1 Axes>"
            ]
          },
          "metadata": {
            "tags": [],
            "image/png": {
              "width": 780,
              "height": 468
            }
          }
        }
      ]
    },
    {
      "cell_type": "code",
      "metadata": {
        "id": "x64NsjR7WKZG",
        "colab_type": "code",
        "colab": {}
      },
      "source": [
        ""
      ],
      "execution_count": 0,
      "outputs": []
    }
  ]
}