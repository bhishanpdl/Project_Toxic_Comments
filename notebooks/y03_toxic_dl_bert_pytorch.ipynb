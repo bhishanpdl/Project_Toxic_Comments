{
  "nbformat": 4,
  "nbformat_minor": 0,
  "metadata": {
    "accelerator": "GPU",
    "colab": {
      "name": "y03_toxic_dl_bert_pytorch.ipynb",
      "provenance": [],
      "collapsed_sections": []
    },
    "kernelspec": {
      "display_name": "Python 3",
      "language": "python",
      "name": "python3"
    },
    "language_info": {
      "codemirror_mode": {
        "name": "ipython",
        "version": 3
      },
      "file_extension": ".py",
      "mimetype": "text/x-python",
      "name": "python",
      "nbconvert_exporter": "python",
      "pygments_lexer": "ipython3",
      "version": "3.7.3"
    }
  },
  "cells": [
    {
      "cell_type": "markdown",
      "metadata": {
        "id": "QbnHGRieZdk6"
      },
      "source": [
        "# Description\n",
        "In this project, we use the data from kaggle competition [Toxic Comment Classification Challenge by Jigsaw](https://www.kaggle.com/c/jigsaw-toxic-comment-classification-challenge/data?select=train.csv.zip) and only use the training data. Then we have break this raw training data into train and test data and evaluate the model performances in test data.\n",
        "\n",
        "The dataset is taken from wikipedia edit text and is classified as one of the following:\n",
        "\n",
        "1. toxic\n",
        "2. severe_toxic\n",
        "3. obscene\n",
        "4. threat\n",
        "5. insult\n",
        "6. identity_hate\n",
        "\n",
        "This is a multi-label (not-multiclass) classification. One text row has six labels and exactly one label is 1 and other labels are 0.\n",
        "\n",
        "\n",
        "References:\n",
        "- https://colab.research.google.com/github/rap12391/transformers_multilabel_toxic/blob/master/toxic_multilabel.ipynb"
      ]
    },
    {
      "cell_type": "markdown",
      "metadata": {
        "id": "m5tUoHe9FRhs"
      },
      "source": [
        "# Load the Libraries"
      ]
    },
    {
      "cell_type": "code",
      "metadata": {
        "id": "zJpIjp6xaB13"
      },
      "source": [
        "import os\n",
        "import sys\n",
        "import time\n",
        "\n",
        "time_start_notebook = time.time()"
      ],
      "execution_count": null,
      "outputs": []
    },
    {
      "cell_type": "code",
      "metadata": {
        "id": "Dr7BCHS-nIRW",
        "scrolled": true
      },
      "source": [
        "%%capture\n",
        "import os\n",
        "import sys\n",
        "ENV_COLAB = 'google.colab' in sys.modules\n",
        "\n",
        "if ENV_COLAB:\n",
        "    ## install modules\n",
        "    !pip install transformers\n",
        "    !pip install scikit-plot\n",
        "    !pip install watermark\n"
      ],
      "execution_count": null,
      "outputs": []
    },
    {
      "cell_type": "code",
      "metadata": {
        "colab": {
          "base_uri": "https://localhost:8080/"
        },
        "id": "hjaVhjaoaSIX",
        "outputId": "f8fe6fe9-47ed-4511-9510-7eeacd0f68fd"
      },
      "source": [
        "# data science\n",
        "import numpy as np\n",
        "import pandas as pd\n",
        "from tqdm import tqdm\n",
        "\n",
        "# visualization\n",
        "import seaborn as sns\n",
        "sns.set(color_codes=True)\n",
        "import matplotlib\n",
        "import matplotlib.pyplot as plt\n",
        "%matplotlib inline\n",
        "\n",
        "# mixed\n",
        "import os\n",
        "import time\n",
        "from pprint import pprint\n",
        "import joblib\n",
        "import pickle\n",
        "from tqdm import tqdm, trange\n",
        "from ast import literal_eval\n",
        "\n",
        "# random state\n",
        "SEED=100\n",
        "np.random.seed(SEED)\n",
        "\n",
        "# machine learning\n",
        "import sklearn\n",
        "from sklearn.metrics import roc_auc_score\n",
        "from sklearn.model_selection import train_test_split\n",
        "from sklearn.preprocessing import MultiLabelBinarizer\n",
        "from sklearn.metrics import classification_report\n",
        "from sklearn.metrics import confusion_matrix, multilabel_confusion_matrix\n",
        "from sklearn.metrics import f1_score, accuracy_score\n",
        "\n",
        "# deep learning\n",
        "import tensorflow as tf\n",
        "from keras.preprocessing.sequence import pad_sequences\n",
        "import torch\n",
        "from torch.nn import BCEWithLogitsLoss, BCELoss\n",
        "from torch.utils.data import TensorDataset, DataLoader\n",
        "from torch.utils.data import RandomSampler, SequentialSampler\n",
        "import transformers\n",
        "from transformers import *\n",
        "\n",
        "# model eval\n",
        "import scikitplot as skplt\n",
        "\n",
        "# versions\n",
        "import watermark\n",
        "%load_ext watermark\n",
        "%watermark -a \"Bhishan Poudel\" -d -v -m\n",
        "print()\n",
        "%watermark -iv"
      ],
      "execution_count": null,
      "outputs": [
        {
          "output_type": "stream",
          "text": [
            "Bhishan Poudel 2020-12-02 \n",
            "\n",
            "CPython 3.6.9\n",
            "IPython 5.5.0\n",
            "\n",
            "compiler   : GCC 8.4.0\n",
            "system     : Linux\n",
            "release    : 4.19.112+\n",
            "machine    : x86_64\n",
            "processor  : x86_64\n",
            "CPU cores  : 2\n",
            "interpreter: 64bit\n",
            "\n",
            "tensorflow              2.3.0\n",
            "transformers            4.0.0\n",
            "matplotlib              3.2.2\n",
            "transformers.file_utils 4.0.0\n",
            "torch                   1.7.0+cu101\n",
            "scikitplot              0.3.7\n",
            "watermark               2.0.2\n",
            "numpy                   1.18.5\n",
            "sklearn                 0.22.2.post1\n",
            "pandas                  1.1.4\n",
            "joblib                  0.17.0\n",
            "seaborn                 0.11.0\n",
            "\n"
          ],
          "name": "stdout"
        }
      ]
    },
    {
      "cell_type": "markdown",
      "metadata": {
        "id": "v6otkefZbfcJ"
      },
      "source": [
        "# Useful Functions"
      ]
    },
    {
      "cell_type": "code",
      "metadata": {
        "id": "x9QAg-Jpbfif"
      },
      "source": [
        "def show_methods(obj, ncols=4,contains=None):\n",
        "    lst = [i for i in dir(obj) if i[0]!='_' ]\n",
        "    if contains is not None:\n",
        "        lst = [i for i in lst if contains in i]\n",
        "    df = pd.DataFrame(np.array_split(lst,ncols)).T.fillna('')\n",
        "    return df"
      ],
      "execution_count": null,
      "outputs": []
    },
    {
      "cell_type": "markdown",
      "metadata": {
        "id": "xkHL76RubfnA"
      },
      "source": [
        "# GPU Testing"
      ]
    },
    {
      "cell_type": "code",
      "metadata": {
        "id": "UhjnJEwKnISB",
        "colab": {
          "base_uri": "https://localhost:8080/"
        },
        "outputId": "5f9e2f3a-3a9f-47a8-d060-273edcc1ca8f"
      },
      "source": [
        "device_name = tf.test.gpu_device_name()\n",
        "if device_name != '/device:GPU:0':\n",
        "  raise SystemError('GPU device not found')\n",
        "print('Found GPU at: {}'.format(device_name))"
      ],
      "execution_count": null,
      "outputs": [
        {
          "output_type": "stream",
          "text": [
            "Found GPU at: /device:GPU:0\n"
          ],
          "name": "stdout"
        }
      ]
    },
    {
      "cell_type": "code",
      "metadata": {
        "id": "uorMX_zrnISM",
        "scrolled": true,
        "colab": {
          "base_uri": "https://localhost:8080/",
          "height": 35
        },
        "outputId": "c1bec028-ec45-4c21-8116-c60e9ad4906a"
      },
      "source": [
        "device = torch.device(\"cuda\" if torch.cuda.is_available() else \"cpu\")\n",
        "n_gpu = torch.cuda.device_count()\n",
        "torch.cuda.get_device_name(0)"
      ],
      "execution_count": null,
      "outputs": [
        {
          "output_type": "execute_result",
          "data": {
            "application/vnd.google.colaboratory.intrinsic+json": {
              "type": "string"
            },
            "text/plain": [
              "'Tesla P100-PCIE-16GB'"
            ]
          },
          "metadata": {
            "tags": []
          },
          "execution_count": 6
        }
      ]
    },
    {
      "cell_type": "markdown",
      "metadata": {
        "id": "dLcetMjZFjSH"
      },
      "source": [
        "## Load Training Data"
      ]
    },
    {
      "cell_type": "code",
      "metadata": {
        "id": "_YaKKtDR-WeQ"
      },
      "source": [
        "# %%capture\n",
        "# !wget https://github.com/bhishanpdl/Datasets/blob/master/Projects/Jigsaw_Toxic_Comment_Classification/train.csv.zip?raw=true\n",
        "# !unzip train.csv.zip?raw=true\n",
        "\n",
        "# !wget https://github.com/bhishanpdl/Datasets/blob/master/Projects/Jigsaw_Toxic_Comment_Classification/test.csv.zip?raw=true\n",
        "# !unzip test.csv.zip?raw=true"
      ],
      "execution_count": null,
      "outputs": []
    },
    {
      "cell_type": "code",
      "metadata": {
        "colab": {
          "base_uri": "https://localhost:8080/"
        },
        "id": "EFMSmSgF-kFM",
        "outputId": "7145d731-8d8a-4222-ac97-017a345102ff"
      },
      "source": [
        "!ls"
      ],
      "execution_count": null,
      "outputs": [
        {
          "output_type": "stream",
          "text": [
            " bert_model_toxic\t\t       test_data_loader\n",
            " classification_report_optimized.txt   train.csv\n",
            " classification_report.txt\t      'train.csv.zip?raw=true'\n",
            " comparisons.csv\t\t      'train.csv.zip?raw=true.1'\n",
            " sample_data\t\t\t       train_data_loader\n",
            " test.csv\t\t\t       validation_data_loader\n",
            "'test.csv.zip?raw=true'\t\t       valid_data_loader\n",
            "'test.csv.zip?raw=true.1'\n"
          ],
          "name": "stdout"
        }
      ]
    },
    {
      "cell_type": "code",
      "metadata": {
        "id": "0ecREc7GnISW",
        "scrolled": true,
        "colab": {
          "base_uri": "https://localhost:8080/",
          "height": 462
        },
        "outputId": "4000bbb0-72c0-424a-eb7a-69364fb1029a"
      },
      "source": [
        "df_train = pd.read_csv('train.csv')\n",
        "df_train.head()"
      ],
      "execution_count": null,
      "outputs": [
        {
          "output_type": "execute_result",
          "data": {
            "text/html": [
              "<div>\n",
              "<style scoped>\n",
              "    .dataframe tbody tr th:only-of-type {\n",
              "        vertical-align: middle;\n",
              "    }\n",
              "\n",
              "    .dataframe tbody tr th {\n",
              "        vertical-align: top;\n",
              "    }\n",
              "\n",
              "    .dataframe thead th {\n",
              "        text-align: right;\n",
              "    }\n",
              "</style>\n",
              "<table border=\"1\" class=\"dataframe\">\n",
              "  <thead>\n",
              "    <tr style=\"text-align: right;\">\n",
              "      <th></th>\n",
              "      <th>id</th>\n",
              "      <th>comment_text</th>\n",
              "      <th>toxic</th>\n",
              "      <th>severe_toxic</th>\n",
              "      <th>obscene</th>\n",
              "      <th>threat</th>\n",
              "      <th>insult</th>\n",
              "      <th>identity_hate</th>\n",
              "    </tr>\n",
              "  </thead>\n",
              "  <tbody>\n",
              "    <tr>\n",
              "      <th>0</th>\n",
              "      <td>8d603d50affa1126</td>\n",
              "      <td>\"\\nYes, aside, thank you for trying to answer ...</td>\n",
              "      <td>0</td>\n",
              "      <td>0</td>\n",
              "      <td>0</td>\n",
              "      <td>0</td>\n",
              "      <td>0</td>\n",
              "      <td>0</td>\n",
              "    </tr>\n",
              "    <tr>\n",
              "      <th>1</th>\n",
              "      <td>8fb3576937b9e0d0</td>\n",
              "      <td>March 2010 (UTC)\\n\\nThanks! and understood abo...</td>\n",
              "      <td>0</td>\n",
              "      <td>0</td>\n",
              "      <td>0</td>\n",
              "      <td>0</td>\n",
              "      <td>0</td>\n",
              "      <td>0</td>\n",
              "    </tr>\n",
              "    <tr>\n",
              "      <th>2</th>\n",
              "      <td>379440e04fb68e27</td>\n",
              "      <td>\"\\n\\n The Outfield \\n\\nHahaha - compassion is ...</td>\n",
              "      <td>0</td>\n",
              "      <td>0</td>\n",
              "      <td>0</td>\n",
              "      <td>0</td>\n",
              "      <td>0</td>\n",
              "      <td>0</td>\n",
              "    </tr>\n",
              "    <tr>\n",
              "      <th>3</th>\n",
              "      <td>6be4446aac8ae028</td>\n",
              "      <td>Opposition is a source of strength. I believe ...</td>\n",
              "      <td>0</td>\n",
              "      <td>0</td>\n",
              "      <td>0</td>\n",
              "      <td>0</td>\n",
              "      <td>0</td>\n",
              "      <td>0</td>\n",
              "    </tr>\n",
              "    <tr>\n",
              "      <th>4</th>\n",
              "      <td>1a2ff7ed958506a3</td>\n",
              "      <td>Please discontinue making those unsupported ch...</td>\n",
              "      <td>0</td>\n",
              "      <td>0</td>\n",
              "      <td>0</td>\n",
              "      <td>0</td>\n",
              "      <td>0</td>\n",
              "      <td>0</td>\n",
              "    </tr>\n",
              "  </tbody>\n",
              "</table>\n",
              "</div>"
            ],
            "text/plain": [
              "                 id  ... identity_hate\n",
              "0  8d603d50affa1126  ...             0\n",
              "1  8fb3576937b9e0d0  ...             0\n",
              "2  379440e04fb68e27  ...             0\n",
              "3  6be4446aac8ae028  ...             0\n",
              "4  1a2ff7ed958506a3  ...             0\n",
              "\n",
              "[5 rows x 8 columns]"
            ]
          },
          "metadata": {
            "tags": []
          },
          "execution_count": 9
        }
      ]
    },
    {
      "cell_type": "code",
      "metadata": {
        "id": "6AhWrzX7nITB"
      },
      "source": [
        "col_text = 'comment_text'"
      ],
      "execution_count": null,
      "outputs": []
    },
    {
      "cell_type": "code",
      "metadata": {
        "colab": {
          "base_uri": "https://localhost:8080/"
        },
        "id": "MGF9lTdlcTkw",
        "outputId": "9349b6f9-78f8-498a-a896-d84e94d04acf"
      },
      "source": [
        "# unique text\n",
        "df_train[col_text].nunique(), df_train.shape[0]"
      ],
      "execution_count": null,
      "outputs": [
        {
          "output_type": "execute_result",
          "data": {
            "text/plain": [
              "(127656, 127656)"
            ]
          },
          "metadata": {
            "tags": []
          },
          "execution_count": 11
        }
      ]
    },
    {
      "cell_type": "code",
      "metadata": {
        "colab": {
          "base_uri": "https://localhost:8080/"
        },
        "id": "XgtwZwR-cib-",
        "outputId": "59191d24-0699-49f4-95d7-df6a71f8aaa2"
      },
      "source": [
        "# null values\n",
        "df_train.isnull().sum()"
      ],
      "execution_count": null,
      "outputs": [
        {
          "output_type": "execute_result",
          "data": {
            "text/plain": [
              "id               0\n",
              "comment_text     0\n",
              "toxic            0\n",
              "severe_toxic     0\n",
              "obscene          0\n",
              "threat           0\n",
              "insult           0\n",
              "identity_hate    0\n",
              "dtype: int64"
            ]
          },
          "metadata": {
            "tags": []
          },
          "execution_count": 12
        }
      ]
    },
    {
      "cell_type": "code",
      "metadata": {
        "id": "UVI59S9VaAfB"
      },
      "source": [
        "cols_label = ['toxic', 'severe_toxic', 'obscene',\n",
        "              'threat', 'insult', 'identity_hate']"
      ],
      "execution_count": null,
      "outputs": []
    },
    {
      "cell_type": "code",
      "metadata": {
        "id": "xzgA5qQgYIBZ",
        "colab": {
          "base_uri": "https://localhost:8080/"
        },
        "outputId": "332bc353-c06f-454e-e180-11d9479276ab"
      },
      "source": [
        "print('Count of 1 per label: \\n', df_train[cols_label].sum(), '\\n') \n",
        "print('Count of 0 per label: \\n', df_train[cols_label].eq(0).sum())"
      ],
      "execution_count": null,
      "outputs": [
        {
          "output_type": "stream",
          "text": [
            "Count of 1 per label: \n",
            " toxic            12202\n",
            "severe_toxic      1282\n",
            "obscene           6782\n",
            "threat             379\n",
            "insult            6292\n",
            "identity_hate     1136\n",
            "dtype: int64 \n",
            "\n",
            "Count of 0 per label: \n",
            " toxic            115454\n",
            "severe_toxic     126374\n",
            "obscene          120874\n",
            "threat           127277\n",
            "insult           121364\n",
            "identity_hate    126520\n",
            "dtype: int64\n"
          ],
          "name": "stdout"
        }
      ]
    },
    {
      "cell_type": "code",
      "metadata": {
        "colab": {
          "base_uri": "https://localhost:8080/",
          "height": 347
        },
        "id": "HS7lsVmmi8S0",
        "outputId": "eb9aaf74-872f-4fb6-ec89-032bcb74aaec"
      },
      "source": [
        "df_train[cols_label].sum().plot.bar(title='Count of 1s',color='tomato');"
      ],
      "execution_count": null,
      "outputs": [
        {
          "output_type": "display_data",
          "data": {
            "image/png": "[encoded data removed]",
            "text/plain": [
              "<Figure size 432x288 with 1 Axes>"
            ]
          },
          "metadata": {
            "tags": [],
            "needs_background": "light"
          }
        }
      ]
    },
    {
      "cell_type": "code",
      "metadata": {
        "colab": {
          "base_uri": "https://localhost:8080/",
          "height": 347
        },
        "id": "mXEosiFKjR0G",
        "outputId": "1304ba0c-47ef-486e-9ee7-985facd2b2b8"
      },
      "source": [
        "df_train[cols_label].eq(0).sum().plot.bar(title='Count of 0s');"
      ],
      "execution_count": null,
      "outputs": [
        {
          "output_type": "display_data",
          "data": {
            "image/png": "[encoded data removed]",
            "text/plain": [
              "<Figure size 432x288 with 1 Axes>"
            ]
          },
          "metadata": {
            "tags": [],
            "needs_background": "light"
          }
        }
      ]
    },
    {
      "cell_type": "markdown",
      "metadata": {
        "id": "3Dn9H1DFkDla"
      },
      "source": [
        "# Data Processing: Training Data"
      ]
    },
    {
      "cell_type": "markdown",
      "metadata": {
        "id": "JqCG-E7Kkr-S"
      },
      "source": [
        "## Shuffle and create ohe column"
      ]
    },
    {
      "cell_type": "code",
      "metadata": {
        "id": "uFpSd4JzaAae"
      },
      "source": [
        "# shuffle data\n",
        "df_train = df_train.sample(frac=1,random_state=SEED).reset_index(drop=True)"
      ],
      "execution_count": null,
      "outputs": []
    },
    {
      "cell_type": "code",
      "metadata": {
        "id": "0DF3ddjej5vd",
        "colab": {
          "base_uri": "https://localhost:8080/",
          "height": 233
        },
        "outputId": "f63cf5a3-0b2a-4c3b-aaca-4f618e6b6c26"
      },
      "source": [
        "col_ohe = 'one_hot_labels'\n",
        "df_train[col_ohe] = df_train[cols_label].to_numpy().tolist()\n",
        "df_train.head(2)"
      ],
      "execution_count": null,
      "outputs": [
        {
          "output_type": "execute_result",
          "data": {
            "text/html": [
              "<div>\n",
              "<style scoped>\n",
              "    .dataframe tbody tr th:only-of-type {\n",
              "        vertical-align: middle;\n",
              "    }\n",
              "\n",
              "    .dataframe tbody tr th {\n",
              "        vertical-align: top;\n",
              "    }\n",
              "\n",
              "    .dataframe thead th {\n",
              "        text-align: right;\n",
              "    }\n",
              "</style>\n",
              "<table border=\"1\" class=\"dataframe\">\n",
              "  <thead>\n",
              "    <tr style=\"text-align: right;\">\n",
              "      <th></th>\n",
              "      <th>id</th>\n",
              "      <th>comment_text</th>\n",
              "      <th>toxic</th>\n",
              "      <th>severe_toxic</th>\n",
              "      <th>obscene</th>\n",
              "      <th>threat</th>\n",
              "      <th>insult</th>\n",
              "      <th>identity_hate</th>\n",
              "      <th>one_hot_labels</th>\n",
              "    </tr>\n",
              "  </thead>\n",
              "  <tbody>\n",
              "    <tr>\n",
              "      <th>0</th>\n",
              "      <td>815dac68f62b1e6a</td>\n",
              "      <td>\"\\n\\n Defenestration \\n\\nIt was previously rep...</td>\n",
              "      <td>0</td>\n",
              "      <td>0</td>\n",
              "      <td>0</td>\n",
              "      <td>0</td>\n",
              "      <td>0</td>\n",
              "      <td>0</td>\n",
              "      <td>[0, 0, 0, 0, 0, 0]</td>\n",
              "    </tr>\n",
              "    <tr>\n",
              "      <th>1</th>\n",
              "      <td>570a66d523877761</td>\n",
              "      <td>I am easily able to trace my lineage back to C...</td>\n",
              "      <td>0</td>\n",
              "      <td>0</td>\n",
              "      <td>0</td>\n",
              "      <td>0</td>\n",
              "      <td>0</td>\n",
              "      <td>0</td>\n",
              "      <td>[0, 0, 0, 0, 0, 0]</td>\n",
              "    </tr>\n",
              "  </tbody>\n",
              "</table>\n",
              "</div>"
            ],
            "text/plain": [
              "                 id  ...      one_hot_labels\n",
              "0  815dac68f62b1e6a  ...  [0, 0, 0, 0, 0, 0]\n",
              "1  570a66d523877761  ...  [0, 0, 0, 0, 0, 0]\n",
              "\n",
              "[2 rows x 9 columns]"
            ]
          },
          "metadata": {
            "tags": []
          },
          "execution_count": 19
        }
      ]
    },
    {
      "cell_type": "code",
      "metadata": {
        "id": "MlhHifh5bW7e"
      },
      "source": [
        "labels    = list(df_train[col_ohe].values)\n",
        "list_text = list(df_train[col_text].values)"
      ],
      "execution_count": null,
      "outputs": []
    },
    {
      "cell_type": "code",
      "metadata": {
        "id": "gYd7ZcuUwhWB"
      },
      "source": [
        "# list_text[0]"
      ],
      "execution_count": null,
      "outputs": []
    },
    {
      "cell_type": "markdown",
      "metadata": {
        "id": "u-3zZRwCkwbO"
      },
      "source": [
        "## Load pretrained tokenizer"
      ]
    },
    {
      "cell_type": "markdown",
      "metadata": {
        "id": "IlMHfElhGJzc"
      },
      "source": [
        "Transformers pretrained tokenizers\n",
        "\n",
        "```python\n",
        "BERT:\n",
        "tokenizer = BertTokenizer.from_pretrained('bert-base-uncased', do_lower_case=True) \n",
        "\n",
        "XLNet:\n",
        "tokenizer = XLNetTokenizer.from_pretrained('xlnet-base-cased', do_lower_case=False) \n",
        "\n",
        "RoBERTa:\n",
        "tokenizer = RobertaTokenizer.from_pretrained('roberta-base', do_lower_case=False)\n",
        "```\n"
      ]
    },
    {
      "cell_type": "code",
      "metadata": {
        "id": "1qfxPObrlHYz"
      },
      "source": [
        "# show_methods(transformers,3,contains='Tokenizer')"
      ],
      "execution_count": null,
      "outputs": []
    },
    {
      "cell_type": "code",
      "metadata": {
        "id": "gKBi6dMNl9uc"
      },
      "source": [
        "tokenizer = transformers.BertTokenizer.from_pretrained(\n",
        "    'bert-base-uncased',do_lower_case=True)"
      ],
      "execution_count": null,
      "outputs": []
    },
    {
      "cell_type": "markdown",
      "metadata": {
        "id": "X8l8gTelsa0Z"
      },
      "source": [
        "## Get Encodings from tokenizer"
      ]
    },
    {
      "cell_type": "code",
      "metadata": {
        "colab": {
          "base_uri": "https://localhost:8080/"
        },
        "id": "fRJqDpA_sWEd",
        "outputId": "92e7ba33-e1ba-459c-965d-2aeda92c2f1e"
      },
      "source": [
        "%%time\n",
        "max_length = 100 # choose about 100 for colab\n",
        "encodings = tokenizer.batch_encode_plus(list_text,\n",
        "                max_length=max_length,\n",
        "                pad_to_max_length=True)\n",
        "\n",
        "print('tokenizer outputs: ', encodings.keys())\n",
        " \n",
        "# dict_keys(['input_ids', 'token_type_ids', 'attention_mask'])\n",
        "# Wall time: 3min 28s"
      ],
      "execution_count": null,
      "outputs": [
        {
          "output_type": "stream",
          "text": [
            "Truncation was not explicitly activated but `max_length` is provided a specific value, please use `truncation=True` to explicitly truncate examples to max length. Defaulting to 'longest_first' truncation strategy. If you encode pairs of sequences (GLUE-style) with the tokenizer you can select this strategy more precisely by providing a specific strategy to `truncation`.\n",
            "/usr/local/lib/python3.6/dist-packages/transformers/tokenization_utils_base.py:2142: FutureWarning: The `pad_to_max_length` argument is deprecated and will be removed in a future version, use `padding=True` or `padding='longest'` to pad to the longest sequence in the batch, or use `padding='max_length'` to pad to a max length. In this case, you can give a specific length with `max_length` (e.g. `max_length=45`) or leave max_length to None to pad to the maximal input size of the model (e.g. 512 for Bert).\n",
            "  FutureWarning,\n"
          ],
          "name": "stderr"
        },
        {
          "output_type": "stream",
          "text": [
            "tokenizer outputs:  dict_keys(['input_ids', 'token_type_ids', 'attention_mask'])\n",
            "CPU times: user 3min 17s, sys: 468 ms, total: 3min 18s\n",
            "Wall time: 3min 18s\n"
          ],
          "name": "stdout"
        }
      ]
    },
    {
      "cell_type": "code",
      "metadata": {
        "id": "l6CCLSjfur-9"
      },
      "source": [
        "input_ids       = encodings['input_ids']\n",
        "token_type_ids  = encodings['token_type_ids']\n",
        "attention_masks = encodings['attention_mask']"
      ],
      "execution_count": null,
      "outputs": []
    },
    {
      "cell_type": "markdown",
      "metadata": {
        "id": "z7IpRNiqsgs4"
      },
      "source": [
        "## Find unique ohe indices"
      ]
    },
    {
      "cell_type": "code",
      "metadata": {
        "id": "vSOFbThlYcpb",
        "colab": {
          "base_uri": "https://localhost:8080/"
        },
        "outputId": "6b5ca5be-0185-4bb4-e523-df429471e069"
      },
      "source": [
        "# Identifying indices of 'one_hot_labels' entries that only occur once\n",
        "# This will allow us to stratify split our training data later\n",
        "\n",
        "label_counts = df_train[col_ohe].astype(str).value_counts()\n",
        "one_freq = label_counts[label_counts==1].keys()\n",
        "\n",
        "cond = df_train[col_ohe].astype(str).isin(one_freq)\n",
        "one_freq_idxs = df_train[cond].index\n",
        "one_freq_idxs = sorted(list(one_freq_idxs), reverse=True)\n",
        "\n",
        "print('df_train label indices with only one instance: ', one_freq_idxs)"
      ],
      "execution_count": null,
      "outputs": [
        {
          "output_type": "stream",
          "text": [
            "df_train label indices with only one instance:  [113097, 57059, 7039]\n"
          ],
          "name": "stdout"
        }
      ]
    },
    {
      "cell_type": "code",
      "metadata": {
        "id": "CQQ7CoOag_r7"
      },
      "source": [
        "# Gathering single instance inputs to force\n",
        "# into the training set after stratified split\n",
        "\n",
        "one_freq_input_ids       = [input_ids.pop(i)       for i in one_freq_idxs]\n",
        "one_freq_token_types     = [token_type_ids.pop(i)  for i in one_freq_idxs]\n",
        "one_freq_attention_masks = [attention_masks.pop(i) for i in one_freq_idxs]\n",
        "one_freq_labels          = [labels.pop(i)          for i in one_freq_idxs]"
      ],
      "execution_count": null,
      "outputs": []
    },
    {
      "cell_type": "markdown",
      "metadata": {
        "id": "r9PxAt48HRRj"
      },
      "source": [
        "# Get train validation tensors"
      ]
    },
    {
      "cell_type": "code",
      "metadata": {
        "id": "WPFaq4ufnIT2",
        "colab": {
          "base_uri": "https://localhost:8080/"
        },
        "outputId": "57cd3fa6-450e-486a-ad97-7dc146a95f5b"
      },
      "source": [
        "%%time\n",
        "\n",
        "# train valid split using stratify\n",
        "\n",
        "train_inputs, valid_inputs,\\\n",
        "train_labels, valid_labels,\\\n",
        "train_token_types, valid_token_types,\\\n",
        "train_masks, valid_masks\\\n",
        "  = train_test_split(input_ids, labels, token_type_ids,attention_masks,\n",
        "                    random_state=SEED,\n",
        "                    test_size=0.10,\n",
        "                    stratify = labels)\n",
        "\n",
        "# Add one frequency data to train data\n",
        "train_inputs.extend(one_freq_input_ids)\n",
        "train_labels.extend(one_freq_labels)\n",
        "train_masks.extend(one_freq_attention_masks)\n",
        "train_token_types.extend(one_freq_token_types)\n",
        "\n",
        "# Convert all of our data into torch tensors\n",
        "train_inputs      = torch.tensor(train_inputs)\n",
        "train_labels      = torch.tensor(train_labels)\n",
        "train_masks       = torch.tensor(train_masks)\n",
        "train_token_types = torch.tensor(train_token_types)\n",
        "\n",
        "valid_inputs      = torch.tensor(valid_inputs)\n",
        "valid_labels      = torch.tensor(valid_labels)\n",
        "valid_masks       = torch.tensor(valid_masks)\n",
        "valid_token_types = torch.tensor(valid_token_types)"
      ],
      "execution_count": null,
      "outputs": [
        {
          "output_type": "stream",
          "text": [
            "CPU times: user 3.2 s, sys: 115 ms, total: 3.32 s\n",
            "Wall time: 3.32 s\n"
          ],
          "name": "stdout"
        }
      ]
    },
    {
      "cell_type": "markdown",
      "metadata": {
        "id": "-vexUChKsrC2"
      },
      "source": [
        "## Create DataLoader"
      ]
    },
    {
      "cell_type": "code",
      "metadata": {
        "id": "QpqVVU8wtZ5C"
      },
      "source": [
        "from torch.utils.data import (TensorDataset, DataLoader,\n",
        "                              RandomSampler, SequentialSampler)"
      ],
      "execution_count": null,
      "outputs": []
    },
    {
      "cell_type": "code",
      "metadata": {
        "id": "ZRnuLna-nIT4"
      },
      "source": [
        "# Select a batch size for training.\n",
        "# For fine-tuning with XLNet, the authors recommend\n",
        "# a batch size of 32, 48, or 128.\n",
        "# We will use 32 here to avoid memory issues.\n",
        "batch_size = 32\n",
        "\n",
        "\n",
        "# Create an iterator of our data with torch DataLoader.\n",
        "# This helps save on memory during training because, unlike a for loop, \n",
        "# with an iterator the entire dataset does not need to be loaded into memory\n",
        "\n",
        "train_data       = TensorDataset(train_inputs, train_masks,\n",
        "                                 train_labels, train_token_types)\n",
        "train_sampler    = RandomSampler(train_data)\n",
        "train_dataloader = DataLoader(train_data, sampler=train_sampler,\n",
        "                              batch_size=batch_size)\n",
        "\n",
        "valid_data       = TensorDataset(valid_inputs, valid_masks,\n",
        "                                 valid_labels, valid_token_types)\n",
        "valid_sampler    = SequentialSampler(valid_data)\n",
        "valid_dataloader = DataLoader(valid_data, sampler=valid_sampler,\n",
        "                              batch_size=batch_size)"
      ],
      "execution_count": null,
      "outputs": []
    },
    {
      "cell_type": "code",
      "metadata": {
        "id": "iiFRnP_ZTBFa"
      },
      "source": [
        "# # save data loaders\n",
        "# torch.save(train_dataloader,'train_data_loader')\n",
        "# torch.save(valid_dataloader,'valid_data_loader')"
      ],
      "execution_count": null,
      "outputs": []
    },
    {
      "cell_type": "code",
      "metadata": {
        "colab": {
          "base_uri": "https://localhost:8080/"
        },
        "id": "GDxmwEVfvNUF",
        "outputId": "7fafc079-7569-4c56-9af9-50129da8051f"
      },
      "source": [
        "# !ls"
      ],
      "execution_count": null,
      "outputs": [
        {
          "output_type": "stream",
          "text": [
            " bert_model_toxic\t\t       test_data_loader\n",
            " classification_report_optimized.txt   train.csv\n",
            " classification_report.txt\t      'train.csv.zip?raw=true'\n",
            " comparisons.csv\t\t      'train.csv.zip?raw=true.1'\n",
            " sample_data\t\t\t       train_data_loader\n",
            " test.csv\t\t\t       validation_data_loader\n",
            "'test.csv.zip?raw=true'\t\t       valid_data_loader\n",
            "'test.csv.zip?raw=true.1'\n"
          ],
          "name": "stdout"
        }
      ]
    },
    {
      "cell_type": "markdown",
      "metadata": {
        "id": "ncGteBuSFuZM"
      },
      "source": [
        "## Load the Model for Sequence Classification\n",
        "\n",
        "```python\n",
        "BERT:\n",
        "tokenizer = BertTokenizer.from_pretrained('bert-base-uncased', do_lower_case=True) \n",
        "\n",
        "XLNet:\n",
        "tokenizer = XLNetTokenizer.from_pretrained('xlnet-base-cased', do_lower_case=False) \n",
        "\n",
        "RoBERTa:\n",
        "tokenizer = RobertaTokenizer.from_pretrained('roberta-base', do_lower_case=False)\n",
        "```"
      ]
    },
    {
      "cell_type": "code",
      "metadata": {
        "id": "1j6aQDsxxYWh"
      },
      "source": [
        "# show_methods(transformers,contains='SequenceClassification',ncols=2)"
      ],
      "execution_count": null,
      "outputs": []
    },
    {
      "cell_type": "code",
      "metadata": {
        "id": "Ujk4k16DnIT6",
        "colab": {
          "base_uri": "https://localhost:8080/"
        },
        "outputId": "12b31037-0a20-44f8-825a-eb01d88a4a1b"
      },
      "source": [
        "%%time\n",
        "# Load classification model\n",
        "\n",
        "num_labels = len(cols_label)\n",
        "model = transformers.BertForSequenceClassification.from_pretrained(\n",
        "    \"bert-base-uncased\", num_labels=num_labels)\n",
        "model.cuda()"
      ],
      "execution_count": null,
      "outputs": [
        {
          "output_type": "stream",
          "text": [
            "Some weights of the model checkpoint at bert-base-uncased were not used when initializing BertForSequenceClassification: ['cls.predictions.bias', 'cls.predictions.transform.dense.weight', 'cls.predictions.transform.dense.bias', 'cls.predictions.decoder.weight', 'cls.seq_relationship.weight', 'cls.seq_relationship.bias', 'cls.predictions.transform.LayerNorm.weight', 'cls.predictions.transform.LayerNorm.bias']\n",
            "- This IS expected if you are initializing BertForSequenceClassification from the checkpoint of a model trained on another task or with another architecture (e.g. initializing a BertForSequenceClassification model from a BertForPreTraining model).\n",
            "- This IS NOT expected if you are initializing BertForSequenceClassification from the checkpoint of a model that you expect to be exactly identical (initializing a BertForSequenceClassification model from a BertForSequenceClassification model).\n",
            "Some weights of BertForSequenceClassification were not initialized from the model checkpoint at bert-base-uncased and are newly initialized: ['classifier.weight', 'classifier.bias']\n",
            "You should probably TRAIN this model on a down-stream task to be able to use it for predictions and inference.\n"
          ],
          "name": "stderr"
        },
        {
          "output_type": "stream",
          "text": [
            "CPU times: user 6.38 s, sys: 1.37 s, total: 7.76 s\n",
            "Wall time: 8.27 s\n"
          ],
          "name": "stdout"
        }
      ]
    },
    {
      "cell_type": "markdown",
      "metadata": {
        "id": "jGE4gv9qfhRG"
      },
      "source": [
        "## Choose Optimizer\n",
        "\n",
        "Setting custom optimization parameters for the AdamW optimizer https://huggingface.co/transformers/main_classes/optimizer_schedules.html"
      ]
    },
    {
      "cell_type": "code",
      "metadata": {
        "colab": {
          "base_uri": "https://localhost:8080/",
          "height": 80
        },
        "id": "eydfC6i109pO",
        "outputId": "6a6347e4-c4f7-4e0b-f9fd-1697e8985ffa"
      },
      "source": [
        "show_methods(transformers,3,contains='Adam')"
      ],
      "execution_count": null,
      "outputs": [
        {
          "output_type": "execute_result",
          "data": {
            "text/html": [
              "<div>\n",
              "<style scoped>\n",
              "    .dataframe tbody tr th:only-of-type {\n",
              "        vertical-align: middle;\n",
              "    }\n",
              "\n",
              "    .dataframe tbody tr th {\n",
              "        vertical-align: top;\n",
              "    }\n",
              "\n",
              "    .dataframe thead th {\n",
              "        text-align: right;\n",
              "    }\n",
              "</style>\n",
              "<table border=\"1\" class=\"dataframe\">\n",
              "  <thead>\n",
              "    <tr style=\"text-align: right;\">\n",
              "      <th></th>\n",
              "      <th>0</th>\n",
              "      <th>1</th>\n",
              "      <th>2</th>\n",
              "    </tr>\n",
              "  </thead>\n",
              "  <tbody>\n",
              "    <tr>\n",
              "      <th>0</th>\n",
              "      <td>AdamW</td>\n",
              "      <td>AdamWeightDecay</td>\n",
              "      <td></td>\n",
              "    </tr>\n",
              "  </tbody>\n",
              "</table>\n",
              "</div>"
            ],
            "text/plain": [
              "       0                1 2\n",
              "0  AdamW  AdamWeightDecay  "
            ]
          },
          "metadata": {
            "tags": []
          },
          "execution_count": 35
        }
      ]
    },
    {
      "cell_type": "code",
      "metadata": {
        "id": "GsV8zwWYnIT9"
      },
      "source": [
        "# setting custom optimization parameters.\n",
        "params_opt = list(model.named_parameters())\n",
        "\n",
        "no_decay = ['bias', 'gamma', 'beta']\n",
        "\n",
        "\n",
        "params_opt_group = [\n",
        "    # non decay params\n",
        "    {'params': [p for n, p in params_opt\n",
        "                if not any(nd in n for nd in no_decay)],\n",
        "     'weight_decay_rate': 0.01},\n",
        "\n",
        "    # decay params\n",
        "    {'params': [p for n, p in params_opt\n",
        "                if any(nd in n for nd in no_decay)],\n",
        "     'weight_decay_rate': 0.0}\n",
        "]"
      ],
      "execution_count": null,
      "outputs": []
    },
    {
      "cell_type": "code",
      "metadata": {
        "id": "aOomZIEIoHOL"
      },
      "source": [
        "optimizer = transformers.AdamW(params_opt_group,lr=2e-5,correct_bias=True)\n",
        "# optimizer = AdamW(model.parameters(),lr=2e-5)  # Default optimization"
      ],
      "execution_count": null,
      "outputs": []
    },
    {
      "cell_type": "markdown",
      "metadata": {
        "id": "JRQQZ8zIFzLW"
      },
      "source": [
        "## Train Model"
      ]
    },
    {
      "cell_type": "code",
      "metadata": {
        "id": "uDLZmEC_oKo3",
        "colab": {
          "base_uri": "https://localhost:8080/"
        },
        "outputId": "08e2795b-87de-4c25-d4ce-014a34c48c73"
      },
      "source": [
        "%%time\n",
        "\n",
        "from tqdm import trange\n",
        "\n",
        "# Store our loss and accuracy for plotting\n",
        "train_loss_set = []\n",
        "\n",
        "# Number of training epochs (authors recommend between 2 and 4)\n",
        "epochs = 3\n",
        "\n",
        "# trange is a tqdm wrapper around the normal python range\n",
        "for _ in trange(epochs, desc=\"Epoch\"):\n",
        "\n",
        "  # Training\n",
        "  \n",
        "  # train model\n",
        "  model.train()\n",
        "\n",
        "  # Tracking variables\n",
        "  tr_loss = 0\n",
        "  nb_tr_examples, nb_tr_steps = 0, 0\n",
        "  \n",
        "  # Train the data for one epoch\n",
        "  for step, batch in enumerate(train_dataloader):\n",
        "    # Add batch to GPU\n",
        "    batch = tuple(b.to(device) for b in batch)\n",
        "\n",
        "    # Unpack the inputs from our dataloader\n",
        "    b_input_ids, b_input_mask, b_labels, b_token_types = batch\n",
        "\n",
        "    # Clear out the gradients (by default they accumulate)\n",
        "    optimizer.zero_grad()\n",
        "\n",
        "    # # Forward pass for multiclass classification\n",
        "    # outputs = model(b_input_ids, token_type_ids=None,\n",
        "    #                  attention_mask=b_input_mask, labels=b_labels)\n",
        "    # loss = outputs[0]\n",
        "    # logits = outputs[1]\n",
        "\n",
        "    # Forward pass for multilabel classification\n",
        "    outputs = model(b_input_ids, token_type_ids=None,\n",
        "                    attention_mask=b_input_mask)\n",
        "    logits = outputs[0]\n",
        "    loss_func = BCEWithLogitsLoss() \n",
        "    loss = loss_func(logits.view(-1,num_labels),\n",
        "                     b_labels.type_as(logits).view(-1,num_labels))\n",
        "    # loss_func = BCELoss() \n",
        "    # loss = loss_func(torch.sigmoid(logits.view(-1,num_labels)),\n",
        "    #             b_labels.type_as(logits).view(-1,num_labels))\n",
        "    train_loss_set.append(loss.item())    \n",
        "\n",
        "    # Backward pass\n",
        "    loss.backward()\n",
        "\n",
        "    # Update parameters and take a step using the computed gradient\n",
        "    optimizer.step()\n",
        "    # scheduler.step()\n",
        "\n",
        "    # Update tracking variables\n",
        "    tr_loss += loss.item()\n",
        "    nb_tr_examples += b_input_ids.size(0)\n",
        "    nb_tr_steps += 1\n",
        "\n",
        "  print(\"Train loss: {}\".format(tr_loss/nb_tr_steps))\n",
        "\n",
        "###############################################################################\n",
        "\n",
        "  # Validation\n",
        "\n",
        "  # Put model in evaluation mode to evaluate loss on the validation set\n",
        "  model.eval()\n",
        "\n",
        "  # Variables to gather full output\n",
        "  logit_preds,true_labels,pred_labels,tokenized_texts = [],[],[],[]\n",
        "\n",
        "  # Predict\n",
        "  for i, batch in enumerate(valid_dataloader):\n",
        "    batch = tuple(b.to(device) for b in batch)\n",
        "\n",
        "    # Unpack the inputs from our dataloader\n",
        "    b_input_ids, b_input_mask, b_labels, b_token_types = batch\n",
        "\n",
        "    with torch.no_grad():\n",
        "      # Forward pass\n",
        "      outs = model(b_input_ids, token_type_ids=None,\n",
        "                   attention_mask=b_input_mask)\n",
        "      b_logit_pred = outs[0]\n",
        "      pred_label = torch.sigmoid(b_logit_pred)\n",
        "\n",
        "      b_logit_pred = b_logit_pred.detach().cpu().numpy()\n",
        "      pred_label = pred_label.to('cpu').numpy()\n",
        "      b_labels = b_labels.to('cpu').numpy()\n",
        "\n",
        "    tokenized_texts.append(b_input_ids)\n",
        "    logit_preds.append(b_logit_pred)\n",
        "    true_labels.append(b_labels)\n",
        "    pred_labels.append(pred_label)\n",
        "\n",
        "  # Flatten outputs\n",
        "  pred_labels = [item for sublist in pred_labels for item in sublist]\n",
        "  true_labels = [item for sublist in true_labels for item in sublist]\n",
        "\n",
        "  # Calculate Accuracy\n",
        "  threshold = 0.50\n",
        "  pred_bools = [pl>threshold for pl in pred_labels]\n",
        "  true_bools = [tl==1 for tl in true_labels]\n",
        "  val_f1_accuracy = f1_score(true_bools,pred_bools,average='micro')*100\n",
        "  val_flat_accuracy = accuracy_score(true_bools, pred_bools)*100\n",
        "\n",
        "  print('F1 Validation Accuracy: ', val_f1_accuracy)\n",
        "  print('Flat Validation Accuracy: ', val_flat_accuracy)"
      ],
      "execution_count": null,
      "outputs": [
        {
          "output_type": "stream",
          "text": [
            "\rEpoch:   0%|          | 0/3 [00:00<?, ?it/s]"
          ],
          "name": "stderr"
        },
        {
          "output_type": "stream",
          "text": [
            "Train loss: 0.05367283841109552\n"
          ],
          "name": "stdout"
        },
        {
          "output_type": "stream",
          "text": [
            "\rEpoch:  33%|███▎      | 1/3 [19:58<39:57, 1198.80s/it]"
          ],
          "name": "stderr"
        },
        {
          "output_type": "stream",
          "text": [
            "F1 Validation Accuracy:  79.13170375775266\n",
            "Flat Validation Accuracy:  92.95785680714398\n",
            "Train loss: 0.03492113039635946\n"
          ],
          "name": "stdout"
        },
        {
          "output_type": "stream",
          "text": [
            "\rEpoch:  67%|██████▋   | 2/3 [39:52<19:57, 1197.31s/it]"
          ],
          "name": "stderr"
        },
        {
          "output_type": "stream",
          "text": [
            "F1 Validation Accuracy:  79.21217547000894\n",
            "Flat Validation Accuracy:  93.07535641547861\n",
            "Train loss: 0.027673481150811315\n"
          ],
          "name": "stdout"
        },
        {
          "output_type": "stream",
          "text": [
            "Epoch: 100%|██████████| 3/3 [59:44<00:00, 1194.76s/it]"
          ],
          "name": "stderr"
        },
        {
          "output_type": "stream",
          "text": [
            "F1 Validation Accuracy:  78.94641235240691\n",
            "Flat Validation Accuracy:  92.9735234215886\n"
          ],
          "name": "stdout"
        },
        {
          "output_type": "stream",
          "text": [
            "\n"
          ],
          "name": "stderr"
        }
      ]
    },
    {
      "cell_type": "code",
      "metadata": {
        "id": "aiBeiBSRoOuz"
      },
      "source": [
        "#  torch.save(model.state_dict(), 'bert_model_toxic')"
      ],
      "execution_count": null,
      "outputs": []
    },
    {
      "cell_type": "markdown",
      "metadata": {
        "id": "_7dd2GE3F4yK"
      },
      "source": [
        "## Load and Preprocess Test Data"
      ]
    },
    {
      "cell_type": "code",
      "metadata": {
        "colab": {
          "base_uri": "https://localhost:8080/"
        },
        "id": "y3R3ucxTM1vF",
        "outputId": "e6176f0f-a541-4cec-855f-ff74c4001d42"
      },
      "source": [
        "cols_label"
      ],
      "execution_count": null,
      "outputs": [
        {
          "output_type": "execute_result",
          "data": {
            "text/plain": [
              "['toxic', 'severe_toxic', 'obscene', 'threat', 'insult', 'identity_hate']"
            ]
          },
          "metadata": {
            "tags": []
          },
          "execution_count": 40
        }
      ]
    },
    {
      "cell_type": "code",
      "metadata": {
        "id": "G5Q7hC4GFOLJ",
        "colab": {
          "base_uri": "https://localhost:8080/",
          "height": 199
        },
        "outputId": "a436cd1a-e3cf-403c-b828-914f56525a61"
      },
      "source": [
        "df_test = pd.read_csv('test.csv')\n",
        "df_test.head(2)"
      ],
      "execution_count": null,
      "outputs": [
        {
          "output_type": "execute_result",
          "data": {
            "text/html": [
              "<div>\n",
              "<style scoped>\n",
              "    .dataframe tbody tr th:only-of-type {\n",
              "        vertical-align: middle;\n",
              "    }\n",
              "\n",
              "    .dataframe tbody tr th {\n",
              "        vertical-align: top;\n",
              "    }\n",
              "\n",
              "    .dataframe thead th {\n",
              "        text-align: right;\n",
              "    }\n",
              "</style>\n",
              "<table border=\"1\" class=\"dataframe\">\n",
              "  <thead>\n",
              "    <tr style=\"text-align: right;\">\n",
              "      <th></th>\n",
              "      <th>id</th>\n",
              "      <th>comment_text</th>\n",
              "      <th>toxic</th>\n",
              "      <th>severe_toxic</th>\n",
              "      <th>obscene</th>\n",
              "      <th>threat</th>\n",
              "      <th>insult</th>\n",
              "      <th>identity_hate</th>\n",
              "    </tr>\n",
              "  </thead>\n",
              "  <tbody>\n",
              "    <tr>\n",
              "      <th>0</th>\n",
              "      <td>70bbc3e96dd459b1</td>\n",
              "      <td>Hammed it is, cheers!</td>\n",
              "      <td>0</td>\n",
              "      <td>0</td>\n",
              "      <td>0</td>\n",
              "      <td>0</td>\n",
              "      <td>0</td>\n",
              "      <td>0</td>\n",
              "    </tr>\n",
              "    <tr>\n",
              "      <th>1</th>\n",
              "      <td>0b2e86f819b4b9a4</td>\n",
              "      <td>Not a problem, sorry for the inconvenience and...</td>\n",
              "      <td>0</td>\n",
              "      <td>0</td>\n",
              "      <td>0</td>\n",
              "      <td>0</td>\n",
              "      <td>0</td>\n",
              "      <td>0</td>\n",
              "    </tr>\n",
              "  </tbody>\n",
              "</table>\n",
              "</div>"
            ],
            "text/plain": [
              "                 id  ... identity_hate\n",
              "0  70bbc3e96dd459b1  ...             0\n",
              "1  0b2e86f819b4b9a4  ...             0\n",
              "\n",
              "[2 rows x 8 columns]"
            ]
          },
          "metadata": {
            "tags": []
          },
          "execution_count": 41
        }
      ]
    },
    {
      "cell_type": "code",
      "metadata": {
        "colab": {
          "base_uri": "https://localhost:8080/"
        },
        "id": "Gx3U2yrSQzh4",
        "outputId": "bee0d905-1418-4d1a-e0e9-a853f4753a58"
      },
      "source": [
        "print('Count of 1 per label: \\n', df_test[cols_label].sum(), '\\n') \n",
        "print('Count of 0 per label: \\n', df_test[cols_label].eq(0).sum())"
      ],
      "execution_count": null,
      "outputs": [
        {
          "output_type": "stream",
          "text": [
            "Count of 1 per label: \n",
            " toxic            3092\n",
            "severe_toxic      313\n",
            "obscene          1667\n",
            "threat             99\n",
            "insult           1585\n",
            "identity_hate     269\n",
            "dtype: int64 \n",
            "\n",
            "Count of 0 per label: \n",
            " toxic            28823\n",
            "severe_toxic     31602\n",
            "obscene          30248\n",
            "threat           31816\n",
            "insult           30330\n",
            "identity_hate    31646\n",
            "dtype: int64\n"
          ],
          "name": "stdout"
        }
      ]
    },
    {
      "cell_type": "code",
      "metadata": {
        "colab": {
          "base_uri": "https://localhost:8080/"
        },
        "id": "C-o4YlLlNnxl",
        "outputId": "5df31649-f55f-4136-fb3c-0cd378bd8fb6"
      },
      "source": [
        "# df_test_labels = pd.read_csv('test_labels.csv')\n",
        "# df_test = df_test.merge(df_test_labels, on='id', how='left')\n",
        "\n",
        "df_test.isna().sum().sum()"
      ],
      "execution_count": null,
      "outputs": [
        {
          "output_type": "execute_result",
          "data": {
            "text/plain": [
              "0"
            ]
          },
          "metadata": {
            "tags": []
          },
          "execution_count": 43
        }
      ]
    },
    {
      "cell_type": "code",
      "metadata": {
        "colab": {
          "base_uri": "https://localhost:8080/",
          "height": 199
        },
        "id": "LADneCcmQ9iC",
        "outputId": "9f2a7571-22dc-4b60-edbc-2c817fe03aa2"
      },
      "source": [
        "df_test[col_ohe] = df_test[cols_label].to_numpy().tolist()\n",
        "df_test.head(2)"
      ],
      "execution_count": null,
      "outputs": [
        {
          "output_type": "execute_result",
          "data": {
            "text/html": [
              "<div>\n",
              "<style scoped>\n",
              "    .dataframe tbody tr th:only-of-type {\n",
              "        vertical-align: middle;\n",
              "    }\n",
              "\n",
              "    .dataframe tbody tr th {\n",
              "        vertical-align: top;\n",
              "    }\n",
              "\n",
              "    .dataframe thead th {\n",
              "        text-align: right;\n",
              "    }\n",
              "</style>\n",
              "<table border=\"1\" class=\"dataframe\">\n",
              "  <thead>\n",
              "    <tr style=\"text-align: right;\">\n",
              "      <th></th>\n",
              "      <th>id</th>\n",
              "      <th>comment_text</th>\n",
              "      <th>toxic</th>\n",
              "      <th>severe_toxic</th>\n",
              "      <th>obscene</th>\n",
              "      <th>threat</th>\n",
              "      <th>insult</th>\n",
              "      <th>identity_hate</th>\n",
              "      <th>one_hot_labels</th>\n",
              "    </tr>\n",
              "  </thead>\n",
              "  <tbody>\n",
              "    <tr>\n",
              "      <th>0</th>\n",
              "      <td>70bbc3e96dd459b1</td>\n",
              "      <td>Hammed it is, cheers!</td>\n",
              "      <td>0</td>\n",
              "      <td>0</td>\n",
              "      <td>0</td>\n",
              "      <td>0</td>\n",
              "      <td>0</td>\n",
              "      <td>0</td>\n",
              "      <td>[0, 0, 0, 0, 0, 0]</td>\n",
              "    </tr>\n",
              "    <tr>\n",
              "      <th>1</th>\n",
              "      <td>0b2e86f819b4b9a4</td>\n",
              "      <td>Not a problem, sorry for the inconvenience and...</td>\n",
              "      <td>0</td>\n",
              "      <td>0</td>\n",
              "      <td>0</td>\n",
              "      <td>0</td>\n",
              "      <td>0</td>\n",
              "      <td>0</td>\n",
              "      <td>[0, 0, 0, 0, 0, 0]</td>\n",
              "    </tr>\n",
              "  </tbody>\n",
              "</table>\n",
              "</div>"
            ],
            "text/plain": [
              "                 id  ...      one_hot_labels\n",
              "0  70bbc3e96dd459b1  ...  [0, 0, 0, 0, 0, 0]\n",
              "1  0b2e86f819b4b9a4  ...  [0, 0, 0, 0, 0, 0]\n",
              "\n",
              "[2 rows x 9 columns]"
            ]
          },
          "metadata": {
            "tags": []
          },
          "execution_count": 45
        }
      ]
    },
    {
      "cell_type": "code",
      "metadata": {
        "id": "1a41OmU2i7qp"
      },
      "source": [
        "# Gathering input data\n",
        "test_labels   = list(df_test[cols_label].values)\n",
        "test_comments = list(df_test[col_text].values)"
      ],
      "execution_count": null,
      "outputs": []
    },
    {
      "cell_type": "markdown",
      "metadata": {
        "id": "2RJ6R2cZRp6V"
      },
      "source": [
        "## Tokenize Test Data"
      ]
    },
    {
      "cell_type": "code",
      "metadata": {
        "id": "amySMO8EQzf2",
        "colab": {
          "base_uri": "https://localhost:8080/"
        },
        "outputId": "a862c7f7-d7b7-472f-b81e-6d272cf79bda"
      },
      "source": [
        "%%time\n",
        "# Encoding input data\n",
        "test_encodings       = tokenizer.batch_encode_plus(test_comments,\n",
        "                                max_length=max_length,\n",
        "                                pad_to_max_length=True)\n",
        "test_input_ids       = test_encodings['input_ids']\n",
        "test_token_type_ids  = test_encodings['token_type_ids']\n",
        "test_attention_masks = test_encodings['attention_mask']"
      ],
      "execution_count": null,
      "outputs": [
        {
          "output_type": "stream",
          "text": [
            "/usr/local/lib/python3.6/dist-packages/transformers/tokenization_utils_base.py:2142: FutureWarning: The `pad_to_max_length` argument is deprecated and will be removed in a future version, use `padding=True` or `padding='longest'` to pad to the longest sequence in the batch, or use `padding='max_length'` to pad to a max length. In this case, you can give a specific length with `max_length` (e.g. `max_length=45`) or leave max_length to None to pad to the maximal input size of the model (e.g. 512 for Bert).\n",
            "  FutureWarning,\n"
          ],
          "name": "stderr"
        },
        {
          "output_type": "stream",
          "text": [
            "CPU times: user 46.7 s, sys: 41.7 ms, total: 46.7 s\n",
            "Wall time: 46.7 s\n"
          ],
          "name": "stdout"
        }
      ]
    },
    {
      "cell_type": "markdown",
      "metadata": {
        "id": "ZP80fjYNSFQ9"
      },
      "source": [
        "## Create Tensors for Test Data"
      ]
    },
    {
      "cell_type": "code",
      "metadata": {
        "id": "hqOfi9fkRaRN"
      },
      "source": [
        "# Make tensors out of data\n",
        "test_inputs      = torch.tensor(test_input_ids)\n",
        "test_labels      = torch.tensor(test_labels)\n",
        "test_masks       = torch.tensor(test_attention_masks)\n",
        "test_token_types = torch.tensor(test_token_type_ids)"
      ],
      "execution_count": null,
      "outputs": []
    },
    {
      "cell_type": "markdown",
      "metadata": {
        "id": "Uex-KuH1SVh1"
      },
      "source": [
        "## Create DataLoader for Test Data"
      ]
    },
    {
      "cell_type": "code",
      "metadata": {
        "id": "dWGXKJB9SS2O"
      },
      "source": [
        "# Create test dataloader\n",
        "test_data       = TensorDataset(test_inputs, test_masks, test_labels,\n",
        "                                test_token_types)\n",
        "test_sampler    = SequentialSampler(test_data)\n",
        "test_dataloader = DataLoader(test_data, sampler=test_sampler,\n",
        "                             batch_size=batch_size)\n",
        "\n",
        "# Save test dataloader\n",
        "torch.save(test_dataloader,'test_data_loader')"
      ],
      "execution_count": null,
      "outputs": []
    },
    {
      "cell_type": "markdown",
      "metadata": {
        "id": "PFTWxCA_GBau"
      },
      "source": [
        "## Get the Predictions from Test Data"
      ]
    },
    {
      "cell_type": "code",
      "metadata": {
        "id": "NPvrL6OFSQvf",
        "colab": {
          "base_uri": "https://localhost:8080/"
        },
        "outputId": "f57fb4c5-ee05-45fc-a4f1-8f5df28aa483"
      },
      "source": [
        "%%time\n",
        "# Test\n",
        "\n",
        "# Put model in evaluation mode to evaluate loss on the validation set\n",
        "model.eval()\n",
        "\n",
        "#track variables\n",
        "logit_preds,true_labels,pred_labels,tokenized_texts = [],[],[],[]\n",
        "\n",
        "# Predict\n",
        "for i, batch in enumerate(test_dataloader):\n",
        "  batch = tuple(b.to(device) for b in batch)\n",
        "\n",
        "  # Unpack the inputs from our dataloader\n",
        "  b_input_ids, b_input_mask, b_labels, b_token_types = batch\n",
        "\n",
        "  with torch.no_grad():\n",
        "    # Forward pass\n",
        "    outs         = model(b_input_ids, token_type_ids=None,\n",
        "                         attention_mask=b_input_mask)\n",
        "    b_logit_pred = outs[0]\n",
        "    pred_label   = torch.sigmoid(b_logit_pred)\n",
        "\n",
        "    b_logit_pred = b_logit_pred.detach().cpu().numpy()\n",
        "    pred_label   = pred_label.to('cpu').numpy()\n",
        "    b_labels     = b_labels.to('cpu').numpy()\n",
        "\n",
        "  tokenized_texts.append(b_input_ids)\n",
        "  logit_preds.append(b_logit_pred)\n",
        "  true_labels.append(b_labels)\n",
        "  pred_labels.append(pred_label)\n",
        "\n",
        "# Flatten outputs\n",
        "tokenized_texts = [item  for sublist in tokenized_texts for item in sublist]\n",
        "pred_labels     = [item  for sublist in pred_labels     for item in sublist]\n",
        "true_labels     = [item  for sublist in true_labels     for item in sublist]\n",
        "true_bools      = [tl==1 for tl      in true_labels]"
      ],
      "execution_count": null,
      "outputs": [
        {
          "output_type": "stream",
          "text": [
            "CPU times: user 1min 4s, sys: 34.8 s, total: 1min 39s\n",
            "Wall time: 1min 39s\n"
          ],
          "name": "stdout"
        }
      ]
    },
    {
      "cell_type": "markdown",
      "metadata": {
        "id": "kJJB6X4paLm3"
      },
      "source": [
        "# Model Evaluation"
      ]
    },
    {
      "cell_type": "code",
      "metadata": {
        "colab": {
          "base_uri": "https://localhost:8080/"
        },
        "id": "uaL7HaIpXkZo",
        "outputId": "af92bdbf-b55c-40bc-9265-e96a594ab6f0"
      },
      "source": [
        "len(true_bools), df_test.shape"
      ],
      "execution_count": null,
      "outputs": [
        {
          "output_type": "execute_result",
          "data": {
            "text/plain": [
              "(31915, (31915, 9))"
            ]
          },
          "metadata": {
            "tags": []
          },
          "execution_count": 51
        }
      ]
    },
    {
      "cell_type": "code",
      "metadata": {
        "id": "eWoIjgmxTnzc"
      },
      "source": [
        "pred_bools = [pl>0.50 for pl in pred_labels]"
      ],
      "execution_count": null,
      "outputs": []
    },
    {
      "cell_type": "code",
      "metadata": {
        "colab": {
          "base_uri": "https://localhost:8080/"
        },
        "id": "QeRDCZXFTxrv",
        "outputId": "96621d0a-88d2-486b-8be8-deecf70bc6c0"
      },
      "source": [
        "f1= f1_score(true_bools, pred_bools,average='micro')\n",
        "acc = accuracy_score(true_bools, pred_bools)\n",
        "\n",
        "print(f'F1-score (micro)  : {f1:.4f}')\n",
        "print(f'Accuracy (overall): {acc:.4f}')"
      ],
      "execution_count": null,
      "outputs": [
        {
          "output_type": "stream",
          "text": [
            "F1-score (micro)  : 0.7796\n",
            "Accuracy (overall): 0.9251\n"
          ],
          "name": "stdout"
        }
      ]
    },
    {
      "cell_type": "markdown",
      "metadata": {
        "id": "3_AX9X2ATdgQ"
      },
      "source": [
        "## Confusion Matrix"
      ]
    },
    {
      "cell_type": "code",
      "metadata": {
        "colab": {
          "base_uri": "https://localhost:8080/"
        },
        "id": "BE23bap4Xkhg",
        "outputId": "10e7536e-0a03-43b5-edc1-28a1f5be8bd4"
      },
      "source": [
        "from sklearn.metrics import multilabel_confusion_matrix\n",
        "\n",
        "mcm = multilabel_confusion_matrix(true_bools, pred_bools)\n",
        "mcm"
      ],
      "execution_count": null,
      "outputs": [
        {
          "output_type": "execute_result",
          "data": {
            "text/plain": [
              "array([[[28431,   392],\n",
              "        [  688,  2404]],\n",
              "\n",
              "       [[31482,   120],\n",
              "        [  179,   134]],\n",
              "\n",
              "       [[29948,   300],\n",
              "        [  274,  1393]],\n",
              "\n",
              "       [[31767,    49],\n",
              "        [   48,    51]],\n",
              "\n",
              "       [[29882,   448],\n",
              "        [  322,  1263]],\n",
              "\n",
              "       [[31582,    64],\n",
              "        [  149,   120]]])"
            ]
          },
          "metadata": {
            "tags": []
          },
          "execution_count": 54
        }
      ]
    },
    {
      "cell_type": "markdown",
      "metadata": {
        "id": "bQeGWqeMzAoZ"
      },
      "source": [
        "## Classification Report"
      ]
    },
    {
      "cell_type": "code",
      "metadata": {
        "id": "BZcZUcYOxxmM",
        "colab": {
          "base_uri": "https://localhost:8080/"
        },
        "outputId": "324a85ae-fe17-4042-d129-9e301ea8c832"
      },
      "source": [
        "clf_report = classification_report(true_bools,pred_bools,\n",
        "                                   target_names=cols_label)\n",
        "\n",
        "print(clf_report)"
      ],
      "execution_count": null,
      "outputs": [
        {
          "output_type": "stream",
          "text": [
            "               precision    recall  f1-score   support\n",
            "\n",
            "        toxic       0.86      0.78      0.82      3092\n",
            " severe_toxic       0.53      0.43      0.47       313\n",
            "      obscene       0.82      0.84      0.83      1667\n",
            "       threat       0.51      0.52      0.51        99\n",
            "       insult       0.74      0.80      0.77      1585\n",
            "identity_hate       0.65      0.45      0.53       269\n",
            "\n",
            "    micro avg       0.80      0.76      0.78      7025\n",
            "    macro avg       0.69      0.63      0.65      7025\n",
            " weighted avg       0.80      0.76      0.78      7025\n",
            "  samples avg       0.07      0.07      0.07      7025\n",
            "\n"
          ],
          "name": "stdout"
        },
        {
          "output_type": "stream",
          "text": [
            "/usr/local/lib/python3.6/dist-packages/sklearn/metrics/_classification.py:1272: UndefinedMetricWarning: Precision and F-score are ill-defined and being set to 0.0 in samples with no predicted labels. Use `zero_division` parameter to control this behavior.\n",
            "  _warn_prf(average, modifier, msg_start, len(result))\n",
            "/usr/local/lib/python3.6/dist-packages/sklearn/metrics/_classification.py:1272: UndefinedMetricWarning: Recall and F-score are ill-defined and being set to 0.0 in samples with no true labels. Use `zero_division` parameter to control this behavior.\n",
            "  _warn_prf(average, modifier, msg_start, len(result))\n"
          ],
          "name": "stderr"
        }
      ]
    },
    {
      "cell_type": "markdown",
      "metadata": {
        "id": "wm-pv1x2frdu"
      },
      "source": [
        "## Co-occurence Matrix"
      ]
    },
    {
      "cell_type": "code",
      "metadata": {
        "colab": {
          "base_uri": "https://localhost:8080/",
          "height": 166
        },
        "id": "2HXZ3QwIfuec",
        "outputId": "83321c4c-df03-4709-e84c-cddbce918864"
      },
      "source": [
        "coo = np.array(true_bools,dtype=np.int16).T.dot(np.array(pred_bools,dtype=np.int16))\n",
        "df_coo = pd.DataFrame(coo, columns=cols_label,index=cols_label)\n",
        "df_coo.style.background_gradient()"
      ],
      "execution_count": null,
      "outputs": [
        {
          "output_type": "execute_result",
          "data": {
            "text/html": [
              "<style  type=\"text/css\" >\n",
              "#T_8bbff4ee_34f0_11eb_a6d6_0242ac1c0002row0_col0,#T_8bbff4ee_34f0_11eb_a6d6_0242ac1c0002row0_col1,#T_8bbff4ee_34f0_11eb_a6d6_0242ac1c0002row0_col2,#T_8bbff4ee_34f0_11eb_a6d6_0242ac1c0002row0_col3,#T_8bbff4ee_34f0_11eb_a6d6_0242ac1c0002row0_col4,#T_8bbff4ee_34f0_11eb_a6d6_0242ac1c0002row0_col5{\n",
              "            background-color:  #023858;\n",
              "            color:  #f1f1f1;\n",
              "        }#T_8bbff4ee_34f0_11eb_a6d6_0242ac1c0002row1_col0{\n",
              "            background-color:  #f1ebf4;\n",
              "            color:  #000000;\n",
              "        }#T_8bbff4ee_34f0_11eb_a6d6_0242ac1c0002row1_col1{\n",
              "            background-color:  #7dacd1;\n",
              "            color:  #000000;\n",
              "        }#T_8bbff4ee_34f0_11eb_a6d6_0242ac1c0002row1_col2{\n",
              "            background-color:  #e5e1ef;\n",
              "            color:  #000000;\n",
              "        }#T_8bbff4ee_34f0_11eb_a6d6_0242ac1c0002row1_col3{\n",
              "            background-color:  #e1dfed;\n",
              "            color:  #000000;\n",
              "        }#T_8bbff4ee_34f0_11eb_a6d6_0242ac1c0002row1_col4{\n",
              "            background-color:  #e7e3f0;\n",
              "            color:  #000000;\n",
              "        }#T_8bbff4ee_34f0_11eb_a6d6_0242ac1c0002row1_col5{\n",
              "            background-color:  #d2d3e7;\n",
              "            color:  #000000;\n",
              "        }#T_8bbff4ee_34f0_11eb_a6d6_0242ac1c0002row2_col0{\n",
              "            background-color:  #348ebf;\n",
              "            color:  #000000;\n",
              "        }#T_8bbff4ee_34f0_11eb_a6d6_0242ac1c0002row2_col1{\n",
              "            background-color:  #023b5d;\n",
              "            color:  #f1f1f1;\n",
              "        }#T_8bbff4ee_34f0_11eb_a6d6_0242ac1c0002row2_col2{\n",
              "            background-color:  #045b8f;\n",
              "            color:  #f1f1f1;\n",
              "        }#T_8bbff4ee_34f0_11eb_a6d6_0242ac1c0002row2_col3,#T_8bbff4ee_34f0_11eb_a6d6_0242ac1c0002row4_col3{\n",
              "            background-color:  #67a4cc;\n",
              "            color:  #000000;\n",
              "        }#T_8bbff4ee_34f0_11eb_a6d6_0242ac1c0002row2_col4{\n",
              "            background-color:  #0570b0;\n",
              "            color:  #f1f1f1;\n",
              "        }#T_8bbff4ee_34f0_11eb_a6d6_0242ac1c0002row2_col5{\n",
              "            background-color:  #056fae;\n",
              "            color:  #f1f1f1;\n",
              "        }#T_8bbff4ee_34f0_11eb_a6d6_0242ac1c0002row3_col0,#T_8bbff4ee_34f0_11eb_a6d6_0242ac1c0002row3_col1,#T_8bbff4ee_34f0_11eb_a6d6_0242ac1c0002row3_col2,#T_8bbff4ee_34f0_11eb_a6d6_0242ac1c0002row3_col4,#T_8bbff4ee_34f0_11eb_a6d6_0242ac1c0002row3_col5,#T_8bbff4ee_34f0_11eb_a6d6_0242ac1c0002row5_col3{\n",
              "            background-color:  #fff7fb;\n",
              "            color:  #000000;\n",
              "        }#T_8bbff4ee_34f0_11eb_a6d6_0242ac1c0002row3_col3{\n",
              "            background-color:  #a1bbda;\n",
              "            color:  #000000;\n",
              "        }#T_8bbff4ee_34f0_11eb_a6d6_0242ac1c0002row4_col0{\n",
              "            background-color:  #4496c3;\n",
              "            color:  #000000;\n",
              "        }#T_8bbff4ee_34f0_11eb_a6d6_0242ac1c0002row4_col1{\n",
              "            background-color:  #045585;\n",
              "            color:  #f1f1f1;\n",
              "        }#T_8bbff4ee_34f0_11eb_a6d6_0242ac1c0002row4_col2{\n",
              "            background-color:  #1b7eb7;\n",
              "            color:  #000000;\n",
              "        }#T_8bbff4ee_34f0_11eb_a6d6_0242ac1c0002row4_col4{\n",
              "            background-color:  #056dac;\n",
              "            color:  #f1f1f1;\n",
              "        }#T_8bbff4ee_34f0_11eb_a6d6_0242ac1c0002row4_col5{\n",
              "            background-color:  #0a73b2;\n",
              "            color:  #f1f1f1;\n",
              "        }#T_8bbff4ee_34f0_11eb_a6d6_0242ac1c0002row5_col0{\n",
              "            background-color:  #f6eff7;\n",
              "            color:  #000000;\n",
              "        }#T_8bbff4ee_34f0_11eb_a6d6_0242ac1c0002row5_col1{\n",
              "            background-color:  #e4e1ef;\n",
              "            color:  #000000;\n",
              "        }#T_8bbff4ee_34f0_11eb_a6d6_0242ac1c0002row5_col2{\n",
              "            background-color:  #f4eef6;\n",
              "            color:  #000000;\n",
              "        }#T_8bbff4ee_34f0_11eb_a6d6_0242ac1c0002row5_col4{\n",
              "            background-color:  #f2ecf5;\n",
              "            color:  #000000;\n",
              "        }#T_8bbff4ee_34f0_11eb_a6d6_0242ac1c0002row5_col5{\n",
              "            background-color:  #2d8abd;\n",
              "            color:  #000000;\n",
              "        }</style><table id=\"T_8bbff4ee_34f0_11eb_a6d6_0242ac1c0002\" ><thead>    <tr>        <th class=\"blank level0\" ></th>        <th class=\"col_heading level0 col0\" >toxic</th>        <th class=\"col_heading level0 col1\" >severe_toxic</th>        <th class=\"col_heading level0 col2\" >obscene</th>        <th class=\"col_heading level0 col3\" >threat</th>        <th class=\"col_heading level0 col4\" >insult</th>        <th class=\"col_heading level0 col5\" >identity_hate</th>    </tr></thead><tbody>\n",
              "                <tr>\n",
              "                        <th id=\"T_8bbff4ee_34f0_11eb_a6d6_0242ac1c0002level0_row0\" class=\"row_heading level0 row0\" >toxic</th>\n",
              "                        <td id=\"T_8bbff4ee_34f0_11eb_a6d6_0242ac1c0002row0_col0\" class=\"data row0 col0\" >2411</td>\n",
              "                        <td id=\"T_8bbff4ee_34f0_11eb_a6d6_0242ac1c0002row0_col1\" class=\"data row0 col1\" >263</td>\n",
              "                        <td id=\"T_8bbff4ee_34f0_11eb_a6d6_0242ac1c0002row0_col2\" class=\"data row0 col2\" >1607</td>\n",
              "                        <td id=\"T_8bbff4ee_34f0_11eb_a6d6_0242ac1c0002row0_col3\" class=\"data row0 col3\" >101</td>\n",
              "                        <td id=\"T_8bbff4ee_34f0_11eb_a6d6_0242ac1c0002row0_col4\" class=\"data row0 col4\" >1638</td>\n",
              "                        <td id=\"T_8bbff4ee_34f0_11eb_a6d6_0242ac1c0002row0_col5\" class=\"data row0 col5\" >182</td>\n",
              "            </tr>\n",
              "            <tr>\n",
              "                        <th id=\"T_8bbff4ee_34f0_11eb_a6d6_0242ac1c0002level0_row1\" class=\"row_heading level0 row1\" >severe_toxic</th>\n",
              "                        <td id=\"T_8bbff4ee_34f0_11eb_a6d6_0242ac1c0002row1_col0\" class=\"data row1 col0\" >311</td>\n",
              "                        <td id=\"T_8bbff4ee_34f0_11eb_a6d6_0242ac1c0002row1_col1\" class=\"data row1 col1\" >137</td>\n",
              "                        <td id=\"T_8bbff4ee_34f0_11eb_a6d6_0242ac1c0002row1_col2\" class=\"data row1 col2\" >305</td>\n",
              "                        <td id=\"T_8bbff4ee_34f0_11eb_a6d6_0242ac1c0002row1_col3\" class=\"data row1 col3\" >35</td>\n",
              "                        <td id=\"T_8bbff4ee_34f0_11eb_a6d6_0242ac1c0002row1_col4\" class=\"data row1 col4\" >297</td>\n",
              "                        <td id=\"T_8bbff4ee_34f0_11eb_a6d6_0242ac1c0002row1_col5\" class=\"data row1 col5\" >49</td>\n",
              "            </tr>\n",
              "            <tr>\n",
              "                        <th id=\"T_8bbff4ee_34f0_11eb_a6d6_0242ac1c0002level0_row2\" class=\"row_heading level0 row2\" >obscene</th>\n",
              "                        <td id=\"T_8bbff4ee_34f0_11eb_a6d6_0242ac1c0002row2_col0\" class=\"data row2 col0\" >1559</td>\n",
              "                        <td id=\"T_8bbff4ee_34f0_11eb_a6d6_0242ac1c0002row2_col1\" class=\"data row2 col1\" >260</td>\n",
              "                        <td id=\"T_8bbff4ee_34f0_11eb_a6d6_0242ac1c0002row2_col2\" class=\"data row2 col2\" >1396</td>\n",
              "                        <td id=\"T_8bbff4ee_34f0_11eb_a6d6_0242ac1c0002row2_col3\" class=\"data row2 col3\" >63</td>\n",
              "                        <td id=\"T_8bbff4ee_34f0_11eb_a6d6_0242ac1c0002row2_col4\" class=\"data row2 col4\" >1243</td>\n",
              "                        <td id=\"T_8bbff4ee_34f0_11eb_a6d6_0242ac1c0002row2_col5\" class=\"data row2 col5\" >139</td>\n",
              "            </tr>\n",
              "            <tr>\n",
              "                        <th id=\"T_8bbff4ee_34f0_11eb_a6d6_0242ac1c0002level0_row3\" class=\"row_heading level0 row3\" >threat</th>\n",
              "                        <td id=\"T_8bbff4ee_34f0_11eb_a6d6_0242ac1c0002row3_col0\" class=\"data row3 col0\" >93</td>\n",
              "                        <td id=\"T_8bbff4ee_34f0_11eb_a6d6_0242ac1c0002row3_col1\" class=\"data row3 col1\" >22</td>\n",
              "                        <td id=\"T_8bbff4ee_34f0_11eb_a6d6_0242ac1c0002row3_col2\" class=\"data row3 col2\" >62</td>\n",
              "                        <td id=\"T_8bbff4ee_34f0_11eb_a6d6_0242ac1c0002row3_col3\" class=\"data row3 col3\" >52</td>\n",
              "                        <td id=\"T_8bbff4ee_34f0_11eb_a6d6_0242ac1c0002row3_col4\" class=\"data row3 col4\" >65</td>\n",
              "                        <td id=\"T_8bbff4ee_34f0_11eb_a6d6_0242ac1c0002row3_col5\" class=\"data row3 col5\" >7</td>\n",
              "            </tr>\n",
              "            <tr>\n",
              "                        <th id=\"T_8bbff4ee_34f0_11eb_a6d6_0242ac1c0002level0_row4\" class=\"row_heading level0 row4\" >insult</th>\n",
              "                        <td id=\"T_8bbff4ee_34f0_11eb_a6d6_0242ac1c0002row4_col0\" class=\"data row4 col0\" >1470</td>\n",
              "                        <td id=\"T_8bbff4ee_34f0_11eb_a6d6_0242ac1c0002row4_col1\" class=\"data row4 col1\" >237</td>\n",
              "                        <td id=\"T_8bbff4ee_34f0_11eb_a6d6_0242ac1c0002row4_col2\" class=\"data row4 col2\" >1134</td>\n",
              "                        <td id=\"T_8bbff4ee_34f0_11eb_a6d6_0242ac1c0002row4_col3\" class=\"data row4 col3\" >63</td>\n",
              "                        <td id=\"T_8bbff4ee_34f0_11eb_a6d6_0242ac1c0002row4_col4\" class=\"data row4 col4\" >1266</td>\n",
              "                        <td id=\"T_8bbff4ee_34f0_11eb_a6d6_0242ac1c0002row4_col5\" class=\"data row4 col5\" >136</td>\n",
              "            </tr>\n",
              "            <tr>\n",
              "                        <th id=\"T_8bbff4ee_34f0_11eb_a6d6_0242ac1c0002level0_row5\" class=\"row_heading level0 row5\" >identity_hate</th>\n",
              "                        <td id=\"T_8bbff4ee_34f0_11eb_a6d6_0242ac1c0002row5_col0\" class=\"data row5 col0\" >234</td>\n",
              "                        <td id=\"T_8bbff4ee_34f0_11eb_a6d6_0242ac1c0002row5_col1\" class=\"data row5 col1\" >61</td>\n",
              "                        <td id=\"T_8bbff4ee_34f0_11eb_a6d6_0242ac1c0002row5_col2\" class=\"data row5 col2\" >175</td>\n",
              "                        <td id=\"T_8bbff4ee_34f0_11eb_a6d6_0242ac1c0002row5_col3\" class=\"data row5 col3\" >21</td>\n",
              "                        <td id=\"T_8bbff4ee_34f0_11eb_a6d6_0242ac1c0002row5_col4\" class=\"data row5 col4\" >200</td>\n",
              "                        <td id=\"T_8bbff4ee_34f0_11eb_a6d6_0242ac1c0002row5_col5\" class=\"data row5 col5\" >120</td>\n",
              "            </tr>\n",
              "    </tbody></table>"
            ],
            "text/plain": [
              "<pandas.io.formats.style.Styler at 0x7f7c78078438>"
            ]
          },
          "metadata": {
            "tags": []
          },
          "execution_count": 60
        }
      ]
    },
    {
      "cell_type": "markdown",
      "metadata": {
        "id": "PWFd18u3zlF8"
      },
      "source": [
        "# Optimize Micro and Macro F-1 score"
      ]
    },
    {
      "cell_type": "code",
      "metadata": {
        "id": "PHlhb2lvar8V",
        "colab": {
          "base_uri": "https://localhost:8080/"
        },
        "outputId": "7d5564f4-9117-4605-9665-d36fccc9d284"
      },
      "source": [
        " # Calculate Accuracy - maximize F1 accuracy by tuning threshold values.\n",
        "# First with 'macro_thresholds' on the order of e^-1\n",
        "# then with 'micro_thresholds' on the order of e^-2\n",
        "\n",
        "macro_thresholds = np.array(range(1,10))/10\n",
        "\n",
        "f1_results, flat_acc_results = [], []\n",
        "for th in macro_thresholds:\n",
        "  pred_bools = [pl>th for pl in pred_labels]\n",
        "  test_f1_accuracy   = f1_score(true_bools,pred_bools,average='micro')\n",
        "  test_flat_accuracy = accuracy_score(true_bools, pred_bools)\n",
        "  f1_results.append(test_f1_accuracy)\n",
        "  flat_acc_results.append(test_flat_accuracy)\n",
        "\n",
        "\n",
        "best_f1_idx     = np.argmax(f1_results) \n",
        "best_macro_th   = macro_thresholds[np.argmax(f1_results)]\n",
        "best_pred_bools = [pl>macro_thresholds[best_f1_idx] for pl in pred_labels]\n",
        "\n",
        "r = classification_report(true_bools,best_pred_bools,\n",
        "                            target_names=cols_label)\n",
        "\n",
        "print(f'Best Threshold     : {macro_thresholds[best_f1_idx]:}')\n",
        "print(f'Test F1 Accuracy   : {f1_results[best_f1_idx]:.4f}')\n",
        "print(f'Test Flat Accuracy : {flat_acc_results[best_f1_idx]:.4f}')\n",
        "print(r)"
      ],
      "execution_count": null,
      "outputs": [
        {
          "output_type": "stream",
          "text": [
            "Best Threshold     : 0.4\n",
            "Test F1 Accuracy   : 0.7802\n",
            "Test Flat Accuracy : 0.9232\n",
            "               precision    recall  f1-score   support\n",
            "\n",
            "        toxic       0.84      0.80      0.82      3092\n",
            " severe_toxic       0.48      0.56      0.52       313\n",
            "      obscene       0.79      0.86      0.83      1667\n",
            "       threat       0.49      0.56      0.52        99\n",
            "       insult       0.71      0.83      0.77      1585\n",
            "identity_hate       0.60      0.46      0.52       269\n",
            "\n",
            "    micro avg       0.76      0.80      0.78      7025\n",
            "    macro avg       0.65      0.68      0.66      7025\n",
            " weighted avg       0.77      0.80      0.78      7025\n",
            "  samples avg       0.07      0.07      0.07      7025\n",
            "\n"
          ],
          "name": "stdout"
        },
        {
          "output_type": "stream",
          "text": [
            "/usr/local/lib/python3.6/dist-packages/sklearn/metrics/_classification.py:1272: UndefinedMetricWarning: Precision and F-score are ill-defined and being set to 0.0 in samples with no predicted labels. Use `zero_division` parameter to control this behavior.\n",
            "  _warn_prf(average, modifier, msg_start, len(result))\n",
            "/usr/local/lib/python3.6/dist-packages/sklearn/metrics/_classification.py:1272: UndefinedMetricWarning: Recall and F-score are ill-defined and being set to 0.0 in samples with no true labels. Use `zero_division` parameter to control this behavior.\n",
            "  _warn_prf(average, modifier, msg_start, len(result))\n"
          ],
          "name": "stderr"
        }
      ]
    },
    {
      "cell_type": "code",
      "metadata": {
        "colab": {
          "base_uri": "https://localhost:8080/"
        },
        "id": "wxk4RWjBVqUW",
        "outputId": "970e0766-dba6-4bc6-a225-2494f73872bb"
      },
      "source": [
        "# F1 micro thresholds\n",
        "micro_thresholds = (np.array(range(10))/100)+best_macro_th\n",
        "\n",
        "f1_results, flat_acc_results = [], []\n",
        "for th in micro_thresholds:\n",
        "  pred_bools = [pl>th for pl in pred_labels]\n",
        "  test_f1_accuracy = f1_score(true_bools,pred_bools,average='micro')\n",
        "  test_flat_accuracy = accuracy_score(true_bools, pred_bools)\n",
        "  f1_results.append(test_f1_accuracy)\n",
        "  flat_acc_results.append(test_flat_accuracy)\n",
        "\n",
        "best_f1_idx     = np.argmax(f1_results)\n",
        "best_pred_bools = [pl>micro_thresholds[best_f1_idx] for pl in pred_labels]\n",
        "r               = classification_report(true_bools,best_pred_bools,\n",
        "                                            target_names=cols_label)\n",
        "\n",
        "\n",
        "print(f'Best Threshold     : {micro_thresholds[best_f1_idx]:}')\n",
        "print(f'Test F1 Accuracy   : {f1_results[best_f1_idx]:.4f}')\n",
        "print(f'Test Flat Accuracy : {flat_acc_results[best_f1_idx]:.4f}')\n",
        "print(r)"
      ],
      "execution_count": null,
      "outputs": [
        {
          "output_type": "stream",
          "text": [
            "Best Threshold     : 0.41000000000000003\n",
            "Test F1 Accuracy   : 0.7806\n",
            "Test Flat Accuracy : 0.9234\n",
            "               precision    recall  f1-score   support\n",
            "\n",
            "        toxic       0.84      0.80      0.82      3092\n",
            " severe_toxic       0.48      0.56      0.52       313\n",
            "      obscene       0.80      0.86      0.83      1667\n",
            "       threat       0.50      0.56      0.52        99\n",
            "       insult       0.71      0.83      0.77      1585\n",
            "identity_hate       0.60      0.46      0.52       269\n",
            "\n",
            "    micro avg       0.77      0.79      0.78      7025\n",
            "    macro avg       0.66      0.68      0.66      7025\n",
            " weighted avg       0.77      0.79      0.78      7025\n",
            "  samples avg       0.07      0.07      0.07      7025\n",
            "\n"
          ],
          "name": "stdout"
        },
        {
          "output_type": "stream",
          "text": [
            "/usr/local/lib/python3.6/dist-packages/sklearn/metrics/_classification.py:1272: UndefinedMetricWarning: Precision and F-score are ill-defined and being set to 0.0 in samples with no predicted labels. Use `zero_division` parameter to control this behavior.\n",
            "  _warn_prf(average, modifier, msg_start, len(result))\n",
            "/usr/local/lib/python3.6/dist-packages/sklearn/metrics/_classification.py:1272: UndefinedMetricWarning: Recall and F-score are ill-defined and being set to 0.0 in samples with no true labels. Use `zero_division` parameter to control this behavior.\n",
            "  _warn_prf(average, modifier, msg_start, len(result))\n"
          ],
          "name": "stderr"
        }
      ]
    },
    {
      "cell_type": "markdown",
      "metadata": {
        "id": "oBg6UCYAYtIe"
      },
      "source": [
        "# Time Taken"
      ]
    },
    {
      "cell_type": "code",
      "metadata": {
        "colab": {
          "base_uri": "https://localhost:8080/"
        },
        "id": "VGBSQZ7JYXhx",
        "outputId": "ddcd8b12-52b1-40e8-dfc8-1df6496bfac1"
      },
      "source": [
        "time_taken = time.time() - time_start_notebook\n",
        "h,m = divmod(time_taken,60*60)\n",
        "print('Time taken to run whole notebook: {:.0f} hr '\\\n",
        "      '{:.0f} min {:.0f} secs'.format(h, *divmod(m,60)))\n",
        "\n",
        "# Time taken to run whole notebook: 1 hr 10 min 31 secs"
      ],
      "execution_count": null,
      "outputs": [
        {
          "output_type": "stream",
          "text": [
            "Time taken to run whole notebook: 1 hr 10 min 31 secs\n"
          ],
          "name": "stdout"
        }
      ]
    }
  ]
}