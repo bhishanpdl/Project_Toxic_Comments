{
 "cells": [
  {
   "cell_type": "markdown",
   "metadata": {
    "toc": true
   },
   "source": [
    "<h1>Table of Contents<span class=\"tocSkip\"></span></h1>\n",
    "<div class=\"toc\"><ul class=\"toc-item\"><li><span><a href=\"#Introduction\" data-toc-modified-id=\"Introduction-1\"><span class=\"toc-item-num\">1&nbsp;&nbsp;</span>Introduction</a></span></li><li><span><a href=\"#Imports\" data-toc-modified-id=\"Imports-2\"><span class=\"toc-item-num\">2&nbsp;&nbsp;</span>Imports</a></span><ul class=\"toc-item\"><li><span><a href=\"#Google-Colab\" data-toc-modified-id=\"Google-Colab-2.1\"><span class=\"toc-item-num\">2.1&nbsp;&nbsp;</span>Google Colab</a></span></li></ul></li><li><span><a href=\"#Load-the-Data\" data-toc-modified-id=\"Load-the-Data-3\"><span class=\"toc-item-num\">3&nbsp;&nbsp;</span>Load the Data</a></span></li><li><span><a href=\"#Class-distribution\" data-toc-modified-id=\"Class-distribution-4\"><span class=\"toc-item-num\">4&nbsp;&nbsp;</span>Class distribution</a></span></li><li><span><a href=\"#Text-Preparation-for-Spacy\" data-toc-modified-id=\"Text-Preparation-for-Spacy-5\"><span class=\"toc-item-num\">5&nbsp;&nbsp;</span>Text Preparation for Spacy</a></span></li><li><span><a href=\"#Classifying-text-into-categories-using-Spacy\" data-toc-modified-id=\"Classifying-text-into-categories-using-Spacy-6\"><span class=\"toc-item-num\">6&nbsp;&nbsp;</span>Classifying text into categories using Spacy</a></span></li><li><span><a href=\"#Named-Entity-Recognition\" data-toc-modified-id=\"Named-Entity-Recognition-7\"><span class=\"toc-item-num\">7&nbsp;&nbsp;</span>Named Entity Recognition</a></span></li><li><span><a href=\"#Chunking\" data-toc-modified-id=\"Chunking-8\"><span class=\"toc-item-num\">8&nbsp;&nbsp;</span>Chunking</a></span></li><li><span><a href=\"#Dependency-Parsing\" data-toc-modified-id=\"Dependency-Parsing-9\"><span class=\"toc-item-num\">9&nbsp;&nbsp;</span>Dependency Parsing</a></span></li><li><span><a href=\"#Verb-Phrase-Detection\" data-toc-modified-id=\"Verb-Phrase-Detection-10\"><span class=\"toc-item-num\">10&nbsp;&nbsp;</span>Verb Phrase Detection</a></span></li><li><span><a href=\"#Rule-Based-Matching-Using-spaCy\" data-toc-modified-id=\"Rule-Based-Matching-Using-spaCy-11\"><span class=\"toc-item-num\">11&nbsp;&nbsp;</span>Rule-Based Matching Using spaCy</a></span></li><li><span><a href=\"#Word-vectors-and-similarity\" data-toc-modified-id=\"Word-vectors-and-similarity-12\"><span class=\"toc-item-num\">12&nbsp;&nbsp;</span>Word vectors and similarity</a></span></li><li><span><a href=\"#Pipeline-components\" data-toc-modified-id=\"Pipeline-components-13\"><span class=\"toc-item-num\">13&nbsp;&nbsp;</span>Pipeline components</a></span></li><li><span><a href=\"#Time-Taken\" data-toc-modified-id=\"Time-Taken-14\"><span class=\"toc-item-num\">14&nbsp;&nbsp;</span>Time Taken</a></span></li></ul></div>"
   ]
  },
  {
   "cell_type": "markdown",
   "metadata": {},
   "source": [
    "<div class=\"alert alert-block alert-success\">\n",
    "<b>Kernel Author:</b>  <br>\n",
    "<a href=\"https://bhishanpdl.github.io/\" , target=\"_blank\">Bhishan Poudel,  Data Scientist, Ph.D Astrophysics</a> .\n",
    "</div>"
   ]
  },
  {
   "cell_type": "markdown",
   "metadata": {
    "colab_type": "text",
    "id": "cLqGAQYjw_0x"
   },
   "source": [
    "# Introduction\n",
    "[Data Description](https://www.kaggle.com/c/jigsaw-toxic-comment-classification-challenge/data)\n",
    "\n",
    "\n",
    "You are provided with a large number of Wikipedia comments which have been labeled by human raters for toxic behavior. The types of toxicity are:\n",
    "```\n",
    "toxic\n",
    "severe_toxic\n",
    "obscene\n",
    "threat\n",
    "insult\n",
    "identity_hate\n",
    "```\n",
    "You must create a model which predicts a probability of each type of toxicity for each comment.\n",
    "\n",
    "\n",
    "References:\n",
    "- https://spacy.io/usage\n",
    "\n",
    "```python\n",
    "pip install -U pip setuptools wheel\n",
    "pip install -U spacy\n",
    "python -m spacy download en_core_web_sm\n",
    "```"
   ]
  },
  {
   "cell_type": "markdown",
   "metadata": {
    "colab_type": "text",
    "id": "hz_92TLlxCsY"
   },
   "source": [
    "# Imports"
   ]
  },
  {
   "cell_type": "code",
   "execution_count": 1,
   "metadata": {
    "ExecuteTime": {
     "end_time": "2021-09-03T17:14:54.150687Z",
     "start_time": "2021-09-03T17:14:54.147371Z"
    }
   },
   "outputs": [],
   "source": [
    "import time\n",
    "\n",
    "time_start_notebook = time.time()"
   ]
  },
  {
   "cell_type": "markdown",
   "metadata": {
    "colab": {
     "base_uri": "https://localhost:8080/",
     "height": 123
    },
    "colab_type": "code",
    "id": "rrX8JS1Dx5aS",
    "outputId": "06312140-ed44-485e-e2b2-5d4f202cc1a3"
   },
   "source": [
    "## Google Colab"
   ]
  },
  {
   "cell_type": "code",
   "execution_count": 2,
   "metadata": {
    "ExecuteTime": {
     "end_time": "2021-09-03T17:14:54.166136Z",
     "start_time": "2021-09-03T17:14:54.154729Z"
    },
    "colab": {
     "base_uri": "https://localhost:8080/",
     "height": 605
    },
    "colab_type": "code",
    "id": "UPNaf1UuvpFd",
    "outputId": "e26d9ea9-dbe8-438a-9cd2-bfd678e7f2e4"
   },
   "outputs": [],
   "source": [
    "%%capture\n",
    "ENV_BHISHAN = None\n",
    "\n",
    "try:\n",
    "    import bhishan\n",
    "    ENV_BHISHAN = True\n",
    "    print(\"Environment: Bhishan's Laptop\")\n",
    "except:\n",
    "    pass\n",
    "\n",
    "\n",
    "import sys\n",
    "ENV_COLAB = 'google.colab' in sys.modules\n",
    "\n",
    "if ENV_COLAB:\n",
    "    # load google drive\n",
    "    # from google.colab import drive\n",
    "    # drive.mount('/content/drive')\n",
    "    # dat_dir = 'drive/My Drive/Colab Notebooks/data/' \n",
    "    # sys.path.append(dat_dir)\n",
    "    \n",
    "    # pip install\n",
    "    #!pip install pyldavis\n",
    "    #!pip install hyperopt\n",
    "    # !pip install catboost\n",
    "    #!pip install shap\n",
    "    #!pip install eli5\n",
    "    #!pip install lime\n",
    "    # !pip install category_encoders # TargetEncoder\n",
    "    # !pip install loguru\n",
    "\n",
    "    # nlp\n",
    "    !pip install textacy\n",
    "    !python -m spacy download en_core_web_sm # nlp = spacy.load(\"en_core_web_sm\")\n",
    "\n",
    "    # update modules\n",
    "    # !pip install -U pandas\n",
    "    # !pip install -U scikit-learn\n",
    "    # !pip install -U tqdm # tqdm needs restart run time.\n",
    "\n",
    "    # print\n",
    "    print('Environment: Google Colaboratory.')"
   ]
  },
  {
   "cell_type": "code",
   "execution_count": 3,
   "metadata": {
    "ExecuteTime": {
     "end_time": "2021-09-03T17:14:57.056082Z",
     "start_time": "2021-09-03T17:14:54.169908Z"
    },
    "colab": {
     "base_uri": "https://localhost:8080/",
     "height": 34
    },
    "colab_type": "code",
    "id": "5Hy6h3oeN3uV",
    "outputId": "83319057-f483-4041-acf8-e5e24d942412"
   },
   "outputs": [
    {
     "name": "stderr",
     "output_type": "stream",
     "text": [
      "[nltk_data] Downloading package stopwords to\n",
      "[nltk_data]     /Users/poudel/nltk_data...\n",
      "[nltk_data]   Package stopwords is already up-to-date!\n",
      "[nltk_data] Downloading package wordnet to /Users/poudel/nltk_data...\n",
      "[nltk_data]   Package wordnet is already up-to-date!\n",
      "[nltk_data] Downloading package punkt to /Users/poudel/nltk_data...\n",
      "[nltk_data]   Package punkt is already up-to-date!\n"
     ]
    },
    {
     "name": "stdout",
     "output_type": "stream",
     "text": [
      "Author: Bhishan Poudel\n",
      "\n",
      "Python implementation: CPython\n",
      "Python version       : 3.7.9\n",
      "IPython version      : 7.19.0\n",
      "\n",
      "Compiler    : Clang 10.0.0 \n",
      "OS          : Darwin\n",
      "Release     : 19.6.0\n",
      "Machine     : x86_64\n",
      "Processor   : i386\n",
      "CPU cores   : 4\n",
      "Architecture: 64bit\n",
      "\n",
      "\n",
      "seaborn       : 0.11.0\n",
      "nltk          : 3.5\n",
      "en_core_web_sm: 3.1.0\n",
      "scipy         : 1.2.1\n",
      "IPython       : 7.19.0\n",
      "sys           : 3.7.9 (default, Aug 31 2020, 07:22:35) \n",
      "[Clang 10.0.0 ]\n",
      "pandas        : 1.1.4\n",
      "matplotlib    : 3.2.2\n",
      "re            : 2.2.1\n",
      "spacy         : 3.1.2\n",
      "numpy         : 1.19.4\n",
      "\n"
     ]
    }
   ],
   "source": [
    "import numpy as np\n",
    "import pandas as pd\n",
    "import seaborn as sns\n",
    "sns.set(color_codes=True)\n",
    "\n",
    "import matplotlib\n",
    "import matplotlib.pyplot as plt\n",
    "%matplotlib inline\n",
    "%config InlineBackend.figure_format = 'retina'\n",
    "sns.set(context='notebook', style='whitegrid', rc={'figure.figsize': (12,8)})\n",
    "plt.style.use('ggplot') # better than sns styles.\n",
    "matplotlib.rcParams['figure.figsize'] = 12,8\n",
    "\n",
    "import os\n",
    "import time\n",
    "\n",
    "# random state\n",
    "SEED=100\n",
    "np.random.seed(SEED)\n",
    "\n",
    "# Jupyter notebook settings for pandas\n",
    "#pd.set_option('display.float_format', '{:,.2g}'.format) # numbers sep by comma\n",
    "from pandas.api.types import CategoricalDtype\n",
    "np.set_printoptions(precision=3)\n",
    "pd.set_option('display.max_columns', 100)\n",
    "pd.set_option('display.max_rows', 100) # None for all the rows\n",
    "pd.set_option('display.max_colwidth', 500)\n",
    "\n",
    "import IPython\n",
    "from IPython.display import display, HTML, Image, Markdown\n",
    "\n",
    "import re\n",
    "import string # string.punctuation\n",
    "from string import digits\n",
    "\n",
    "import nltk\n",
    "from nltk import word_tokenize\n",
    "from nltk.stem import WordNetLemmatizer\n",
    "\n",
    "nltk.download('stopwords')\n",
    "nltk.download('wordnet')\n",
    "nltk.download('punkt')\n",
    "\n",
    "from nltk.corpus import stopwords\n",
    "stop_words = stopwords.words('english')\n",
    "\n",
    "import scipy\n",
    "\n",
    "# pipeline\n",
    "from sklearn.pipeline import Pipeline, make_pipeline, FeatureUnion\n",
    "from sklearn.base import BaseEstimator, ClassifierMixin\n",
    "\n",
    "# text features\n",
    "from sklearn.feature_extraction.text import TfidfVectorizer\n",
    "\n",
    "# classifiers\n",
    "from sklearn.linear_model import LogisticRegression\n",
    "\n",
    "# model selection\n",
    "from sklearn.model_selection import cross_val_score, GridSearchCV, RandomizedSearchCV\n",
    "from sklearn.metrics import roc_auc_score\n",
    "\n",
    "# text processing\n",
    "import spacy\n",
    "import en_core_web_sm\n",
    "\n",
    "%load_ext watermark\n",
    "%watermark -a \"Bhishan Poudel\" -d -v -m\n",
    "print()\n",
    "%watermark -iv"
   ]
  },
  {
   "cell_type": "code",
   "execution_count": 4,
   "metadata": {
    "ExecuteTime": {
     "end_time": "2021-09-03T17:14:57.851986Z",
     "start_time": "2021-09-03T17:14:57.059253Z"
    },
    "colab": {},
    "colab_type": "code",
    "id": "ZWwnmdDd-_Wz"
   },
   "outputs": [],
   "source": [
    "# my local library\n",
    "import sys, os\n",
    "sys.path.append(os.path.expanduser(\"~/Dropbox/a00_Bhishan_Modules/bhishan\"))\n",
    "import bhishan\n",
    "from bhishan import bp"
   ]
  },
  {
   "cell_type": "markdown",
   "metadata": {
    "colab_type": "text",
    "id": "v7k21erixFaY"
   },
   "source": [
    "# Load the Data"
   ]
  },
  {
   "cell_type": "code",
   "execution_count": 5,
   "metadata": {
    "ExecuteTime": {
     "end_time": "2021-09-03T17:14:58.824830Z",
     "start_time": "2021-09-03T17:14:57.853912Z"
    },
    "colab": {
     "base_uri": "https://localhost:8080/",
     "height": 465
    },
    "colab_type": "code",
    "id": "uCdh_yNNOTCi",
    "outputId": "dc4cae2c-0ec9-4a9c-966f-4212281a40bb"
   },
   "outputs": [
    {
     "name": "stdout",
     "output_type": "stream",
     "text": [
      "(127656, 8)\n"
     ]
    },
    {
     "data": {
      "text/html": [
       "<div>\n",
       "<style scoped>\n",
       "    .dataframe tbody tr th:only-of-type {\n",
       "        vertical-align: middle;\n",
       "    }\n",
       "\n",
       "    .dataframe tbody tr th {\n",
       "        vertical-align: top;\n",
       "    }\n",
       "\n",
       "    .dataframe thead th {\n",
       "        text-align: right;\n",
       "    }\n",
       "</style>\n",
       "<table border=\"1\" class=\"dataframe\">\n",
       "  <thead>\n",
       "    <tr style=\"text-align: right;\">\n",
       "      <th></th>\n",
       "      <th>id</th>\n",
       "      <th>comment_text</th>\n",
       "      <th>toxic</th>\n",
       "      <th>severe_toxic</th>\n",
       "      <th>obscene</th>\n",
       "      <th>threat</th>\n",
       "      <th>insult</th>\n",
       "      <th>identity_hate</th>\n",
       "    </tr>\n",
       "  </thead>\n",
       "  <tbody>\n",
       "    <tr>\n",
       "      <th>0</th>\n",
       "      <td>8d603d50affa1126</td>\n",
       "      <td>\"\\nYes, aside, thank you for trying to answer the block-related concerns. I will accept your stated goal, \"\"to answer your questions, to help clear up points of confusion\"\", as answer to my #1 above and my italicized rephrasal (i.e., the negotiation of our communicative relationship). I only ask that if you should for any reason decide to assume bad faith with me, please have the courtesy of quoting (not linking) a significant clause or sentence (not title) of a policy. Thank you. I also acc...</td>\n",
       "      <td>0</td>\n",
       "      <td>0</td>\n",
       "      <td>0</td>\n",
       "      <td>0</td>\n",
       "      <td>0</td>\n",
       "      <td>0</td>\n",
       "    </tr>\n",
       "    <tr>\n",
       "      <th>1</th>\n",
       "      <td>8fb3576937b9e0d0</td>\n",
       "      <td>March 2010 (UTC)\\n\\nThanks! and understood about the Wproject tags. Any advice on how to better the format of the references?  I am not quite au fait with this although I have done some referencing in the past.  Can you beautify them or advise me?    (talk) 23:43, 24</td>\n",
       "      <td>0</td>\n",
       "      <td>0</td>\n",
       "      <td>0</td>\n",
       "      <td>0</td>\n",
       "      <td>0</td>\n",
       "      <td>0</td>\n",
       "    </tr>\n",
       "    <tr>\n",
       "      <th>2</th>\n",
       "      <td>379440e04fb68e27</td>\n",
       "      <td>\"\\n\\n The Outfield \\n\\nHahaha - compassion is vested considering the er...kind endowment by Kylu emblazoning your page my friend. I will recommend a few songs and two albums; Play Deep and Rockeye being the latter. Both are fairly accomplished works and prove quite fresh even today: Songs wise I can certainly recommend \"\"Your Love\"\", \"\"Say It isn't so\"\", also \"\"Winning it all\"\", \"\"Closer to me\"\" with \"\"Tonight your mine\"\". Also - welcome to Wikipedia! We do not get many persons from Cuba her...</td>\n",
       "      <td>0</td>\n",
       "      <td>0</td>\n",
       "      <td>0</td>\n",
       "      <td>0</td>\n",
       "      <td>0</td>\n",
       "      <td>0</td>\n",
       "    </tr>\n",
       "    <tr>\n",
       "      <th>3</th>\n",
       "      <td>6be4446aac8ae028</td>\n",
       "      <td>Opposition is a source of strength. I believe al-Sistani said that...</td>\n",
       "      <td>0</td>\n",
       "      <td>0</td>\n",
       "      <td>0</td>\n",
       "      <td>0</td>\n",
       "      <td>0</td>\n",
       "      <td>0</td>\n",
       "    </tr>\n",
       "    <tr>\n",
       "      <th>4</th>\n",
       "      <td>1a2ff7ed958506a3</td>\n",
       "      <td>Please discontinue making those unsupported changes to the T line and the subway car rosters.  All you will accomplish is seeing your chagges reveretd back to the previous correct version.\\n\\nIf you have confirmable doucmentation, supply it.</td>\n",
       "      <td>0</td>\n",
       "      <td>0</td>\n",
       "      <td>0</td>\n",
       "      <td>0</td>\n",
       "      <td>0</td>\n",
       "      <td>0</td>\n",
       "    </tr>\n",
       "  </tbody>\n",
       "</table>\n",
       "</div>"
      ],
      "text/plain": [
       "                 id  \\\n",
       "0  8d603d50affa1126   \n",
       "1  8fb3576937b9e0d0   \n",
       "2  379440e04fb68e27   \n",
       "3  6be4446aac8ae028   \n",
       "4  1a2ff7ed958506a3   \n",
       "\n",
       "                                                                                                                                                                                                                                                                                                                                                                                                                                                                                                          comment_text  \\\n",
       "0  \"\\nYes, aside, thank you for trying to answer the block-related concerns. I will accept your stated goal, \"\"to answer your questions, to help clear up points of confusion\"\", as answer to my #1 above and my italicized rephrasal (i.e., the negotiation of our communicative relationship). I only ask that if you should for any reason decide to assume bad faith with me, please have the courtesy of quoting (not linking) a significant clause or sentence (not title) of a policy. Thank you. I also acc...   \n",
       "1                                                                                                                                                                                                                                          March 2010 (UTC)\\n\\nThanks! and understood about the Wproject tags. Any advice on how to better the format of the references?  I am not quite au fait with this although I have done some referencing in the past.  Can you beautify them or advise me?    (talk) 23:43, 24   \n",
       "2  \"\\n\\n The Outfield \\n\\nHahaha - compassion is vested considering the er...kind endowment by Kylu emblazoning your page my friend. I will recommend a few songs and two albums; Play Deep and Rockeye being the latter. Both are fairly accomplished works and prove quite fresh even today: Songs wise I can certainly recommend \"\"Your Love\"\", \"\"Say It isn't so\"\", also \"\"Winning it all\"\", \"\"Closer to me\"\" with \"\"Tonight your mine\"\". Also - welcome to Wikipedia! We do not get many persons from Cuba her...   \n",
       "3                                                                                                                                                                                                                                                                                                                                                                                                                                                Opposition is a source of strength. I believe al-Sistani said that...   \n",
       "4                                                                                                                                                                                                                                                                    Please discontinue making those unsupported changes to the T line and the subway car rosters.  All you will accomplish is seeing your chagges reveretd back to the previous correct version.\\n\\nIf you have confirmable doucmentation, supply it.   \n",
       "\n",
       "   toxic  severe_toxic  obscene  threat  insult  identity_hate  \n",
       "0      0             0        0       0       0              0  \n",
       "1      0             0        0       0       0              0  \n",
       "2      0             0        0       0       0              0  \n",
       "3      0             0        0       0       0              0  \n",
       "4      0             0        0       0       0              0  "
      ]
     },
     "execution_count": 5,
     "metadata": {},
     "output_type": "execute_result"
    }
   ],
   "source": [
    "ifile1_train = '../data/raw/train.csv.zip'\n",
    "ifile2_train = 'https://github.com/bhishanpdl/Project_Toxic_Comments/blob/master/data/raw/train.csv?raw=true'\n",
    "\n",
    "ifile1_test = '../data/raw/test.csv.zip'\n",
    "ifile2_test = 'https://github.com/bhishanpdl/Project_Toxic_Comments/blob/master/data/raw/test.csv?raw=true'\n",
    "\n",
    "\n",
    "if ENV_COLAB:\n",
    "    df_raw_train = pd.read_csv(ifile2_train)\n",
    "    df_raw_test = pd.read_csv(ifile2_test)\n",
    "else:\n",
    "    df_raw_train = pd.read_csv(ifile1_train)\n",
    "    df_raw_test = pd.read_csv(ifile1_test)\n",
    "\n",
    "df_train = df_raw_train.copy()\n",
    "df_test = df_raw_test.copy()\n",
    "\n",
    "print(df_train.shape)\n",
    "df_train.head()"
   ]
  },
  {
   "cell_type": "code",
   "execution_count": 6,
   "metadata": {
    "ExecuteTime": {
     "end_time": "2021-09-03T17:14:58.839492Z",
     "start_time": "2021-09-03T17:14:58.827963Z"
    },
    "colab": {
     "base_uri": "https://localhost:8080/",
     "height": 265
    },
    "colab_type": "code",
    "id": "1DqDPeNh2lxK",
    "outputId": "548c9bb2-1b8e-4786-9ecb-153057908d51"
   },
   "outputs": [
    {
     "name": "stdout",
     "output_type": "stream",
     "text": [
      "(31915, 8)\n"
     ]
    },
    {
     "data": {
      "text/html": [
       "<div>\n",
       "<style scoped>\n",
       "    .dataframe tbody tr th:only-of-type {\n",
       "        vertical-align: middle;\n",
       "    }\n",
       "\n",
       "    .dataframe tbody tr th {\n",
       "        vertical-align: top;\n",
       "    }\n",
       "\n",
       "    .dataframe thead th {\n",
       "        text-align: right;\n",
       "    }\n",
       "</style>\n",
       "<table border=\"1\" class=\"dataframe\">\n",
       "  <thead>\n",
       "    <tr style=\"text-align: right;\">\n",
       "      <th></th>\n",
       "      <th>id</th>\n",
       "      <th>comment_text</th>\n",
       "      <th>toxic</th>\n",
       "      <th>severe_toxic</th>\n",
       "      <th>obscene</th>\n",
       "      <th>threat</th>\n",
       "      <th>insult</th>\n",
       "      <th>identity_hate</th>\n",
       "    </tr>\n",
       "  </thead>\n",
       "  <tbody>\n",
       "    <tr>\n",
       "      <th>0</th>\n",
       "      <td>70bbc3e96dd459b1</td>\n",
       "      <td>Hammed it is, cheers!</td>\n",
       "      <td>0</td>\n",
       "      <td>0</td>\n",
       "      <td>0</td>\n",
       "      <td>0</td>\n",
       "      <td>0</td>\n",
       "      <td>0</td>\n",
       "    </tr>\n",
       "    <tr>\n",
       "      <th>1</th>\n",
       "      <td>0b2e86f819b4b9a4</td>\n",
       "      <td>Not a problem, sorry for the inconvenience and thank you for the notification and correction.</td>\n",
       "      <td>0</td>\n",
       "      <td>0</td>\n",
       "      <td>0</td>\n",
       "      <td>0</td>\n",
       "      <td>0</td>\n",
       "      <td>0</td>\n",
       "    </tr>\n",
       "    <tr>\n",
       "      <th>2</th>\n",
       "      <td>fb7a63a8e287b2d1</td>\n",
       "      <td>Sources for Gambia at the 2000 Summer Olympics (\\nHello, good work on Gambia at the 2000 Summer Olympics (, and thanks for the contribution. However, you forgot to add any references to the article. Keeping Wikipedia accurate and verifiable is very important, and there is currently a push to encourage editors to cite the sources they used when adding content. What websites, books, or other places did you learn the information that you added to Gambia at the 2000 Summer Olympics (? Would it b...</td>\n",
       "      <td>0</td>\n",
       "      <td>0</td>\n",
       "      <td>0</td>\n",
       "      <td>0</td>\n",
       "      <td>0</td>\n",
       "      <td>0</td>\n",
       "    </tr>\n",
       "    <tr>\n",
       "      <th>3</th>\n",
       "      <td>72beff75685cb8dc</td>\n",
       "      <td>Added some criticism \\n\\nI added some much needed criticism.</td>\n",
       "      <td>0</td>\n",
       "      <td>0</td>\n",
       "      <td>0</td>\n",
       "      <td>0</td>\n",
       "      <td>0</td>\n",
       "      <td>0</td>\n",
       "    </tr>\n",
       "    <tr>\n",
       "      <th>4</th>\n",
       "      <td>f7c526a05d03f697</td>\n",
       "      <td>Who cares? It's just a song, it's a great song, but it's still just a song.</td>\n",
       "      <td>0</td>\n",
       "      <td>0</td>\n",
       "      <td>0</td>\n",
       "      <td>0</td>\n",
       "      <td>0</td>\n",
       "      <td>0</td>\n",
       "    </tr>\n",
       "  </tbody>\n",
       "</table>\n",
       "</div>"
      ],
      "text/plain": [
       "                 id  \\\n",
       "0  70bbc3e96dd459b1   \n",
       "1  0b2e86f819b4b9a4   \n",
       "2  fb7a63a8e287b2d1   \n",
       "3  72beff75685cb8dc   \n",
       "4  f7c526a05d03f697   \n",
       "\n",
       "                                                                                                                                                                                                                                                                                                                                                                                                                                                                                                          comment_text  \\\n",
       "0                                                                                                                                                                                                                                                                                                                                                                                                                                                                                                Hammed it is, cheers!   \n",
       "1                                                                                                                                                                                                                                                                                                                                                                                                                        Not a problem, sorry for the inconvenience and thank you for the notification and correction.   \n",
       "2  Sources for Gambia at the 2000 Summer Olympics (\\nHello, good work on Gambia at the 2000 Summer Olympics (, and thanks for the contribution. However, you forgot to add any references to the article. Keeping Wikipedia accurate and verifiable is very important, and there is currently a push to encourage editors to cite the sources they used when adding content. What websites, books, or other places did you learn the information that you added to Gambia at the 2000 Summer Olympics (? Would it b...   \n",
       "3                                                                                                                                                                                                                                                                                                                                                                                                                                                         Added some criticism \\n\\nI added some much needed criticism.   \n",
       "4                                                                                                                                                                                                                                                                                                                                                                                                                                          Who cares? It's just a song, it's a great song, but it's still just a song.   \n",
       "\n",
       "   toxic  severe_toxic  obscene  threat  insult  identity_hate  \n",
       "0      0             0        0       0       0              0  \n",
       "1      0             0        0       0       0              0  \n",
       "2      0             0        0       0       0              0  \n",
       "3      0             0        0       0       0              0  \n",
       "4      0             0        0       0       0              0  "
      ]
     },
     "execution_count": 6,
     "metadata": {},
     "output_type": "execute_result"
    }
   ],
   "source": [
    "print(df_test.shape)\n",
    "df_test.head()"
   ]
  },
  {
   "cell_type": "code",
   "execution_count": 7,
   "metadata": {
    "ExecuteTime": {
     "end_time": "2021-09-03T17:14:58.884174Z",
     "start_time": "2021-09-03T17:14:58.843714Z"
    },
    "colab": {
     "base_uri": "https://localhost:8080/",
     "height": 208
    },
    "colab_type": "code",
    "id": "T5QnZPgXT1AT",
    "outputId": "f83863e3-d3e6-466a-840f-67c117882c25"
   },
   "outputs": [
    {
     "name": "stdout",
     "output_type": "stream",
     "text": [
      "114719\n"
     ]
    },
    {
     "data": {
      "text/html": [
       "<div>\n",
       "<style scoped>\n",
       "    .dataframe tbody tr th:only-of-type {\n",
       "        vertical-align: middle;\n",
       "    }\n",
       "\n",
       "    .dataframe tbody tr th {\n",
       "        vertical-align: top;\n",
       "    }\n",
       "\n",
       "    .dataframe thead th {\n",
       "        text-align: right;\n",
       "    }\n",
       "</style>\n",
       "<table border=\"1\" class=\"dataframe\">\n",
       "  <thead>\n",
       "    <tr style=\"text-align: right;\">\n",
       "      <th></th>\n",
       "      <th>id</th>\n",
       "      <th>comment_text</th>\n",
       "      <th>toxic</th>\n",
       "      <th>severe_toxic</th>\n",
       "      <th>obscene</th>\n",
       "      <th>threat</th>\n",
       "      <th>insult</th>\n",
       "      <th>identity_hate</th>\n",
       "      <th>clean</th>\n",
       "    </tr>\n",
       "  </thead>\n",
       "  <tbody>\n",
       "    <tr>\n",
       "      <th>0</th>\n",
       "      <td>8d603d50affa1126</td>\n",
       "      <td>\"\\nYes, aside, thank you for trying to answer the block-related concerns. I will accept your stated goal, \"\"to answer your questions, to help clear up points of confusion\"\", as answer to my #1 above and my italicized rephrasal (i.e., the negotiation of our communicative relationship). I only ask that if you should for any reason decide to assume bad faith with me, please have the courtesy of quoting (not linking) a significant clause or sentence (not title) of a policy. Thank you. I also acc...</td>\n",
       "      <td>0</td>\n",
       "      <td>0</td>\n",
       "      <td>0</td>\n",
       "      <td>0</td>\n",
       "      <td>0</td>\n",
       "      <td>0</td>\n",
       "      <td>True</td>\n",
       "    </tr>\n",
       "    <tr>\n",
       "      <th>1</th>\n",
       "      <td>8fb3576937b9e0d0</td>\n",
       "      <td>March 2010 (UTC)\\n\\nThanks! and understood about the Wproject tags. Any advice on how to better the format of the references?  I am not quite au fait with this although I have done some referencing in the past.  Can you beautify them or advise me?    (talk) 23:43, 24</td>\n",
       "      <td>0</td>\n",
       "      <td>0</td>\n",
       "      <td>0</td>\n",
       "      <td>0</td>\n",
       "      <td>0</td>\n",
       "      <td>0</td>\n",
       "      <td>True</td>\n",
       "    </tr>\n",
       "  </tbody>\n",
       "</table>\n",
       "</div>"
      ],
      "text/plain": [
       "                 id  \\\n",
       "0  8d603d50affa1126   \n",
       "1  8fb3576937b9e0d0   \n",
       "\n",
       "                                                                                                                                                                                                                                                                                                                                                                                                                                                                                                          comment_text  \\\n",
       "0  \"\\nYes, aside, thank you for trying to answer the block-related concerns. I will accept your stated goal, \"\"to answer your questions, to help clear up points of confusion\"\", as answer to my #1 above and my italicized rephrasal (i.e., the negotiation of our communicative relationship). I only ask that if you should for any reason decide to assume bad faith with me, please have the courtesy of quoting (not linking) a significant clause or sentence (not title) of a policy. Thank you. I also acc...   \n",
       "1                                                                                                                                                                                                                                          March 2010 (UTC)\\n\\nThanks! and understood about the Wproject tags. Any advice on how to better the format of the references?  I am not quite au fait with this although I have done some referencing in the past.  Can you beautify them or advise me?    (talk) 23:43, 24   \n",
       "\n",
       "   toxic  severe_toxic  obscene  threat  insult  identity_hate  clean  \n",
       "0      0             0        0       0       0              0   True  \n",
       "1      0             0        0       0       0              0   True  "
      ]
     },
     "execution_count": 7,
     "metadata": {},
     "output_type": "execute_result"
    }
   ],
   "source": [
    "df_train['clean'] = df_train.loc[:,'toxic':'identity_hate'].sum(axis=1) == 0\n",
    "\n",
    "print(df_train['clean'].sum())\n",
    "\n",
    "df_train.head(2)"
   ]
  },
  {
   "cell_type": "markdown",
   "metadata": {
    "colab_type": "text",
    "id": "YRjEdIaY4SG-"
   },
   "source": [
    "# Class distribution"
   ]
  },
  {
   "cell_type": "code",
   "execution_count": 8,
   "metadata": {
    "ExecuteTime": {
     "end_time": "2021-09-03T17:14:58.901997Z",
     "start_time": "2021-09-03T17:14:58.887713Z"
    },
    "colab": {
     "base_uri": "https://localhost:8080/",
     "height": 158
    },
    "colab_type": "code",
    "id": "L3Qwi_nRVXJu",
    "outputId": "db98e436-1014-4f7f-ee30-43b7d5700b9e"
   },
   "outputs": [
    {
     "data": {
      "text/plain": [
       "toxic             12202\n",
       "severe_toxic       1282\n",
       "obscene            6782\n",
       "threat              379\n",
       "insult             6292\n",
       "identity_hate      1136\n",
       "clean            114719\n",
       "dtype: int64"
      ]
     },
     "execution_count": 8,
     "metadata": {},
     "output_type": "execute_result"
    }
   ],
   "source": [
    "ser_sum = df_train.iloc[:,2:].sum(axis=0)\n",
    "ser_sum"
   ]
  },
  {
   "cell_type": "code",
   "execution_count": 9,
   "metadata": {
    "ExecuteTime": {
     "end_time": "2021-09-03T17:14:59.326916Z",
     "start_time": "2021-09-03T17:14:58.904088Z"
    },
    "colab": {
     "base_uri": "https://localhost:8080/",
     "height": 547
    },
    "colab_type": "code",
    "id": "fMAf8TonVdgW",
    "outputId": "892e3921-7983-4e63-8efb-208ce51c9e2b"
   },
   "outputs": [
    {
     "data": {
      "image/png": "[encoded data removed]",
      "text/plain": [
       "<Figure size 864x576 with 1 Axes>"
      ]
     },
     "metadata": {
      "image/png": {
       "height": 523,
       "width": 729
      }
     },
     "output_type": "display_data"
    }
   ],
   "source": [
    "ax = ser_sum.sort_values().plot.bar(color=sns.color_palette('husl',len(ser_sum)))\n",
    "\n",
    "for p in ax.patches:\n",
    "    x,y = p.get_x(), p.get_height()\n",
    "    ax.text(x,y,f'{y:,.0f}',fontsize=14,color='blue')"
   ]
  },
  {
   "cell_type": "markdown",
   "metadata": {
    "colab_type": "text",
    "id": "sz8xbUOq3DR5"
   },
   "source": [
    "# Text Preparation for Spacy"
   ]
  },
  {
   "cell_type": "code",
   "execution_count": 10,
   "metadata": {
    "ExecuteTime": {
     "end_time": "2021-09-03T17:14:59.433789Z",
     "start_time": "2021-09-03T17:14:59.329348Z"
    },
    "colab": {},
    "colab_type": "code",
    "id": "gWGQk8wB3Gu_"
   },
   "outputs": [],
   "source": [
    "df_train['text'] = df_train['comment_text'].apply(lambda x: x.replace('\\n', ' '))"
   ]
  },
  {
   "cell_type": "code",
   "execution_count": 11,
   "metadata": {
    "ExecuteTime": {
     "end_time": "2021-09-03T17:15:17.147572Z",
     "start_time": "2021-09-03T17:14:59.437156Z"
    },
    "colab": {},
    "colab_type": "code",
    "id": "LbYIjaPs8qYQ"
   },
   "outputs": [],
   "source": [
    "cats = ['toxic', 'severe_toxic', 'obscene', 'threat', 'insult', 'identity_hate']\n",
    "\n",
    "lst_train_prepared = []\n",
    "\n",
    "def format_text_spacy(text):\n",
    "    return (text.text, {'cats': {cat: text[cat] for cat in cats}})\n",
    "    \n",
    "for i in range(0,len(df_train)):\n",
    "    text = df_train.iloc[i]\n",
    "    lst_train_prepared.append(format_text_spacy(text))"
   ]
  },
  {
   "cell_type": "code",
   "execution_count": 12,
   "metadata": {
    "ExecuteTime": {
     "end_time": "2021-09-03T17:15:17.154613Z",
     "start_time": "2021-09-03T17:15:17.150600Z"
    },
    "colab": {},
    "colab_type": "code",
    "id": "n0g3TOLV8s-P"
   },
   "outputs": [],
   "source": [
    "# lst_train_prepared[0:3]"
   ]
  },
  {
   "cell_type": "markdown",
   "metadata": {
    "colab_type": "text",
    "id": "fnKCWFdK9xib"
   },
   "source": [
    "# Classifying text into categories using Spacy\n",
    "- https://spacy.io/usage/processing-pipelines"
   ]
  },
  {
   "cell_type": "code",
   "execution_count": 13,
   "metadata": {
    "ExecuteTime": {
     "end_time": "2021-09-03T17:15:17.224023Z",
     "start_time": "2021-09-03T17:15:17.158931Z"
    },
    "colab": {},
    "colab_type": "code",
    "id": "5P9s0mEA9pGl"
   },
   "outputs": [],
   "source": [
    "import random\n",
    "import spacy\n",
    "import time\n",
    "from spacy.util import minibatch, compounding\n",
    "import en_core_web_sm"
   ]
  },
  {
   "cell_type": "code",
   "execution_count": 14,
   "metadata": {
    "ExecuteTime": {
     "end_time": "2021-09-03T17:15:17.378224Z",
     "start_time": "2021-09-03T17:15:17.228263Z"
    }
   },
   "outputs": [
    {
     "data": {
      "text/html": [
       "<div>\n",
       "<style scoped>\n",
       "    .dataframe tbody tr th:only-of-type {\n",
       "        vertical-align: middle;\n",
       "    }\n",
       "\n",
       "    .dataframe tbody tr th {\n",
       "        vertical-align: top;\n",
       "    }\n",
       "\n",
       "    .dataframe thead th {\n",
       "        text-align: right;\n",
       "    }\n",
       "</style>\n",
       "<table border=\"1\" class=\"dataframe\">\n",
       "  <thead>\n",
       "    <tr style=\"text-align: right;\">\n",
       "      <th></th>\n",
       "      <th>0</th>\n",
       "      <th>1</th>\n",
       "      <th>2</th>\n",
       "      <th>3</th>\n",
       "      <th>4</th>\n",
       "    </tr>\n",
       "  </thead>\n",
       "  <tbody>\n",
       "    <tr>\n",
       "      <th>0</th>\n",
       "      <td>Config</td>\n",
       "      <td>displacy</td>\n",
       "      <td>lexeme</td>\n",
       "      <td>pipeline</td>\n",
       "      <td>strings</td>\n",
       "    </tr>\n",
       "    <tr>\n",
       "      <th>1</th>\n",
       "      <td>Errors</td>\n",
       "      <td>errors</td>\n",
       "      <td>load</td>\n",
       "      <td>prefer_gpu</td>\n",
       "      <td>symbols</td>\n",
       "    </tr>\n",
       "    <tr>\n",
       "      <th>2</th>\n",
       "      <td>Language</td>\n",
       "      <td>explain</td>\n",
       "      <td>logger</td>\n",
       "      <td>registry</td>\n",
       "      <td>tokenizer</td>\n",
       "    </tr>\n",
       "    <tr>\n",
       "      <th>3</th>\n",
       "      <td>Vocab</td>\n",
       "      <td>git_info</td>\n",
       "      <td>lookups</td>\n",
       "      <td>require_cpu</td>\n",
       "      <td>tokens</td>\n",
       "    </tr>\n",
       "    <tr>\n",
       "      <th>4</th>\n",
       "      <td>about</td>\n",
       "      <td>glossary</td>\n",
       "      <td>matcher</td>\n",
       "      <td>require_gpu</td>\n",
       "      <td>training</td>\n",
       "    </tr>\n",
       "    <tr>\n",
       "      <th>5</th>\n",
       "      <td>attrs</td>\n",
       "      <td>info</td>\n",
       "      <td>ml</td>\n",
       "      <td>schemas</td>\n",
       "      <td>util</td>\n",
       "    </tr>\n",
       "    <tr>\n",
       "      <th>6</th>\n",
       "      <td>blank</td>\n",
       "      <td>kb</td>\n",
       "      <td>morphology</td>\n",
       "      <td>scorer</td>\n",
       "      <td>vectors</td>\n",
       "    </tr>\n",
       "    <tr>\n",
       "      <th>7</th>\n",
       "      <td>cli</td>\n",
       "      <td>lang</td>\n",
       "      <td>parts_of_speech</td>\n",
       "      <td>setup_default_warnings</td>\n",
       "      <td>vocab</td>\n",
       "    </tr>\n",
       "    <tr>\n",
       "      <th>8</th>\n",
       "      <td>compat</td>\n",
       "      <td>language</td>\n",
       "      <td>pipe_analysis</td>\n",
       "      <td></td>\n",
       "      <td></td>\n",
       "    </tr>\n",
       "  </tbody>\n",
       "</table>\n",
       "</div>"
      ],
      "text/plain": [
       "          0         1                2                       3          4\n",
       "0    Config  displacy           lexeme                pipeline    strings\n",
       "1    Errors    errors             load              prefer_gpu    symbols\n",
       "2  Language   explain           logger                registry  tokenizer\n",
       "3     Vocab  git_info          lookups             require_cpu     tokens\n",
       "4     about  glossary          matcher             require_gpu   training\n",
       "5     attrs      info               ml                 schemas       util\n",
       "6     blank        kb       morphology                  scorer    vectors\n",
       "7       cli      lang  parts_of_speech  setup_default_warnings      vocab\n",
       "8    compat  language    pipe_analysis                                   "
      ]
     },
     "execution_count": 14,
     "metadata": {},
     "output_type": "execute_result"
    }
   ],
   "source": [
    "bp.show_methods(spacy,5)"
   ]
  },
  {
   "cell_type": "code",
   "execution_count": 15,
   "metadata": {
    "ExecuteTime": {
     "end_time": "2021-09-03T17:15:17.426890Z",
     "start_time": "2021-09-03T17:15:17.386453Z"
    }
   },
   "outputs": [
    {
     "data": {
      "text/html": [
       "<div>\n",
       "<style scoped>\n",
       "    .dataframe tbody tr th:only-of-type {\n",
       "        vertical-align: middle;\n",
       "    }\n",
       "\n",
       "    .dataframe tbody tr th {\n",
       "        vertical-align: top;\n",
       "    }\n",
       "\n",
       "    .dataframe thead th {\n",
       "        text-align: right;\n",
       "    }\n",
       "</style>\n",
       "<table border=\"1\" class=\"dataframe\">\n",
       "  <thead>\n",
       "    <tr style=\"text-align: right;\">\n",
       "      <th></th>\n",
       "      <th>0</th>\n",
       "      <th>1</th>\n",
       "      <th>2</th>\n",
       "      <th>3</th>\n",
       "      <th>4</th>\n",
       "    </tr>\n",
       "  </thead>\n",
       "  <tbody>\n",
       "    <tr>\n",
       "      <th>0</th>\n",
       "      <td>Adam</td>\n",
       "      <td>SpecifierSet</td>\n",
       "      <td>expand_exc</td>\n",
       "      <td>import_file</td>\n",
       "      <td>make_tempdir</td>\n",
       "    </tr>\n",
       "    <tr>\n",
       "      <th>1</th>\n",
       "      <td>CONFIG_SECTION_ORDER</td>\n",
       "      <td>Version</td>\n",
       "      <td>filter_spans</td>\n",
       "      <td>importlib_metadata</td>\n",
       "      <td>minibatch</td>\n",
       "    </tr>\n",
       "    <tr>\n",
       "      <th>2</th>\n",
       "      <td>Config</td>\n",
       "      <td>Warnings</td>\n",
       "      <td>fix_random_seed</td>\n",
       "      <td>is_compatible_version</td>\n",
       "      <td>minify_html</td>\n",
       "    </tr>\n",
       "    <tr>\n",
       "      <th>3</th>\n",
       "      <td>ConfigValidationError</td>\n",
       "      <td>about</td>\n",
       "      <td>from_bytes</td>\n",
       "      <td>is_cwd</td>\n",
       "      <td>normalize_slice</td>\n",
       "    </tr>\n",
       "    <tr>\n",
       "      <th>4</th>\n",
       "      <td>CudaStream</td>\n",
       "      <td>add_lookups</td>\n",
       "      <td>from_dict</td>\n",
       "      <td>is_cython_func</td>\n",
       "      <td>packages_distributions</td>\n",
       "    </tr>\n",
       "    <tr>\n",
       "      <th>5</th>\n",
       "      <td>DEFAULT_OOV_PROB</td>\n",
       "      <td>catalogue</td>\n",
       "      <td>from_disk</td>\n",
       "      <td>is_in_jupyter</td>\n",
       "      <td>raise_error</td>\n",
       "    </tr>\n",
       "    <tr>\n",
       "      <th>6</th>\n",
       "      <td>DummyTokenizer</td>\n",
       "      <td>check_bool_env_var</td>\n",
       "      <td>get_arg_names</td>\n",
       "      <td>is_minor_version_match</td>\n",
       "      <td>read_regex</td>\n",
       "    </tr>\n",
       "    <tr>\n",
       "      <th>7</th>\n",
       "      <td>ENV_VARS</td>\n",
       "      <td>check_lexeme_norms</td>\n",
       "      <td>get_async</td>\n",
       "      <td>is_package</td>\n",
       "      <td>registry</td>\n",
       "    </tr>\n",
       "    <tr>\n",
       "      <th>8</th>\n",
       "      <td>Errors</td>\n",
       "      <td>combine_score_weights</td>\n",
       "      <td>get_base_version</td>\n",
       "      <td>is_same_func</td>\n",
       "      <td>replace_model_node</td>\n",
       "    </tr>\n",
       "    <tr>\n",
       "      <th>9</th>\n",
       "      <td>InvalidSpecifier</td>\n",
       "      <td>compile_infix_regex</td>\n",
       "      <td>get_cuda_stream</td>\n",
       "      <td>is_unconstrained_version</td>\n",
       "      <td>resolve_dot_names</td>\n",
       "    </tr>\n",
       "    <tr>\n",
       "      <th>10</th>\n",
       "      <td>InvalidVersion</td>\n",
       "      <td>compile_prefix_regex</td>\n",
       "      <td>get_current_ops</td>\n",
       "      <td>is_windows</td>\n",
       "      <td>run_command</td>\n",
       "    </tr>\n",
       "    <tr>\n",
       "      <th>11</th>\n",
       "      <td>Iterator</td>\n",
       "      <td>compile_suffix_regex</td>\n",
       "      <td>get_installed_models</td>\n",
       "      <td>join_command</td>\n",
       "      <td>set_dot_to_object</td>\n",
       "    </tr>\n",
       "    <tr>\n",
       "      <th>12</th>\n",
       "      <td>LEXEME_NORM_LANGS</td>\n",
       "      <td>compounding</td>\n",
       "      <td>get_lang_class</td>\n",
       "      <td>lang_class_is_loaded</td>\n",
       "      <td>set_lang_class</td>\n",
       "    </tr>\n",
       "    <tr>\n",
       "      <th>13</th>\n",
       "      <td>Model</td>\n",
       "      <td>contextmanager</td>\n",
       "      <td>get_minor_version</td>\n",
       "      <td>load_config</td>\n",
       "      <td>split_command</td>\n",
       "    </tr>\n",
       "    <tr>\n",
       "      <th>14</th>\n",
       "      <td>NumpyOps</td>\n",
       "      <td>copy_config</td>\n",
       "      <td>get_minor_version_range</td>\n",
       "      <td>load_config_from_str</td>\n",
       "      <td>split_requirement</td>\n",
       "    </tr>\n",
       "    <tr>\n",
       "      <th>15</th>\n",
       "      <td>OLD_MODEL_SHORTCUTS</td>\n",
       "      <td>create_default_optimizer</td>\n",
       "      <td>get_model_lower_version</td>\n",
       "      <td>load_language_data</td>\n",
       "      <td>to_bytes</td>\n",
       "    </tr>\n",
       "    <tr>\n",
       "      <th>16</th>\n",
       "      <td>OOV_RANK</td>\n",
       "      <td>cupy</td>\n",
       "      <td>get_model_meta</td>\n",
       "      <td>load_meta</td>\n",
       "      <td>to_dict</td>\n",
       "    </tr>\n",
       "    <tr>\n",
       "      <th>17</th>\n",
       "      <td>ORTH</td>\n",
       "      <td>decaying</td>\n",
       "      <td>get_module_path</td>\n",
       "      <td>load_model</td>\n",
       "      <td>to_disk</td>\n",
       "    </tr>\n",
       "    <tr>\n",
       "      <th>18</th>\n",
       "      <td>Optimizer</td>\n",
       "      <td>defaultdict</td>\n",
       "      <td>get_object_name</td>\n",
       "      <td>load_model_from_config</td>\n",
       "      <td>to_ternary_int</td>\n",
       "    </tr>\n",
       "    <tr>\n",
       "      <th>19</th>\n",
       "      <td>Registry</td>\n",
       "      <td>dict_to_dot</td>\n",
       "      <td>get_package_path</td>\n",
       "      <td>load_model_from_init_py</td>\n",
       "      <td>update_exc</td>\n",
       "    </tr>\n",
       "    <tr>\n",
       "      <th>20</th>\n",
       "      <td>RegistryError</td>\n",
       "      <td>dot_to_dict</td>\n",
       "      <td>get_package_version</td>\n",
       "      <td>load_model_from_package</td>\n",
       "      <td>walk_dict</td>\n",
       "    </tr>\n",
       "    <tr>\n",
       "      <th>21</th>\n",
       "      <td>Requirement</td>\n",
       "      <td>dot_to_object</td>\n",
       "      <td>get_sourced_components</td>\n",
       "      <td>load_model_from_path</td>\n",
       "      <td>warn_if_jupyter_cupy</td>\n",
       "    </tr>\n",
       "    <tr>\n",
       "      <th>22</th>\n",
       "      <td>SimpleFrozenDict</td>\n",
       "      <td>ensure_path</td>\n",
       "      <td>get_words_and_spaces</td>\n",
       "      <td>logger</td>\n",
       "      <td>working_dir</td>\n",
       "    </tr>\n",
       "    <tr>\n",
       "      <th>23</th>\n",
       "      <td>SimpleFrozenList</td>\n",
       "      <td>escape_html</td>\n",
       "      <td>ignore_error</td>\n",
       "      <td>logger_stream_handler</td>\n",
       "      <td></td>\n",
       "    </tr>\n",
       "  </tbody>\n",
       "</table>\n",
       "</div>"
      ],
      "text/plain": [
       "                        0                         1                        2  \\\n",
       "0                    Adam              SpecifierSet               expand_exc   \n",
       "1    CONFIG_SECTION_ORDER                   Version             filter_spans   \n",
       "2                  Config                  Warnings          fix_random_seed   \n",
       "3   ConfigValidationError                     about               from_bytes   \n",
       "4              CudaStream               add_lookups                from_dict   \n",
       "5        DEFAULT_OOV_PROB                 catalogue                from_disk   \n",
       "6          DummyTokenizer        check_bool_env_var            get_arg_names   \n",
       "7                ENV_VARS        check_lexeme_norms                get_async   \n",
       "8                  Errors     combine_score_weights         get_base_version   \n",
       "9        InvalidSpecifier       compile_infix_regex          get_cuda_stream   \n",
       "10         InvalidVersion      compile_prefix_regex          get_current_ops   \n",
       "11               Iterator      compile_suffix_regex     get_installed_models   \n",
       "12      LEXEME_NORM_LANGS               compounding           get_lang_class   \n",
       "13                  Model            contextmanager        get_minor_version   \n",
       "14               NumpyOps               copy_config  get_minor_version_range   \n",
       "15    OLD_MODEL_SHORTCUTS  create_default_optimizer  get_model_lower_version   \n",
       "16               OOV_RANK                      cupy           get_model_meta   \n",
       "17                   ORTH                  decaying          get_module_path   \n",
       "18              Optimizer               defaultdict          get_object_name   \n",
       "19               Registry               dict_to_dot         get_package_path   \n",
       "20          RegistryError               dot_to_dict      get_package_version   \n",
       "21            Requirement             dot_to_object   get_sourced_components   \n",
       "22       SimpleFrozenDict               ensure_path     get_words_and_spaces   \n",
       "23       SimpleFrozenList               escape_html             ignore_error   \n",
       "\n",
       "                           3                       4  \n",
       "0                import_file            make_tempdir  \n",
       "1         importlib_metadata               minibatch  \n",
       "2      is_compatible_version             minify_html  \n",
       "3                     is_cwd         normalize_slice  \n",
       "4             is_cython_func  packages_distributions  \n",
       "5              is_in_jupyter             raise_error  \n",
       "6     is_minor_version_match              read_regex  \n",
       "7                 is_package                registry  \n",
       "8               is_same_func      replace_model_node  \n",
       "9   is_unconstrained_version       resolve_dot_names  \n",
       "10                is_windows             run_command  \n",
       "11              join_command       set_dot_to_object  \n",
       "12      lang_class_is_loaded          set_lang_class  \n",
       "13               load_config           split_command  \n",
       "14      load_config_from_str       split_requirement  \n",
       "15        load_language_data                to_bytes  \n",
       "16                 load_meta                 to_dict  \n",
       "17                load_model                 to_disk  \n",
       "18    load_model_from_config          to_ternary_int  \n",
       "19   load_model_from_init_py              update_exc  \n",
       "20   load_model_from_package               walk_dict  \n",
       "21      load_model_from_path    warn_if_jupyter_cupy  \n",
       "22                    logger             working_dir  \n",
       "23     logger_stream_handler                          "
      ]
     },
     "execution_count": 15,
     "metadata": {},
     "output_type": "execute_result"
    }
   ],
   "source": [
    "bp.show_methods(spacy.util,5)"
   ]
  },
  {
   "cell_type": "code",
   "execution_count": 16,
   "metadata": {
    "ExecuteTime": {
     "end_time": "2021-09-03T17:15:17.436450Z",
     "start_time": "2021-09-03T17:15:17.430921Z"
    }
   },
   "outputs": [
    {
     "name": "stdout",
     "output_type": "stream",
     "text": [
      "Object `nlp.add_pipe` not found.\n"
     ]
    }
   ],
   "source": [
    "nlp.add_pipe?"
   ]
  },
  {
   "cell_type": "code",
   "execution_count": 17,
   "metadata": {
    "ExecuteTime": {
     "end_time": "2021-09-03T17:15:18.102988Z",
     "start_time": "2021-09-03T17:15:17.441930Z"
    },
    "colab": {
     "base_uri": "https://localhost:8080/",
     "height": 34
    },
    "colab_type": "code",
    "id": "ds5CYE_Y_4Kh",
    "outputId": "b9cb0c82-f30d-4aed-fcab-f97eefe22e73"
   },
   "outputs": [],
   "source": [
    "time_start = time.time()\n",
    "\n",
    "# nlp = spacy.load('en_core_web_lg')\n",
    "nlp = spacy.load('en_core_web_sm')\n",
    "\n"
   ]
  },
  {
   "cell_type": "code",
   "execution_count": 18,
   "metadata": {
    "ExecuteTime": {
     "end_time": "2021-09-03T17:15:18.107591Z",
     "start_time": "2021-09-03T17:15:18.104702Z"
    }
   },
   "outputs": [],
   "source": [
    "# for spacy2.0\n",
    "# # creat textcat\n",
    "# textcat = nlp.create_pipe('textcat')\n",
    "# textcat = nlp.create_pipe(\n",
    "#               \"textcat\",\n",
    "#               config={\n",
    "#                 \"exclusive_classes\": True,\n",
    "#                 \"architecture\": \"bow\"})\n",
    "# we also add labels later using textcat.add_label\n",
    "\n",
    "# # add this to pipe\n",
    "# nlp.add_pipe(textcat, last=True)\n",
    "\n",
    "# # add label\n",
    "# for cat in cats:\n",
    "#     textcat.add_label(cat)"
   ]
  },
  {
   "cell_type": "code",
   "execution_count": 19,
   "metadata": {
    "ExecuteTime": {
     "end_time": "2021-09-03T17:15:18.127881Z",
     "start_time": "2021-09-03T17:15:18.113938Z"
    }
   },
   "outputs": [
    {
     "data": {
      "text/html": [
       "<div>\n",
       "<style scoped>\n",
       "    .dataframe tbody tr th:only-of-type {\n",
       "        vertical-align: middle;\n",
       "    }\n",
       "\n",
       "    .dataframe tbody tr th {\n",
       "        vertical-align: top;\n",
       "    }\n",
       "\n",
       "    .dataframe thead th {\n",
       "        text-align: right;\n",
       "    }\n",
       "</style>\n",
       "<table border=\"1\" class=\"dataframe\">\n",
       "  <thead>\n",
       "    <tr style=\"text-align: right;\">\n",
       "      <th></th>\n",
       "      <th>0</th>\n",
       "      <th>1</th>\n",
       "      <th>2</th>\n",
       "      <th>3</th>\n",
       "      <th>4</th>\n",
       "    </tr>\n",
       "  </thead>\n",
       "  <tbody>\n",
       "    <tr>\n",
       "      <th>0</th>\n",
       "      <td>Defaults</td>\n",
       "      <td>default_config</td>\n",
       "      <td>from_disk</td>\n",
       "      <td>meta</td>\n",
       "      <td>replace_pipe</td>\n",
       "    </tr>\n",
       "    <tr>\n",
       "      <th>1</th>\n",
       "      <td>add_pipe</td>\n",
       "      <td>default_error_handler</td>\n",
       "      <td>get_factory_meta</td>\n",
       "      <td>path</td>\n",
       "      <td>resume_training</td>\n",
       "    </tr>\n",
       "    <tr>\n",
       "      <th>2</th>\n",
       "      <td>analyze_pipes</td>\n",
       "      <td>disable_pipe</td>\n",
       "      <td>get_factory_name</td>\n",
       "      <td>pipe</td>\n",
       "      <td>select_pipes</td>\n",
       "    </tr>\n",
       "    <tr>\n",
       "      <th>3</th>\n",
       "      <td>batch_size</td>\n",
       "      <td>disable_pipes</td>\n",
       "      <td>get_pipe</td>\n",
       "      <td>pipe_factories</td>\n",
       "      <td>set_error_handler</td>\n",
       "    </tr>\n",
       "    <tr>\n",
       "      <th>4</th>\n",
       "      <td>begin_training</td>\n",
       "      <td>disabled</td>\n",
       "      <td>get_pipe_config</td>\n",
       "      <td>pipe_labels</td>\n",
       "      <td>set_factory_meta</td>\n",
       "    </tr>\n",
       "    <tr>\n",
       "      <th>5</th>\n",
       "      <td>component</td>\n",
       "      <td>enable_pipe</td>\n",
       "      <td>get_pipe_meta</td>\n",
       "      <td>pipe_names</td>\n",
       "      <td>to_bytes</td>\n",
       "    </tr>\n",
       "    <tr>\n",
       "      <th>6</th>\n",
       "      <td>component_names</td>\n",
       "      <td>evaluate</td>\n",
       "      <td>has_factory</td>\n",
       "      <td>pipeline</td>\n",
       "      <td>to_disk</td>\n",
       "    </tr>\n",
       "    <tr>\n",
       "      <th>7</th>\n",
       "      <td>components</td>\n",
       "      <td>factories</td>\n",
       "      <td>has_pipe</td>\n",
       "      <td>rehearse</td>\n",
       "      <td>tokenizer</td>\n",
       "    </tr>\n",
       "    <tr>\n",
       "      <th>8</th>\n",
       "      <td>config</td>\n",
       "      <td>factory</td>\n",
       "      <td>initialize</td>\n",
       "      <td>remove_pipe</td>\n",
       "      <td>update</td>\n",
       "    </tr>\n",
       "    <tr>\n",
       "      <th>9</th>\n",
       "      <td>create_optimizer</td>\n",
       "      <td>factory_names</td>\n",
       "      <td>lang</td>\n",
       "      <td>rename_pipe</td>\n",
       "      <td>use_params</td>\n",
       "    </tr>\n",
       "    <tr>\n",
       "      <th>10</th>\n",
       "      <td>create_pipe</td>\n",
       "      <td>from_bytes</td>\n",
       "      <td>make_doc</td>\n",
       "      <td>replace_listeners</td>\n",
       "      <td>vocab</td>\n",
       "    </tr>\n",
       "    <tr>\n",
       "      <th>11</th>\n",
       "      <td>create_pipe_from_source</td>\n",
       "      <td>from_config</td>\n",
       "      <td>max_length</td>\n",
       "      <td></td>\n",
       "      <td></td>\n",
       "    </tr>\n",
       "  </tbody>\n",
       "</table>\n",
       "</div>"
      ],
      "text/plain": [
       "                          0                      1                 2  \\\n",
       "0                  Defaults         default_config         from_disk   \n",
       "1                  add_pipe  default_error_handler  get_factory_meta   \n",
       "2             analyze_pipes           disable_pipe  get_factory_name   \n",
       "3                batch_size          disable_pipes          get_pipe   \n",
       "4            begin_training               disabled   get_pipe_config   \n",
       "5                 component            enable_pipe     get_pipe_meta   \n",
       "6           component_names               evaluate       has_factory   \n",
       "7                components              factories          has_pipe   \n",
       "8                    config                factory        initialize   \n",
       "9          create_optimizer          factory_names              lang   \n",
       "10              create_pipe             from_bytes          make_doc   \n",
       "11  create_pipe_from_source            from_config        max_length   \n",
       "\n",
       "                    3                  4  \n",
       "0                meta       replace_pipe  \n",
       "1                path    resume_training  \n",
       "2                pipe       select_pipes  \n",
       "3      pipe_factories  set_error_handler  \n",
       "4         pipe_labels   set_factory_meta  \n",
       "5          pipe_names           to_bytes  \n",
       "6            pipeline            to_disk  \n",
       "7            rehearse          tokenizer  \n",
       "8         remove_pipe             update  \n",
       "9         rename_pipe         use_params  \n",
       "10  replace_listeners              vocab  \n",
       "11                                        "
      ]
     },
     "execution_count": 19,
     "metadata": {},
     "output_type": "execute_result"
    }
   ],
   "source": [
    "bp.show_methods(nlp,5)"
   ]
  },
  {
   "cell_type": "code",
   "execution_count": 20,
   "metadata": {
    "ExecuteTime": {
     "end_time": "2021-09-03T17:15:18.135287Z",
     "start_time": "2021-09-03T17:15:18.131490Z"
    }
   },
   "outputs": [
    {
     "data": {
      "text/plain": [
       "['tok2vec', 'tagger', 'parser', 'attribute_ruler', 'lemmatizer', 'ner']"
      ]
     },
     "execution_count": 20,
     "metadata": {},
     "output_type": "execute_result"
    }
   ],
   "source": [
    "nlp.pipe_names"
   ]
  },
  {
   "cell_type": "code",
   "execution_count": 21,
   "metadata": {
    "ExecuteTime": {
     "end_time": "2021-09-03T17:15:18.173369Z",
     "start_time": "2021-09-03T17:15:18.138108Z"
    }
   },
   "outputs": [
    {
     "data": {
      "text/plain": [
       "['tok2vec',\n",
       " 'tagger',\n",
       " 'parser',\n",
       " 'attribute_ruler',\n",
       " 'lemmatizer',\n",
       " 'ner',\n",
       " 'textcat_multilabel']"
      ]
     },
     "execution_count": 21,
     "metadata": {},
     "output_type": "execute_result"
    }
   ],
   "source": [
    "# Add pipeline for TextCategorizer\n",
    "if 'textcat_multilabel' not in nlp.pipe_names:\n",
    "    nlp.add_pipe('textcat_multilabel', last=True)\n",
    "nlp.pipe_names"
   ]
  },
  {
   "cell_type": "code",
   "execution_count": null,
   "metadata": {},
   "outputs": [],
   "source": [
    "# # add label (spacy2.0)\n",
    "# labels = ['toxic', 'severe_toxic', 'obscene', 'threat', 'insult', 'identity_hate']\n",
    "# for label in labels:\n",
    "#     textcat.add_label(cat)"
   ]
  },
  {
   "cell_type": "code",
   "execution_count": null,
   "metadata": {},
   "outputs": [],
   "source": []
  },
  {
   "cell_type": "code",
   "execution_count": 23,
   "metadata": {
    "ExecuteTime": {
     "end_time": "2021-09-03T17:35:45.173033Z",
     "start_time": "2021-09-03T17:35:44.746564Z"
    },
    "colab": {
     "base_uri": "https://localhost:8080/",
     "height": 34
    },
    "colab_type": "code",
    "id": "ds5CYE_Y_4Kh",
    "outputId": "b9cb0c82-f30d-4aed-fcab-f97eefe22e73"
   },
   "outputs": [
    {
     "ename": "ValueError",
     "evalue": "[E143] Labels for component 'textcat_multilabel' not initialized. This can be fixed by calling add_label, or by providing a representative batch of examples to the component's `initialize` method.",
     "output_type": "error",
     "traceback": [
      "\u001b[0;31m---------------------------------------------------------------------------\u001b[0m",
      "\u001b[0;31mValueError\u001b[0m                                Traceback (most recent call last)",
      "\u001b[0;32m<ipython-input-23-e0fe9c5f71b9>\u001b[0m in \u001b[0;36m<module>\u001b[0;34m\u001b[0m\n\u001b[1;32m      4\u001b[0m \u001b[0;31m# train only textcat\u001b[0m\u001b[0;34m\u001b[0m\u001b[0;34m\u001b[0m\u001b[0;34m\u001b[0m\u001b[0m\n\u001b[1;32m      5\u001b[0m \u001b[0;32mwith\u001b[0m \u001b[0mnlp\u001b[0m\u001b[0;34m.\u001b[0m\u001b[0mdisable_pipes\u001b[0m\u001b[0;34m(\u001b[0m\u001b[0;34m*\u001b[0m\u001b[0mother_pipes\u001b[0m\u001b[0;34m)\u001b[0m\u001b[0;34m:\u001b[0m\u001b[0;34m\u001b[0m\u001b[0;34m\u001b[0m\u001b[0m\n\u001b[0;32m----> 6\u001b[0;31m     \u001b[0mnlp\u001b[0m\u001b[0;34m.\u001b[0m\u001b[0minitialize\u001b[0m\u001b[0;34m(\u001b[0m\u001b[0;34m)\u001b[0m\u001b[0;34m\u001b[0m\u001b[0;34m\u001b[0m\u001b[0m\n\u001b[0m\u001b[1;32m      7\u001b[0m     \u001b[0;32mfor\u001b[0m \u001b[0mi\u001b[0m \u001b[0;32min\u001b[0m \u001b[0mrange\u001b[0m\u001b[0;34m(\u001b[0m\u001b[0;36m1\u001b[0m\u001b[0;34m)\u001b[0m\u001b[0;34m:\u001b[0m\u001b[0;34m\u001b[0m\u001b[0;34m\u001b[0m\u001b[0m\n\u001b[1;32m      8\u001b[0m         \u001b[0mlosses\u001b[0m \u001b[0;34m=\u001b[0m \u001b[0;34m{\u001b[0m\u001b[0;34m}\u001b[0m\u001b[0;34m\u001b[0m\u001b[0;34m\u001b[0m\u001b[0m\n",
      "\u001b[0;32m~/opt/miniconda3/envs/nlp/lib/python3.7/site-packages/spacy/language.py\u001b[0m in \u001b[0;36minitialize\u001b[0;34m(self, get_examples, sgd)\u001b[0m\n\u001b[1;32m   1271\u001b[0m                     \u001b[0mproc\u001b[0m\u001b[0;34m.\u001b[0m\u001b[0minitialize\u001b[0m\u001b[0;34m,\u001b[0m \u001b[0mp_settings\u001b[0m\u001b[0;34m,\u001b[0m \u001b[0msection\u001b[0m\u001b[0;34m=\u001b[0m\u001b[0;34m\"components\"\u001b[0m\u001b[0;34m,\u001b[0m \u001b[0mname\u001b[0m\u001b[0;34m=\u001b[0m\u001b[0mname\u001b[0m\u001b[0;34m\u001b[0m\u001b[0;34m\u001b[0m\u001b[0m\n\u001b[1;32m   1272\u001b[0m                 )\n\u001b[0;32m-> 1273\u001b[0;31m                 \u001b[0mproc\u001b[0m\u001b[0;34m.\u001b[0m\u001b[0minitialize\u001b[0m\u001b[0;34m(\u001b[0m\u001b[0mget_examples\u001b[0m\u001b[0;34m,\u001b[0m \u001b[0mnlp\u001b[0m\u001b[0;34m=\u001b[0m\u001b[0mself\u001b[0m\u001b[0;34m,\u001b[0m \u001b[0;34m**\u001b[0m\u001b[0mp_settings\u001b[0m\u001b[0;34m)\u001b[0m\u001b[0;34m\u001b[0m\u001b[0;34m\u001b[0m\u001b[0m\n\u001b[0m\u001b[1;32m   1274\u001b[0m         \u001b[0mpretrain_cfg\u001b[0m \u001b[0;34m=\u001b[0m \u001b[0mconfig\u001b[0m\u001b[0;34m.\u001b[0m\u001b[0mget\u001b[0m\u001b[0;34m(\u001b[0m\u001b[0;34m\"pretraining\"\u001b[0m\u001b[0;34m)\u001b[0m\u001b[0;34m\u001b[0m\u001b[0;34m\u001b[0m\u001b[0m\n\u001b[1;32m   1275\u001b[0m         \u001b[0;32mif\u001b[0m \u001b[0mpretrain_cfg\u001b[0m\u001b[0;34m:\u001b[0m\u001b[0;34m\u001b[0m\u001b[0;34m\u001b[0m\u001b[0m\n",
      "\u001b[0;32m~/opt/miniconda3/envs/nlp/lib/python3.7/site-packages/spacy/pipeline/textcat_multilabel.py\u001b[0m in \u001b[0;36minitialize\u001b[0;34m(self, get_examples, nlp, labels)\u001b[0m\n\u001b[1;32m    162\u001b[0m         \u001b[0mdoc_sample\u001b[0m \u001b[0;34m=\u001b[0m \u001b[0;34m[\u001b[0m\u001b[0meg\u001b[0m\u001b[0;34m.\u001b[0m\u001b[0mreference\u001b[0m \u001b[0;32mfor\u001b[0m \u001b[0meg\u001b[0m \u001b[0;32min\u001b[0m \u001b[0msubbatch\u001b[0m\u001b[0;34m]\u001b[0m\u001b[0;34m\u001b[0m\u001b[0;34m\u001b[0m\u001b[0m\n\u001b[1;32m    163\u001b[0m         \u001b[0mlabel_sample\u001b[0m\u001b[0;34m,\u001b[0m \u001b[0m_\u001b[0m \u001b[0;34m=\u001b[0m \u001b[0mself\u001b[0m\u001b[0;34m.\u001b[0m\u001b[0m_examples_to_truth\u001b[0m\u001b[0;34m(\u001b[0m\u001b[0msubbatch\u001b[0m\u001b[0;34m)\u001b[0m\u001b[0;34m\u001b[0m\u001b[0;34m\u001b[0m\u001b[0m\n\u001b[0;32m--> 164\u001b[0;31m         \u001b[0mself\u001b[0m\u001b[0;34m.\u001b[0m\u001b[0m_require_labels\u001b[0m\u001b[0;34m(\u001b[0m\u001b[0;34m)\u001b[0m\u001b[0;34m\u001b[0m\u001b[0;34m\u001b[0m\u001b[0m\n\u001b[0m\u001b[1;32m    165\u001b[0m         \u001b[0;32massert\u001b[0m \u001b[0mlen\u001b[0m\u001b[0;34m(\u001b[0m\u001b[0mdoc_sample\u001b[0m\u001b[0;34m)\u001b[0m \u001b[0;34m>\u001b[0m \u001b[0;36m0\u001b[0m\u001b[0;34m,\u001b[0m \u001b[0mErrors\u001b[0m\u001b[0;34m.\u001b[0m\u001b[0mE923\u001b[0m\u001b[0;34m.\u001b[0m\u001b[0mformat\u001b[0m\u001b[0;34m(\u001b[0m\u001b[0mname\u001b[0m\u001b[0;34m=\u001b[0m\u001b[0mself\u001b[0m\u001b[0;34m.\u001b[0m\u001b[0mname\u001b[0m\u001b[0;34m)\u001b[0m\u001b[0;34m\u001b[0m\u001b[0;34m\u001b[0m\u001b[0m\n\u001b[1;32m    166\u001b[0m         \u001b[0;32massert\u001b[0m \u001b[0mlen\u001b[0m\u001b[0;34m(\u001b[0m\u001b[0mlabel_sample\u001b[0m\u001b[0;34m)\u001b[0m \u001b[0;34m>\u001b[0m \u001b[0;36m0\u001b[0m\u001b[0;34m,\u001b[0m \u001b[0mErrors\u001b[0m\u001b[0;34m.\u001b[0m\u001b[0mE923\u001b[0m\u001b[0;34m.\u001b[0m\u001b[0mformat\u001b[0m\u001b[0;34m(\u001b[0m\u001b[0mname\u001b[0m\u001b[0;34m=\u001b[0m\u001b[0mself\u001b[0m\u001b[0;34m.\u001b[0m\u001b[0mname\u001b[0m\u001b[0;34m)\u001b[0m\u001b[0;34m\u001b[0m\u001b[0;34m\u001b[0m\u001b[0m\n",
      "\u001b[0;32m~/opt/miniconda3/envs/nlp/lib/python3.7/site-packages/spacy/pipeline/pipe.pyx\u001b[0m in \u001b[0;36mspacy.pipeline.pipe.Pipe._require_labels\u001b[0;34m()\u001b[0m\n",
      "\u001b[0;31mValueError\u001b[0m: [E143] Labels for component 'textcat_multilabel' not initialized. This can be fixed by calling add_label, or by providing a representative batch of examples to the component's `initialize` method."
     ]
    }
   ],
   "source": [
    "# other pipes\n",
    "other_pipes = [pipe for pipe in nlp.pipe_names if pipe != 'textcat_multilabel']\n",
    "\n",
    "# train only textcat\n",
    "with nlp.disable_pipes(*other_pipes):\n",
    "    nlp.initialize()\n",
    "    for i in range(1):\n",
    "        losses = {}\n",
    "        batches = minibatch(lst_train_prepared[0:10000], size=compounding(4., 32., 1.001))\n",
    "        for batch in batches:\n",
    "            texts, annotations = zip(*batch)\n",
    "            nlp.update(texts, annotations, drop=0.2, losses=losses)\n",
    "\n",
    "time_taken = time.time() - time_start\n",
    "print('Time taken: {:.0f} min {:.0f} secs'.format(*divmod(time_taken,60)))"
   ]
  },
  {
   "cell_type": "markdown",
   "metadata": {
    "colab_type": "text",
    "id": "Ciz0HXtyBn5L"
   },
   "source": [
    "# Named Entity Recognition"
   ]
  },
  {
   "cell_type": "code",
   "execution_count": null,
   "metadata": {
    "ExecuteTime": {
     "end_time": "2021-09-03T17:15:18.783084Z",
     "start_time": "2021-09-03T17:14:54.194Z"
    },
    "colab": {},
    "colab_type": "code",
    "id": "KzTSa9OFB1ki"
   },
   "outputs": [],
   "source": [
    "from spacy import displacy"
   ]
  },
  {
   "cell_type": "code",
   "execution_count": null,
   "metadata": {
    "ExecuteTime": {
     "end_time": "2021-09-03T17:15:18.784400Z",
     "start_time": "2021-09-03T17:14:54.196Z"
    },
    "colab": {},
    "colab_type": "code",
    "id": "6pxRPIqJ98Xy"
   },
   "outputs": [],
   "source": [
    "doc = nlp(mytext)    "
   ]
  },
  {
   "cell_type": "code",
   "execution_count": null,
   "metadata": {
    "ExecuteTime": {
     "end_time": "2021-09-03T17:15:18.789531Z",
     "start_time": "2021-09-03T17:14:54.198Z"
    },
    "colab": {
     "base_uri": "https://localhost:8080/",
     "height": 85
    },
    "colab_type": "code",
    "id": "zYCbG4xr-RO0",
    "outputId": "a72f7643-e124-42e4-bce9-1d6620bf605c"
   },
   "outputs": [],
   "source": [
    "displacy.render(doc, style='ent', jupyter=True)"
   ]
  },
  {
   "cell_type": "markdown",
   "metadata": {
    "colab_type": "text",
    "id": "V3K4GVWDCFaj"
   },
   "source": [
    "# Chunking"
   ]
  },
  {
   "cell_type": "code",
   "execution_count": null,
   "metadata": {
    "ExecuteTime": {
     "end_time": "2021-09-03T17:15:18.791401Z",
     "start_time": "2021-09-03T17:14:54.200Z"
    },
    "colab": {
     "base_uri": "https://localhost:8080/",
     "height": 230
    },
    "colab_type": "code",
    "id": "Wyg4KTDd_B3J",
    "outputId": "ce77eda8-e9cd-45bc-ca53-53240520471d"
   },
   "outputs": [],
   "source": [
    "for chunk in doc.noun_chunks:\n",
    "    print(chunk.text, chunk.label_, chunk.root.text)"
   ]
  },
  {
   "cell_type": "markdown",
   "metadata": {
    "colab_type": "text",
    "id": "g4HID2cPCQkW"
   },
   "source": [
    "# Dependency Parsing"
   ]
  },
  {
   "cell_type": "code",
   "execution_count": null,
   "metadata": {
    "ExecuteTime": {
     "end_time": "2021-09-03T17:15:18.793588Z",
     "start_time": "2021-09-03T17:14:54.202Z"
    },
    "colab": {},
    "colab_type": "code",
    "id": "wETVKEXhCI_c"
   },
   "outputs": [],
   "source": [
    "# for token in doc:\n",
    "#     print(\"{0}/{1} <--{2}-- {3}/{4}\".format(\n",
    "#         token.text, token.tag_, token.dep_, token.head.text, token.head.tag_))"
   ]
  },
  {
   "cell_type": "code",
   "execution_count": null,
   "metadata": {
    "ExecuteTime": {
     "end_time": "2021-09-03T17:15:18.796727Z",
     "start_time": "2021-09-03T17:14:54.204Z"
    },
    "colab": {
     "base_uri": "https://localhost:8080/",
     "height": 537
    },
    "colab_type": "code",
    "id": "VokCoFgDCUfc",
    "outputId": "867df978-e1a0-465a-bccc-7f139e43088d"
   },
   "outputs": [],
   "source": [
    "from spacy import displacy\n",
    "\n",
    "displacy.render(doc, style='dep', jupyter=True, options={'distance': 90})"
   ]
  },
  {
   "cell_type": "markdown",
   "metadata": {
    "colab_type": "text",
    "id": "Rm1yLwMpDL_H"
   },
   "source": [
    "# Verb Phrase Detection"
   ]
  },
  {
   "cell_type": "code",
   "execution_count": null,
   "metadata": {
    "ExecuteTime": {
     "end_time": "2021-09-03T17:15:18.799257Z",
     "start_time": "2021-09-03T17:14:54.207Z"
    },
    "colab": {},
    "colab_type": "code",
    "id": "n40BqFRtCaks"
   },
   "outputs": [],
   "source": [
    "import textacy"
   ]
  },
  {
   "cell_type": "code",
   "execution_count": null,
   "metadata": {
    "ExecuteTime": {
     "end_time": "2021-09-03T17:15:18.802007Z",
     "start_time": "2021-09-03T17:14:54.209Z"
    },
    "colab": {
     "base_uri": "https://localhost:8080/",
     "height": 392
    },
    "colab_type": "code",
    "id": "vbEvKkzkDPLf",
    "outputId": "b1b67fd1-b25c-44c4-eb56-47ccc40ca94b"
   },
   "outputs": [],
   "source": [
    "pattern = r'(<VERB>?<ADV>*<VERB>+)'\n",
    "doc = textacy.make_spacy_doc(mytext,lang='en_core_web_sm')\n",
    "\n",
    "verb_phrases = textacy.extract.pos_regex_matches(doc, pattern)\n",
    "\n",
    "# Print all Verb Phrase\n",
    "for chunk in verb_phrases:\n",
    "    print(chunk.text)\n",
    "\n",
    "\n",
    "# Extract Noun Phrase to explain what nouns are involved\n",
    "for chunk in doc.noun_chunks:\n",
    "    print (chunk)"
   ]
  },
  {
   "cell_type": "markdown",
   "metadata": {
    "colab_type": "text",
    "id": "hdQ3tRUuEVn8"
   },
   "source": [
    "# Rule-Based Matching Using spaCy"
   ]
  },
  {
   "cell_type": "code",
   "execution_count": null,
   "metadata": {
    "ExecuteTime": {
     "end_time": "2021-09-03T17:15:18.804551Z",
     "start_time": "2021-09-03T17:14:54.211Z"
    },
    "colab": {
     "base_uri": "https://localhost:8080/",
     "height": 34
    },
    "colab_type": "code",
    "id": "fuzQnm3zEWim",
    "outputId": "efaeb7a9-1dd3-4c47-bfe1-3de9b4d7ad83"
   },
   "outputs": [],
   "source": [
    "from spacy.matcher import Matcher\n",
    "matcher = Matcher(nlp.vocab)\n",
    "\n",
    "def extract_full_name(nlp_doc):\n",
    "    pattern = [{'POS': 'PROPN'}, {'POS': 'PROPN'}]\n",
    "    matcher.add('FULL_NAME', None, pattern)\n",
    "    matches = matcher(nlp_doc)\n",
    "    for match_id, start, end in matches:\n",
    "        span = nlp_doc[start:end]\n",
    "        return span.text\n",
    "\n",
    "extract_full_name(doc)"
   ]
  },
  {
   "cell_type": "markdown",
   "metadata": {
    "colab_type": "text",
    "id": "ycmLp9LHE0Yd"
   },
   "source": [
    "# Word vectors and similarity"
   ]
  },
  {
   "cell_type": "code",
   "execution_count": null,
   "metadata": {
    "ExecuteTime": {
     "end_time": "2021-09-03T17:15:18.807200Z",
     "start_time": "2021-09-03T17:14:54.213Z"
    },
    "colab": {},
    "colab_type": "code",
    "id": "4vQkWArRD3b7"
   },
   "outputs": [],
   "source": [
    "nlp = spacy.load(\"en_core_web_sm\")"
   ]
  },
  {
   "cell_type": "code",
   "execution_count": null,
   "metadata": {
    "ExecuteTime": {
     "end_time": "2021-09-03T17:15:18.809264Z",
     "start_time": "2021-09-03T17:14:54.215Z"
    },
    "colab": {
     "base_uri": "https://localhost:8080/",
     "height": 161
    },
    "colab_type": "code",
    "id": "o8vx6NVBE6XP",
    "outputId": "95d5cc6e-9a11-4d87-d246-978477aa1d64"
   },
   "outputs": [],
   "source": [
    "doc1 = nlp(\"I like cats\")\n",
    "doc2 = nlp(\"I like dogs\")\n",
    "# Compare 2 documents\n",
    "doc1.similarity(doc2)\n",
    "# Compare 2 tokens\n",
    "doc1[2].similarity(doc2[2])\n",
    "# Compare tokens and spans\n",
    "doc1[0].similarity(doc2[1:3])"
   ]
  },
  {
   "cell_type": "code",
   "execution_count": null,
   "metadata": {
    "ExecuteTime": {
     "end_time": "2021-09-03T17:15:18.811163Z",
     "start_time": "2021-09-03T17:14:54.216Z"
    },
    "colab": {
     "base_uri": "https://localhost:8080/",
     "height": 34
    },
    "colab_type": "code",
    "id": "iAyTIY39Fk83",
    "outputId": "b41e2a39-447f-4c90-fd65-7097a08fa0f9"
   },
   "outputs": [],
   "source": [
    "# Vector as a numpy array\n",
    "doc = nlp(\"I like cats\")\n",
    "# The L2 norm of the token's vector\n",
    "doc[2].vector\n",
    "doc[2].vector_norm"
   ]
  },
  {
   "cell_type": "markdown",
   "metadata": {
    "colab_type": "text",
    "id": "3xC8JExVGVFx"
   },
   "source": [
    "# Pipeline components"
   ]
  },
  {
   "cell_type": "code",
   "execution_count": null,
   "metadata": {
    "ExecuteTime": {
     "end_time": "2021-09-03T17:15:18.814370Z",
     "start_time": "2021-09-03T17:14:54.218Z"
    },
    "colab": {
     "base_uri": "https://localhost:8080/",
     "height": 70
    },
    "colab_type": "code",
    "id": "blW6BhAxGQAn",
    "outputId": "ebc97897-29e3-44b7-b3a5-bc91a44ca78f"
   },
   "outputs": [],
   "source": [
    "nlp.pipe_names\n",
    "# ['tagger', 'parser', 'ner']\n",
    "nlp.pipeline\n",
    "# [('tagger', <spacy.pipeline.Tagger>),\n",
    "# ('parser', <spacy.pipeline.DependencyParser>),\n",
    "# ('ner', <spacy.pipeline.EntityRecognizer>)]"
   ]
  },
  {
   "cell_type": "markdown",
   "metadata": {
    "colab": {},
    "colab_type": "code",
    "id": "zjG3d0irGYqI"
   },
   "source": [
    "# Time Taken "
   ]
  },
  {
   "cell_type": "code",
   "execution_count": null,
   "metadata": {
    "ExecuteTime": {
     "end_time": "2021-09-03T17:15:18.816674Z",
     "start_time": "2021-09-03T17:14:54.220Z"
    }
   },
   "outputs": [],
   "source": [
    "time_taken = time.time() - time_start_notebook\n",
    "h,m = divmod(time_taken,60*60)\n",
    "print('Time taken to run whole notebook: {:.0f} hr '\\\n",
    "      '{:.0f} min {:.0f} secs'.format(h, *divmod(m,60)))"
   ]
  }
 ],
 "metadata": {
  "colab": {
   "collapsed_sections": [],
   "name": "a04_text_data_modelling_spacy.ipynb",
   "provenance": []
  },
  "kernelspec": {
   "display_name": "Python37(nlp)",
   "language": "python",
   "name": "nlp"
  },
  "language_info": {
   "codemirror_mode": {
    "name": "ipython",
    "version": 3
   },
   "file_extension": ".py",
   "mimetype": "text/x-python",
   "name": "python",
   "nbconvert_exporter": "python",
   "pygments_lexer": "ipython3",
   "version": "3.7.9"
  },
  "toc": {
   "base_numbering": 1,
   "nav_menu": {},
   "number_sections": true,
   "sideBar": true,
   "skip_h1_title": false,
   "title_cell": "Table of Contents",
   "title_sidebar": "Contents",
   "toc_cell": true,
   "toc_position": {},
   "toc_section_display": true,
   "toc_window_display": false
  }
 },
 "nbformat": 4,
 "nbformat_minor": 1
}
